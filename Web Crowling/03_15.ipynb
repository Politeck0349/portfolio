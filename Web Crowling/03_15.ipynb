{
 "cells": [
  {
   "cell_type": "markdown",
   "id": "96625a96",
   "metadata": {},
   "source": [
    "- id: 문서안에서 한번만 사용\n",
    "- class: 공통적으로 적용할때 같은 이름으로 중복가능 "
   ]
  },
  {
   "cell_type": "code",
   "execution_count": 2,
   "id": "55e4cfa0",
   "metadata": {},
   "outputs": [],
   "source": [
    "html = \"\"\"\n",
    "<html>\n",
    "    <body>\n",
    "        <h1 id=\"title\">글자크기</h1>\n",
    "        <p class=\"cstyle\">원하는 글자 추출</p>\n",
    "        <p id=\"body\" align=\"center\">크롤링 수업시간</p>\n",
    "    </body>\n",
    "</html>\n",
    "\"\"\""
   ]
  },
  {
   "cell_type": "code",
   "execution_count": 3,
   "id": "ba323b1e",
   "metadata": {},
   "outputs": [],
   "source": [
    "import requests\n",
    "from bs4 import BeautifulSoup"
   ]
  },
  {
   "cell_type": "code",
   "execution_count": 5,
   "id": "4be3b508",
   "metadata": {},
   "outputs": [
    {
     "data": {
      "text/plain": [
       "\n",
       "<html>\n",
       "<body>\n",
       "<h1 id=\"title\">글자크기</h1>\n",
       "<p class=\"cstyle\">원하는 글자 추출</p>\n",
       "<p align=\"center\" id=\"body\">크롤링 수업시간</p>\n",
       "</body>\n",
       "</html>"
      ]
     },
     "execution_count": 5,
     "metadata": {},
     "output_type": "execute_result"
    }
   ],
   "source": [
    "soup = BeautifulSoup(html,\"html.parser\")\n",
    "soup"
   ]
  },
  {
   "cell_type": "code",
   "execution_count": 7,
   "id": "26bdb4f5",
   "metadata": {},
   "outputs": [],
   "source": [
    "data = soup.find(\"h1\",id=\"title\")"
   ]
  },
  {
   "cell_type": "code",
   "execution_count": 8,
   "id": "ebef4cdb",
   "metadata": {},
   "outputs": [
    {
     "data": {
      "text/plain": [
       "'글자크기'"
      ]
     },
     "execution_count": 8,
     "metadata": {},
     "output_type": "execute_result"
    }
   ],
   "source": [
    "data.text"
   ]
  },
  {
   "cell_type": "code",
   "execution_count": 10,
   "id": "541aa3bd",
   "metadata": {},
   "outputs": [
    {
     "data": {
      "text/plain": [
       "'크롤링 수업시간'"
      ]
     },
     "execution_count": 10,
     "metadata": {},
     "output_type": "execute_result"
    }
   ],
   "source": [
    "data1 = soup.find(\"p\",id=\"body\")\n",
    "data1.text"
   ]
  },
  {
   "cell_type": "code",
   "execution_count": 12,
   "id": "cabbcf8d",
   "metadata": {},
   "outputs": [
    {
     "data": {
      "text/plain": [
       "'원하는 글자 추출'"
      ]
     },
     "execution_count": 12,
     "metadata": {},
     "output_type": "execute_result"
    }
   ],
   "source": [
    "data2 = soup.find('p','cstyle')\n",
    "data2.text"
   ]
  },
  {
   "cell_type": "code",
   "execution_count": 13,
   "id": "5d754b5c",
   "metadata": {},
   "outputs": [
    {
     "data": {
      "text/plain": [
       "'크롤링 수업시간'"
      ]
     },
     "execution_count": 13,
     "metadata": {},
     "output_type": "execute_result"
    }
   ],
   "source": [
    "data3 = soup.find('p',attrs={'align':'center'})\n",
    "data3.text"
   ]
  },
  {
   "cell_type": "code",
   "execution_count": 16,
   "id": "8428db9c",
   "metadata": {},
   "outputs": [
    {
     "name": "stdout",
     "output_type": "stream",
     "text": [
      "지하철·버스 등 대중교통 마스크 착용 의무 20일 해제\n"
     ]
    }
   ],
   "source": [
    "import requests\n",
    "from bs4 import BeautifulSoup\n",
    "res = requests.get('https://v.daum.net/v/20230315090306578')\n",
    "soup = BeautifulSoup(res.content, 'html.parser')\n",
    "title = soup.find('h3',class_='tit_view')\n",
    "print(title.get_text())"
   ]
  },
  {
   "cell_type": "code",
   "execution_count": 21,
   "id": "0863f9f0",
   "metadata": {},
   "outputs": [
    {
     "name": "stdout",
     "output_type": "stream",
     "text": [
      "미국 달러 :  1,305.20\n"
     ]
    }
   ],
   "source": [
    "res = requests.get('https://finance.naver.com/marketindex/')\n",
    "soup = BeautifulSoup(res.content, 'html.parser')\n",
    "title = soup.find('span',class_='value')\n",
    "print(\"미국 달러 : \",title.get_text())"
   ]
  },
  {
   "cell_type": "markdown",
   "id": "c0d8833d",
   "metadata": {},
   "source": [
    "- 제목과 뉴스 내용 가져오기"
   ]
  },
  {
   "cell_type": "code",
   "execution_count": 63,
   "id": "27d3ad63",
   "metadata": {},
   "outputs": [
    {
     "name": "stdout",
     "output_type": "stream",
     "text": [
      "\"20일부터 대중교통·마트 안 약국 마스크 착용 의무 해제\" \n",
      "\n",
      "\n",
      "\n",
      "\n",
      "            〈자료사진=JTBC 방송화면 캡처〉\n",
      "           \n",
      "\n",
      "\n",
      "           정부가 버스와 지하철 등 대중교통에 대한 마스크 착용 의무를 오는 20일부터 해제합니다.\n",
      "          \n",
      "한창섭 중앙재난안전대책본부(중대본) 제2차장(행정안전부 장관 직무대행)은 오늘(15일) 중대본 회의에서 이같이 밝혔습니다.\n",
      "다만 \"혼잡 시간대 대중교통 이용자와 고위험군, 유증상자는 마스크 착용을 적극 권고한다\"고 말했습니다.\n",
      "정부는 또 대중교통뿐만 아니라 마트나 역사 등 대형시설 안에 있는 개방형 약국에 대해서도 마스크 착용 의무를 추가로 해제합니다.\n",
      "일반 약국에 대해선 의심 증상자와 고위험군 이용 가능성을 고려해 마스크 착용 의무를 유지하기로 했습니다.\n",
      "한 제2차장은 코로나19 상황에 대해 \"지난주 일 평균 확진자 수는 1만 58명으로 전주 대비 7.4% 늘어 11주 만에 증가세로 전환됐다\"면서도 \"고위험군과 60세 이상 확진자는 11주 연속 줄었고 사망자도 5주 연속 줄어든 것으로 나타났다\"고 설명했습니다.\n",
      "그러면서 \"지난 1월 30일 실내 마스크 착용 의무를 조정한 이후 일 평균 확진자는 38%, 신규 위중증 환자는 55% 줄었다\"며 \"신규 변이도 발생하지 않는 등 방역 상황은 안정적인 것으로 판단한다\"고 덧붙였습니다.\n",
      "이와 함께 정부는 2020년 1월 중단했던 한중 국제여객선의 여객 운송도 20일부터 순차적으로 재개합니다.\n",
      "\n",
      "\n"
     ]
    }
   ],
   "source": [
    "import requests\n",
    "from bs4 import BeautifulSoup\n",
    "res = requests.get('https://v.daum.net/v/20230315093926020')\n",
    "soup = BeautifulSoup(res.content, 'html.parser')\n",
    "title = soup.find('title').text\n",
    "content = soup.find('div','article_view').text\n",
    "print(title,content)"
   ]
  },
  {
   "cell_type": "code",
   "execution_count": 79,
   "id": "813901f4",
   "metadata": {},
   "outputs": [
    {
     "name": "stdout",
     "output_type": "stream",
     "text": [
      " 한류경 기자 입력 2023. 3. 15. 09:39 수정 2023. 3. 15. 10:16\n",
      "\n"
     ]
    }
   ],
   "source": [
    "data = soup.find_all('div','info_view')\n",
    "for i in data:\n",
    "    print(i.text)"
   ]
  },
  {
   "cell_type": "code",
   "execution_count": 48,
   "id": "c1c7b3b2",
   "metadata": {},
   "outputs": [
    {
     "data": {
      "text/plain": [
       "'python is fun'"
      ]
     },
     "execution_count": 48,
     "metadata": {},
     "output_type": "execute_result"
    }
   ],
   "source": [
    "s = \"      python is fun      \"\n",
    "s.strip()"
   ]
  },
  {
   "cell_type": "code",
   "execution_count": 49,
   "id": "6d7c3545",
   "metadata": {},
   "outputs": [
    {
     "data": {
      "text/plain": [
       "'python is fun      '"
      ]
     },
     "execution_count": 49,
     "metadata": {},
     "output_type": "execute_result"
    }
   ],
   "source": [
    "s.lstrip()"
   ]
  },
  {
   "cell_type": "code",
   "execution_count": 50,
   "id": "047ba8f8",
   "metadata": {},
   "outputs": [
    {
     "data": {
      "text/plain": [
       "'      python is fun'"
      ]
     },
     "execution_count": 50,
     "metadata": {},
     "output_type": "execute_result"
    }
   ],
   "source": [
    "s.rstrip()"
   ]
  },
  {
   "cell_type": "markdown",
   "id": "a186a7d6",
   "metadata": {},
   "source": [
    "#### CSS선택사용\n",
    "- select_one(선택자):선택요소를 하나를 추출\n",
    "- select(선택자): 선택자로 요소 여러개를 리스트로 추출하고 싶을때"
   ]
  },
  {
   "cell_type": "code",
   "execution_count": 80,
   "id": "1fdd46e5",
   "metadata": {},
   "outputs": [],
   "source": [
    "html = \"\"\"\n",
    "<html>\n",
    "<body id=\"me\">\n",
    "<div id=\"smart\">\n",
    "      <h1 id=\"title\">스마트 미디어 도서</h1>\n",
    "      <ul class=\"items\">\n",
    "          <li>파이썬입문</li>\n",
    "          <li>머신러닝</li>\n",
    "          <li>딥러닝입문</li>\n",
    "      </ul>\n",
    " </div> \n",
    "</body>\n",
    "</html>\n",
    "\"\"\""
   ]
  },
  {
   "cell_type": "code",
   "execution_count": 87,
   "id": "df8a51d5",
   "metadata": {},
   "outputs": [],
   "source": [
    "import requests\n",
    "from bs4 import BeautifulSoup\n",
    "soup = BeautifulSoup(html,\"html.parser\")"
   ]
  },
  {
   "cell_type": "code",
   "execution_count": 111,
   "id": "49b21586",
   "metadata": {
    "scrolled": true
   },
   "outputs": [
    {
     "name": "stdout",
     "output_type": "stream",
     "text": [
      "[<li>파이썬입문</li>, <li>머신러닝</li>, <li>딥러닝입문</li>]\n",
      "파이썬입문, 머신러닝, 딥러닝입문, 파이썬입문,머신러닝,딥러닝입문\n"
     ]
    }
   ],
   "source": [
    "data = soup.select('div > ul > li')\n",
    "for i in data:\n",
    "    print(i.text, end=', ')\n",
    "print(','.join([i.text for i in data]))\n"
   ]
  },
  {
   "cell_type": "code",
   "execution_count": 103,
   "id": "a352afdd",
   "metadata": {},
   "outputs": [
    {
     "name": "stdout",
     "output_type": "stream",
     "text": [
      "스마트 미디어 도서\n"
     ]
    }
   ],
   "source": [
    "data2 = soup.select_one('#smart > h1').text\n",
    "print(data2)"
   ]
  },
  {
   "cell_type": "code",
   "execution_count": 130,
   "id": "7dbb02e8",
   "metadata": {},
   "outputs": [],
   "source": [
    "html2=\"\"\"\n",
    "<html >\n",
    "<body>\n",
    "    <h1>시장에서 사야할 과일 목록</h1>\n",
    "    <div>\n",
    "        <p id=\"fruits1\" class=\"name1\">바나나\n",
    "            <span class=\"price\">3000</span>\n",
    "            <span class=\"count\">10개</span>\n",
    "            <span> <a href=\"http://www.banana.com\">banana.com</a></span>\n",
    "        </p>\n",
    "    </div>\n",
    "    <div>\n",
    "        <p id=\"fruits2\" class=\"name2\">채라\n",
    "            <span class=\"price\">2000</span>\n",
    "            <span class=\"count\">5개</span>\n",
    "            <span> <a href=\"http://www.cherry.com\">cherry.com</a></span>\n",
    "        </p>\n",
    "    </div>\n",
    "</body>\n",
    "</html>\n",
    "\"\"\""
   ]
  },
  {
   "cell_type": "code",
   "execution_count": 131,
   "id": "4c356dbc",
   "metadata": {},
   "outputs": [
    {
     "name": "stdout",
     "output_type": "stream",
     "text": [
      "3000,10개, banana.com,2000,5개, cherry.com\n"
     ]
    }
   ],
   "source": [
    "soup = BeautifulSoup(html2,'html.parser')\n",
    "data3 = soup.select('div > p > span')\n",
    "print(','.join([i.text for i in data3]))"
   ]
  },
  {
   "cell_type": "markdown",
   "id": "3ec9bc63",
   "metadata": {},
   "source": [
    "- select('태그명[속성1]')"
   ]
  },
  {
   "cell_type": "code",
   "execution_count": 136,
   "id": "9f01173d",
   "metadata": {},
   "outputs": [
    {
     "name": "stdout",
     "output_type": "stream",
     "text": [
      "[<a href=\"http://www.banana.com\">banana.com</a>, <a href=\"http://www.cherry.com\">cherry.com</a>], "
     ]
    }
   ],
   "source": [
    "print(soup.select('a[href]'),end=',')"
   ]
  }
 ],
 "metadata": {
  "kernelspec": {
   "display_name": "Python 3 (ipykernel)",
   "language": "python",
   "name": "python3"
  },
  "language_info": {
   "codemirror_mode": {
    "name": "ipython",
    "version": 3
   },
   "file_extension": ".py",
   "mimetype": "text/x-python",
   "name": "python",
   "nbconvert_exporter": "python",
   "pygments_lexer": "ipython3",
   "version": "3.9.13"
  }
 },
 "nbformat": 4,
 "nbformat_minor": 5
}
