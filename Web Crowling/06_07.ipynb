{
 "cells": [
  {
   "cell_type": "code",
   "execution_count": 66,
   "id": "9613762e",
   "metadata": {},
   "outputs": [],
   "source": [
    "from selenium import webdriver  as wb\n",
    "from selenium.webdriver.common.keys import Keys\n",
    "from selenium.webdriver.common.by import By\n",
    "import pyperclip\n",
    "import time\n",
    "import pandas as pd\n",
    "from bs4 import BeautifulSoup as bs"
   ]
  },
  {
   "cell_type": "code",
   "execution_count": 41,
   "id": "a1aa0d14",
   "metadata": {},
   "outputs": [],
   "source": [
    "driver = wb.Chrome()\n",
    "driver.get(\"http://www.naver.com\")\n",
    "time.sleep(2)"
   ]
  },
  {
   "cell_type": "code",
   "execution_count": 42,
   "id": "ce4c62fd",
   "metadata": {},
   "outputs": [],
   "source": [
    "#1. 키워드를 '인공지능' 입력하고 클릭\n",
    "search=driver.find_element(By.ID,'query')\n",
    "search.send_keys('인공지능')\n",
    "search.send_keys(Keys.ENTER)\n",
    "#search.submit() # click과 같음\n",
    "time.sleep(1)"
   ]
  },
  {
   "cell_type": "code",
   "execution_count": 43,
   "id": "e3ca2983",
   "metadata": {},
   "outputs": [],
   "source": [
    "#2. VIEW 메뉴를 클릭, xpath 사용\n",
    "# #lnb > div.lnb_group > div > ul > li:nth-child(6) > a\n",
    "view = driver.find_element(By.XPATH, '//*[@id=\"lnb\"]/div[1]/div/ul/li[6]/a')\n",
    "view.click()"
   ]
  },
  {
   "cell_type": "code",
   "execution_count": 44,
   "id": "bbe90e86",
   "metadata": {},
   "outputs": [],
   "source": [
    "#3. VIEW 메뉴 중에서 블로그 클릭, xpath 사용\n",
    "# //*[@id=\"snb\"]/div[1]/div/div[1]/a[2]\n",
    "blog = driver.find_element(By.XPATH, '//*[@id=\"snb\"]/div[1]/div/div[1]/a[2]')\n",
    "blog.click()"
   ]
  },
  {
   "cell_type": "code",
   "execution_count": 45,
   "id": "317aead6",
   "metadata": {},
   "outputs": [],
   "source": [
    "#4. 옵션 클릭, xpath 사용\n",
    "# //*[@id=\"snb\"]/div[1]/div/div[2]/a\n",
    "option = driver.find_element(By.XPATH, '//*[@id=\"snb\"]/div[1]/div/div[2]/a')\n",
    "option.click()"
   ]
  },
  {
   "cell_type": "code",
   "execution_count": 46,
   "id": "5c4c5111",
   "metadata": {},
   "outputs": [],
   "source": [
    "#5. 정렬에 최신순 클릭\n",
    "# //*[@id=\"snb\"]/div[2]/ul/li[2]/div/div/a[2]\n",
    "new = driver.find_element(By.XPATH, '//*[@id=\"snb\"]/div[2]/ul/li[2]/div/div/a[2]')\n",
    "new.click()"
   ]
  },
  {
   "cell_type": "code",
   "execution_count": 47,
   "id": "a8d63319",
   "metadata": {},
   "outputs": [],
   "source": [
    "html=driver.page_source\n",
    "soup=bs(html, 'html.parser')"
   ]
  },
  {
   "cell_type": "code",
   "execution_count": 48,
   "id": "d46bb3da",
   "metadata": {},
   "outputs": [
    {
     "data": {
      "text/plain": [
       "30"
      ]
     },
     "execution_count": 48,
     "metadata": {},
     "output_type": "execute_result"
    }
   ],
   "source": [
    "# 게시글 제목 가져오기\n",
    "title=soup.find_all('a','api_txt_lines total_tit')\n",
    "len(title)"
   ]
  },
  {
   "cell_type": "code",
   "execution_count": 49,
   "id": "afccdd8b",
   "metadata": {},
   "outputs": [
    {
     "data": {
      "text/plain": [
       "30"
      ]
     },
     "execution_count": 49,
     "metadata": {},
     "output_type": "execute_result"
    }
   ],
   "source": [
    "# 게시글 내용 가져오기\n",
    "detail=soup.find_all('div', 'api_txt_lines dsc_txt')\n",
    "len(detail)"
   ]
  },
  {
   "cell_type": "code",
   "execution_count": 50,
   "id": "6dabaedd",
   "metadata": {},
   "outputs": [
    {
     "name": "stdout",
     "output_type": "stream",
     "text": [
      "이와 더불어 수집된 모바일 빅데이터를 고도화한 인공지능(AI) 알고리즘을... 네이버 관계자는 \"초거대 AI(인공지능) 기술 개발로 기존 검색엔진 시장의 규칙이... \n",
      "I(인공지능시스템)을 통한, 적재적소의 정보공유 및 발주 배차 시스템으로 한 단계 업그레이드된 서비스 배포에 노력하고 있습니다. 화주는 물류혁신과 원가 절감을... \n",
      "안녕하세요 템지기롱이입니다아 반가워요 오늘은 수요일이네요 휴일동안 충전한 에너지를 통해 남은 이번주도 힘차게 달려볼까요오 오늘도 행복한하루 되세요 오늘... \n",
      "6일 자유시보 등 대만 언론에 따르면 한 소식통은 TSMC가 첨단 인공지능(AI)시스템을 사용해 반도체 생산 시 에너지 효율 개선을 가속할 것이라며 이같이... \n",
      "구글은 효율적이고 자동 회귀적이지 않은 오디오 생성을 위한 최첨단 모델인 사운드스톰을 통해 인공지능 기술의 최신 혁신을 선보였다. 다양한 목소리로... \n",
      "생성형 인공지능이 혼자 사는 노인 등에 안부를 묻고, 필요하면... 이 서비스는 인공지능 상담원이 주 1회 서비스 대상 노인의 휴대전화로 안부 전화를 걸어... \n",
      "안성민 부산시의회 의장과 신현석 부산연구원장의 인사말로 시작된 이날 정책토론회에서는 김준하 광주과학기술원 인공지능산업융합단장이 ‘Generative... \n",
      "국제통화기금(IMF) 내 2인자 기타 고피나트 수석부총재(사진)가 인공지능(AI) 발달이 미래 인류 노동시장에 상당한 혼란을 불러일으킬 수 있다고 경고했다. 그는 이... \n",
      "+ 테슬라는 자동차 제조 기업으로만 볼 수 없습니다 인공지능 기업이며 (자율주행 SW 등) 로봇 개발 기업이며 (휴머노이드) 에너지 기업입니다 (ESS, 태양광 패널 등)... \n",
      "전문가의 말으론 더이상 발전할수 없은 단계까지 와 현실을 슬기롭게 해처 나아가야 한다 하고 인공지능이 발달하여 얼마 가지안아 직업도 반으로 줄어든다 하니... \n",
      "엔비디아의 인공지능(AI) 반도체로 시작된 투자심리 개선도 이어질 것이라는 판단이다. 정연우 대신증권 리서치센터장은 “메모리 반도체 업황 저점 통과 가시화와... \n",
      "피셔테크닉 구동원리 키트는 '프로그래밍의 기본 원리를 학습'할 수 있는 키트로 자율주행로봇, 차단기, 세탁기, 냉장고, 등대, 신호등, 컨베이어벨트, 핸드 드라이기... \n",
      "인공지능 뉴스 2023.06.07 [연합뉴스] 구글-과기정통부, 대한민국 인공지능 위크 내달 개최 대한민국 인공지능 경쟁력 강화 기여 및 국내 ICT 기업들의 글로벌... \n",
      "최근 미국 변호사 시험(UBE)에서 GPT-4의 성능을 조사한 결과, 모델의 성공률에 대한 OpenAI의 주장의 정확성에 대한 의문이 제기되었습니다. GPT-4가 90%의 개인을... \n",
      "(DT) 인공지능(AI)학원 소프트웨어, 블록체인학원, 엑셀VBA, 파이썬 머신러닝, 딥러닝, 웹크롤링, 웹스크래핑, 메타버스 코딩학원, 어린이 코딩학원, 코딩교육... \n",
      "그는 대학의 미래, 급변하는 인공지능 세상, 나아가 21세기 문명에 대해 새로운 통찰과 아이디어를 발신(發信)한다. 무슨 저력으로 그렇게 발신하는가? 이름 앞에 항상... \n",
      "창의력을 끌어내는 생각 시스템만 알면 지능지수, 나이와 상관없이 누구나 습득할... 대표하는 인공지능 전문가들이 개발도구로 활용하는 등 다양한 분야에 확산하고... \n",
      "S500 4MATIC은 최첨단 기술과 지능적인 디자인의 완벽한 융합을 자랑합니다.... 또한, 인공 지능 기술과 연결성을 강화하여 스마트한 드라이빙과 편리한... \n",
      "페이스아이디 #인공지능#CCTV #인타임#안면인식기#안면인식#얼굴인식기#얼굴인식 #지문인식기#지문인식#건설근로자#근로자#건축현장 #건축#타워크레인#건설노동자... \n",
      "인공지능 등 신사업 M&A 통한 사업 확장 검토 중 차세대 포트폴리오 ▶ 항체약물접합체(ADC) 내년 생산을 목표로 전용 공장 건설 중 23. 6월 기준 누적 수주액... \n",
      "5단계 인공지능 스마트케어 패턴학습,상황학습 절전 쾌적절전 O 인공지능 듀얼인버터 전력량 표시 에너지 소비효율등급 2등급 제습 강력제습 O 편리 펫케어 O... \n",
      "예약 과정에서부터 공항 이용은 물론 항공여행에 이르기까지 인공지능 기술을 비롯한 최신 기술을 과감히 도입해 광범위한 예방 조치를 시행하고 있으며 업계... \n",
      "하지만 적어도 일부 직업은 인공지능의 추월 가능성을 두려워할 필요가 없다. 뉴욕 타임즈의 보도에 따르면, 뉴욕의 변호사 스티븐 슈워츠는 최근 법률 요약서... \n",
      "반도체, 인공지능, 빅데이터 등 최신 과정만 엄선하여 전문강사 배정 등... (48회차) ▲인공지능 모델러 설계(36회차) ▲빅데이터 입문(41회차) ▲자율주행차(30회차)... \n",
      "및 인공지능 기반 미래 모빌리티 연구와 데이터 생태계 활성화에 기여하고자... 양 기관은 빅데이터 및 인공지능 기반 미래 모빌리티 관련 공동연구수행, 기관... \n",
      "있는 지능을 가진 시스템을 만드는 공학을 뜻한다. 현재 빅데이터 기술과... ⑧ 우주·항공 ‘우주·항공 산업’은 인공위성과 로켓, 인공지능 등 각종 분야를... \n",
      "구글 AI 기반 검색 기능, 느리고 광고 난무 혹평 구글이 최근 도입한 인공지능(AI)... 카피라이터 잘렸다 인공지능(AI)이 사람의 일을 뺏기 시작했다. 기계로는 대체가... \n",
      "-덱스터, 라온텍, 맥스트, 자이언트스텝, 포바이포, 엔피 네이버·KT, 정부 ‘초거대 AI 생태계 구축’ 사업 공급자 됐다 정부가 5일 초거대 인공지능(AI) 생태계 구축... \n",
      "구글 AI 기반 검색 기능, 느리고 광고 난무 혹평 구글의 새로 도입한 인공지능(AI)... 카피라이터 잘렸다 최근에는 인공지능(AI)이 사람의 일자리를 대체하기 시작하여... \n",
      "SH가 전세물색, 권리분석, 전세계약을 진행하고 AI(인공지능)가 임차인에게 좋은 물건을 추천하는 식으로 중개가 이뤄진다. 전세임대 전용 대출상품도 개발한다. 현재... \n"
     ]
    }
   ],
   "source": [
    "for i in detail:\n",
    "    print(i.text)"
   ]
  },
  {
   "cell_type": "code",
   "execution_count": 51,
   "id": "ea2d4231",
   "metadata": {},
   "outputs": [
    {
     "data": {
      "text/plain": [
       "30"
      ]
     },
     "execution_count": 51,
     "metadata": {},
     "output_type": "execute_result"
    }
   ],
   "source": [
    "# 작성자 가져오기\n",
    "writer=soup.find_all('a', 'sub_txt sub_name')\n",
    "len(writer)"
   ]
  },
  {
   "cell_type": "code",
   "execution_count": 52,
   "id": "a09ea893",
   "metadata": {},
   "outputs": [
    {
     "name": "stdout",
     "output_type": "stream",
     "text": [
      "skyformat님의 블로그\n",
      "전국화물.퀵 국제종합물류\n",
      "테크M\n",
      "Vrai\n",
      "크리스앤파트너스 공식블로그\n",
      "준호 사랑\n",
      "bdinews\n",
      "냉철한 이성 따뜻한 가슴\n",
      "아따빵빵의 부자되는 소소한 보금자리\n",
      "대영공예 블로그\n",
      "링크의 뉴스토픽\n",
      "스마트팩토리/창의융합/메이커교육 전문업체\n",
      "인피닉 공식 블로그\n",
      "크리스앤파트너스 공식블로그\n",
      "압구정_메디_에듀******\n",
      "일곱송이 수선화\n",
      "살아가는 힘이 되는 책\n",
      "rkdqo81님의 블로그\n",
      "출역관리센터 인타임 수도권 1센터\n",
      "모두의 경제산책\n",
      "쿠틸소듐이디\n",
      "세계여행신문 Global Travel News\n",
      "크리스앤파트너스 공식블로그\n",
      "스마트 직업훈련 플랫폼 STEP\n",
      "wooya_man_신혼부부의 청년 일상~~\n",
      "K-Startup 공식 블로그\n",
      "코너스톤브릿지\n",
      "경제야 놀자\n",
      "# 가만히 잘 번다\n",
      "걸어서 지구 한바퀴\n"
     ]
    }
   ],
   "source": [
    "for i in writer:\n",
    "    print(i.text)"
   ]
  },
  {
   "cell_type": "code",
   "execution_count": 59,
   "id": "29082f94",
   "metadata": {},
   "outputs": [],
   "source": [
    "blog_list= soup.find_all('div','sub_time sub_txt')"
   ]
  },
  {
   "cell_type": "code",
   "execution_count": 60,
   "id": "da90d794",
   "metadata": {},
   "outputs": [
    {
     "data": {
      "text/plain": [
       "0"
      ]
     },
     "execution_count": 60,
     "metadata": {},
     "output_type": "execute_result"
    }
   ],
   "source": [
    "len(blog_list)"
   ]
  },
  {
   "cell_type": "code",
   "execution_count": 53,
   "id": "568477a3",
   "metadata": {},
   "outputs": [
    {
     "ename": "KeyboardInterrupt",
     "evalue": "",
     "output_type": "error",
     "traceback": [
      "\u001b[1;31m---------------------------------------------------------------------------\u001b[0m",
      "\u001b[1;31mKeyboardInterrupt\u001b[0m                         Traceback (most recent call last)",
      "\u001b[1;32m~\\AppData\\Local\\Temp\\ipykernel_13996\\3308553562.py\u001b[0m in \u001b[0;36m<module>\u001b[1;34m\u001b[0m\n\u001b[0;32m      1\u001b[0m \u001b[1;32mfor\u001b[0m \u001b[0mi\u001b[0m \u001b[1;32min\u001b[0m \u001b[0mrange\u001b[0m\u001b[1;33m(\u001b[0m\u001b[1;36m8\u001b[0m\u001b[1;33m)\u001b[0m\u001b[1;33m:\u001b[0m\u001b[1;33m\u001b[0m\u001b[1;33m\u001b[0m\u001b[0m\n\u001b[0;32m      2\u001b[0m     \u001b[0mdriver\u001b[0m\u001b[1;33m.\u001b[0m\u001b[0mexecute_script\u001b[0m\u001b[1;33m(\u001b[0m\u001b[1;34m\"window.scrollTo(0,document.body.scrollHeight)\"\u001b[0m\u001b[1;33m)\u001b[0m\u001b[1;33m\u001b[0m\u001b[1;33m\u001b[0m\u001b[0m\n\u001b[1;32m----> 3\u001b[1;33m     \u001b[0mtime\u001b[0m\u001b[1;33m.\u001b[0m\u001b[0msleep\u001b[0m\u001b[1;33m(\u001b[0m\u001b[1;36m3\u001b[0m\u001b[1;33m)\u001b[0m\u001b[1;33m\u001b[0m\u001b[1;33m\u001b[0m\u001b[0m\n\u001b[0m",
      "\u001b[1;31mKeyboardInterrupt\u001b[0m: "
     ]
    }
   ],
   "source": [
    "for i in range(5):\n",
    "    driver.execute_script(\"window.scrollTo(0,document.body.scrollHeight)\")\n",
    "    time.sleep(3)"
   ]
  },
  {
   "cell_type": "markdown",
   "id": "6040f91b",
   "metadata": {},
   "source": [
    "### 파일 생성하기\n",
    "- 파일객체 = open(\"파일이름\",\"w\")\n",
    "- 파일열기모드\n",
    "    - r:잃기 모드, a:추가모드\n",
    "        - f = open(\"새파일이름\",\"W\")\n",
    "        - f.close()"
   ]
  },
  {
   "cell_type": "code",
   "execution_count": 38,
   "id": "e131e5b5",
   "metadata": {},
   "outputs": [],
   "source": [
    "f = open(\"test.txt\",\"w\")"
   ]
  },
  {
   "cell_type": "code",
   "execution_count": 39,
   "id": "a969bff0",
   "metadata": {},
   "outputs": [
    {
     "data": {
      "text/plain": [
       "12"
      ]
     },
     "execution_count": 39,
     "metadata": {},
     "output_type": "execute_result"
    }
   ],
   "source": [
    "f.write(\"폴리텍 대학 ai융합과\")\n",
    "f.write(\"2211110000 납\")"
   ]
  },
  {
   "cell_type": "code",
   "execution_count": 40,
   "id": "06e8c55f",
   "metadata": {},
   "outputs": [],
   "source": [
    "f.close()"
   ]
  },
  {
   "cell_type": "code",
   "execution_count": 28,
   "id": "b8dd118d",
   "metadata": {},
   "outputs": [
    {
     "name": "stdout",
     "output_type": "stream",
     "text": [
      "폴리텍 대학 ai융합과2211110000 납\n"
     ]
    }
   ],
   "source": [
    "f = open('test.txt','r')\n",
    "data = f.read()\n",
    "print(data)\n",
    "f.close()"
   ]
  },
  {
   "cell_type": "code",
   "execution_count": 92,
   "id": "df5ff08c",
   "metadata": {
    "scrolled": true
   },
   "outputs": [
    {
     "name": "stdout",
     "output_type": "stream",
     "text": [
      "=========blog_list============================================================\n",
      "번호 :1\n",
      "제목:구글 진격에 흔들리는 카톡 · 네이버…카톡, 유튜브에 추월 위기\n",
      "내용:이와 더불어 수집된 모바일 빅데이터를 고도화한 인공지능(AI) 알고리즘을... 네이버 관계자는 \"초거대 AI(인공지능) 기술 개발로 기존 검색엔진 시장의 규칙이... \n",
      "작성자:skyformat님의 블로그\n",
      "\n",
      "게시글작성일:3분 전\n",
      "\n",
      "번호 :2\n",
      "제목:신도림동퀵 장암동퀵 금창동퀵운송 소사본동퀵서비스... \n",
      "내용:I(인공지능시스템)을 통한, 적재적소의 정보공유 및 발주 배차 시스템으로 한 단계 업그레이드된 서비스 배포에 노력하고 있습니다. 화주는 물류혁신과 원가 절감을... \n",
      "작성자:전국화물.퀵 국제종합물류\n",
      "\n",
      "게시글작성일:4분 전\n",
      "\n",
      "번호 :3\n",
      "제목:[템지기's Pick] [테크M 리포트] 디지털 전환 바람에 신사업... \n",
      "내용:안녕하세요 템지기롱이입니다아 반가워요 오늘은 수요일이네요 휴일동안 충전한 에너지를 통해 남은 이번주도 힘차게 달려볼까요오 오늘도 행복한하루 되세요 오늘... \n",
      "작성자:테크M\n",
      "\n",
      "게시글작성일:4분 전\n",
      "\n",
      "번호 :4\n",
      "제목:[국내증시&해외증시] 6월 7일 수요일 오늘의 주요 경제 뉴스... \n",
      "내용:6일 자유시보 등 대만 언론에 따르면 한 소식통은 TSMC가 첨단 인공지능(AI)시스템을 사용해 반도체 생산 시 에너지 효율 개선을 가속할 것이라며 이같이... \n",
      "작성자:Vrai\n",
      "\n",
      "게시글작성일:5분 전\n",
      "\n",
      "번호 :5\n",
      "제목:[SMW Vol.10] Ep.4 사운드스톰: 구글, 실시간 음성 복제가... \n",
      "내용:구글은 효율적이고 자동 회귀적이지 않은 오디오 생성을 위한 최첨단 모델인 사운드스톰을 통해 인공지능 기술의 최신 혁신을 선보였다. 다양한 목소리로... \n",
      "작성자:크리스앤파트너스 공식블로그\n",
      "\n",
      "게시글작성일:5분 전\n",
      "\n",
      "번호 :6\n",
      "제목:관심가는 오늘의 뉴스 - 2023. 6. 7.(수)\n",
      "내용:생성형 인공지능이 혼자 사는 노인 등에 안부를 묻고, 필요하면... 이 서비스는 인공지능 상담원이 주 1회 서비스 대상 노인의 휴대전화로 안부 전화를 걸어... \n",
      "작성자:준호 사랑\n",
      "\n",
      "게시글작성일:5분 전\n",
      "\n",
      "번호 :7\n",
      "제목:부산연구원, '챗GPT 현황과 전망 모색을 위한 정책토론회... \n",
      "내용:안성민 부산시의회 의장과 신현석 부산연구원장의 인사말로 시작된 이날 정책토론회에서는 김준하 광주과학기술원 인공지능산업융합단장이 ‘Generative... \n",
      "작성자:bdinews\n",
      "\n",
      "게시글작성일:5분 전\n",
      "\n",
      "번호 :8\n",
      "제목:\"AI, 고용에 상당히 파괴적\" IMF 경고\n",
      "내용:국제통화기금(IMF) 내 2인자 기타 고피나트 수석부총재(사진)가 인공지능(AI) 발달이 미래 인류 노동시장에 상당한 혼란을 불러일으킬 수 있다고 경고했다. 그는 이... \n",
      "작성자:냉철한 이성 따뜻한 가슴\n",
      "\n",
      "게시글작성일:6분 전\n",
      "\n",
      "번호 :9\n",
      "제목:테슬라, 애플이 걸어온 길을 갈 것 2편\n",
      "내용:+ 테슬라는 자동차 제조 기업으로만 볼 수 없습니다 인공지능 기업이며 (자율주행 SW 등) 로봇 개발 기업이며 (휴머노이드) 에너지 기업입니다 (ESS, 태양광 패널 등)... \n",
      "작성자:아따빵빵의 부자되는 소소한 보금자리\n",
      "\n",
      "게시글작성일:6분 전\n",
      "\n",
      "번호 :10\n",
      "제목:#원목로구로가구다리. #와우드. #원목로구로 원목 사진액자... \n",
      "내용:전문가의 말으론 더이상 발전할수 없은 단계까지 와 현실을 슬기롭게 해처 나아가야 한다 하고 인공지능이 발달하여 얼마 가지안아 직업도 반으로 줄어든다 하니... \n",
      "작성자:대영공예 블로그\n",
      "\n",
      "게시글작성일:6분 전\n",
      "\n",
      "번호 :11\n",
      "제목:\"실적개선에 AI바람 타고…3분기, 8만전자가 온다\"\n",
      "내용:엔비디아의 인공지능(AI) 반도체로 시작된 투자심리 개선도 이어질 것이라는 판단이다. 정연우 대신증권 리서치센터장은 “메모리 반도체 업황 저점 통과 가시화와... \n",
      "작성자:링크의 뉴스토픽\n",
      "\n",
      "게시글작성일:6분 전\n",
      "\n",
      "번호 :12\n",
      "제목:피셔테크닉 구동원리 키트\n",
      "내용:피셔테크닉 구동원리 키트는 '프로그래밍의 기본 원리를 학습'할 수 있는 키트로 자율주행로봇, 차단기, 세탁기, 냉장고, 등대, 신호등, 컨베이어벨트, 핸드 드라이기... \n",
      "작성자:스마트팩토리/창의융합/메이커교육 전문업체\n",
      "\n",
      "게시글작성일:6분 전\n",
      "\n",
      "번호 :13\n",
      "제목:데일리뉴스모니터링_20230607\n",
      "내용:인공지능 뉴스 2023.06.07 [연합뉴스] 구글-과기정통부, 대한민국 인공지능 위크 내달 개최 대한민국 인공지능 경쟁력 강화 기여 및 국내 ICT 기업들의 글로벌... \n",
      "작성자:인피닉 공식 블로그\n",
      "\n",
      "게시글작성일:7분 전\n",
      "\n",
      "번호 :14\n",
      "제목:[SMW Vol.10] Ep.3 미국 변호사 시험에서 GPT-4의 성과는 그... \n",
      "내용:최근 미국 변호사 시험(UBE)에서 GPT-4의 성능을 조사한 결과, 모델의 성공률에 대한 OpenAI의 주장의 정확성에 대한 의문이 제기되었습니다. GPT-4가 90%의 개인을... \n",
      "작성자:크리스앤파트너스 공식블로그\n",
      "\n",
      "게시글작성일:7분 전\n",
      "\n",
      "번호 :15\n",
      "제목:강남 신사동 압구정역 현대고 인근 국제학교 유학생 전용 단기... \n",
      "내용:(DT) 인공지능(AI)학원 소프트웨어, 블록체인학원, 엑셀VBA, 파이썬 머신러닝, 딥러닝, 웹크롤링, 웹스크래핑, 메타버스 코딩학원, 어린이 코딩학원, 코딩교육... \n",
      "작성자:압구정_메디_에듀******\n",
      "\n",
      "게시글작성일:7분 전\n",
      "\n",
      "번호 :16\n",
      "제목:'뺨 맞은 식민지 소녀' 이길여, 21세기 길을 말하다\n",
      "내용:그는 대학의 미래, 급변하는 인공지능 세상, 나아가 21세기 문명에 대해 새로운 통찰과 아이디어를 발신(發信)한다. 무슨 저력으로 그렇게 발신하는가? 이름 앞에 항상... \n",
      "작성자:일곱송이 수선화\n",
      "\n",
      "게시글작성일:7분 전\n",
      "\n",
      "번호 :17\n",
      "제목:《진화사고》 살아남는 콘셉트를 만드는 생각 시스템\n",
      "내용:창의력을 끌어내는 생각 시스템만 알면 지능지수, 나이와 상관없이 누구나 습득할... 대표하는 인공지능 전문가들이 개발도구로 활용하는 등 다양한 분야에 확산하고... \n",
      "작성자:살아가는 힘이 되는 책\n",
      "\n",
      "게시글작성일:7분 전\n",
      "\n",
      "번호 :18\n",
      "제목:벤츠 S500 4MATIC '블랙' 출고리뷰, 할인 및 최상의 서비스 제공... \n",
      "내용:S500 4MATIC은 최첨단 기술과 지능적인 디자인의 완벽한 융합을 자랑합니다.... 또한, 인공 지능 기술과 연결성을 강화하여 스마트한 드라이빙과 편리한... \n",
      "작성자:rkdqo81님의 블로그\n",
      "\n",
      "게시글작성일:7분 전\n",
      "\n",
      "번호 :19\n",
      "제목:[서울] => 신세계백화점 강남점 : 아파트/오피스텔/물류센터... \n",
      "내용:페이스아이디 #인공지능#CCTV #인타임#안면인식기#안면인식#얼굴인식기#얼굴인식 #지문인식기#지문인식#건설근로자#근로자#건축현장 #건축#타워크레인#건설노동자... \n",
      "작성자:출역관리센터 인타임 수도권 1센터\n",
      "\n",
      "게시글작성일:7분 전\n",
      "\n",
      "번호 :20\n",
      "제목:경제뉴스 : 한국경제신문 요약 23.06.07. 수_애플 비전 프로.... \n",
      "내용:인공지능 등 신사업 M&A 통한 사업 확장 검토 중 차세대 포트폴리오 ▶ 항체약물접합체(ADC) 내년 생산을 목표로 전용 공장 건설 중 23. 6월 기준 누적 수주액... \n",
      "작성자:모두의 경제산책\n",
      "\n",
      "게시글작성일:7분 전\n",
      "\n",
      "번호 :21\n",
      "제목:엘지.LG전자 멀티형 에어컨 • 2등급 • 벽걸이형... \n",
      "내용:5단계 인공지능 스마트케어 패턴학습,상황학습 절전 쾌적절전 O 인공지능 듀얼인버터 전력량 표시 에너지 소비효율등급 2등급 제습 강력제습 O 편리 펫케어 O... \n",
      "작성자:쿠틸소듐이디\n",
      "\n",
      "게시글작성일:8분 전\n",
      "\n",
      "번호 :22\n",
      "제목:에티하드, ‘비즈니스 트래블러 어워드’ 2개 부문 최고상\n",
      "내용:예약 과정에서부터 공항 이용은 물론 항공여행에 이르기까지 인공지능 기술을 비롯한 최신 기술을 과감히 도입해 광범위한 예방 조치를 시행하고 있으며 업계... \n",
      "작성자:세계여행신문 Global Travel News\n",
      "\n",
      "게시글작성일:9분 전\n",
      "\n",
      "번호 :23\n",
      "제목:[SMW Vol.10] Ep.2 ChatGPT를 사용하여 가짜 인용으로 가득 찬... \n",
      "내용:하지만 적어도 일부 직업은 인공지능의 추월 가능성을 두려워할 필요가 없다. 뉴욕 타임즈의 보도에 따르면, 뉴욕의 변호사 스티븐 슈워츠는 최근 법률 요약서... \n",
      "작성자:크리스앤파트너스 공식블로그\n",
      "\n",
      "게시글작성일:10분 전\n",
      "\n",
      "번호 :24\n",
      "제목:한국기술교육대 온라인평생교육원 STEP,‘디지털 신기술 분야... \n",
      "내용:반도체, 인공지능, 빅데이터 등 최신 과정만 엄선하여 전문강사 배정 등... (48회차) ▲인공지능 모델러 설계(36회차) ▲빅데이터 입문(41회차) ▲자율주행차(30회차)... \n",
      "작성자:스마트 직업훈련 플랫폼 STEP\n",
      "\n",
      "게시글작성일:10분 전\n",
      "\n",
      "번호 :25\n",
      "제목:한국교통연구원-한국에너지공과 대학교가, 데이터 생태계... \n",
      "내용:및 인공지능 기반 미래 모빌리티 연구와 데이터 생태계 활성화에 기여하고자... 양 기관은 빅데이터 및 인공지능 기반 미래 모빌리티 관련 공동연구수행, 기관... \n",
      "작성자:wooya_man_신혼부부의 청년 일상~~\n",
      "\n",
      "게시글작성일:11분 전\n",
      "\n",
      "번호 :26\n",
      "제목:초격차 스타트업 출정\n",
      "내용:있는 지능을 가진 시스템을 만드는 공학을 뜻한다. 현재 빅데이터 기술과... ⑧ 우주·항공 ‘우주·항공 산업’은 인공위성과 로켓, 인공지능 등 각종 분야를... \n",
      "작성자:K-Startup 공식 블로그\n",
      "\n",
      "게시글작성일:11분 전\n",
      "\n",
      "번호 :27\n",
      "제목:마케팅카페라떼:카카오톡 유튜브에 추월 위기, 구글 AI 기반... \n",
      "내용:구글 AI 기반 검색 기능, 느리고 광고 난무 혹평 구글이 최근 도입한 인공지능(AI)... 카피라이터 잘렸다 인공지능(AI)이 사람의 일을 뺏기 시작했다. 기계로는 대체가... \n",
      "작성자:코너스톤브릿지\n",
      "\n",
      "게시글작성일:11분 전\n",
      "\n",
      "번호 :28\n",
      "제목:6/7(수) 핵심뉴스 및 관련주\n",
      "내용:-덱스터, 라온텍, 맥스트, 자이언트스텝, 포바이포, 엔피 네이버·KT, 정부 ‘초거대 AI 생태계 구축’ 사업 공급자 됐다 정부가 5일 초거대 인공지능(AI) 생태계 구축... \n",
      "작성자:경제야 놀자\n",
      "\n",
      "게시글작성일:12분 전\n",
      "\n",
      "번호 :29\n",
      "제목:마케팅 뉴스 클리핑 #검색생성경험 #오픈채팅lite #동네맛집... \n",
      "내용:구글 AI 기반 검색 기능, 느리고 광고 난무 혹평 구글의 새로 도입한 인공지능(AI)... 카피라이터 잘렸다 최근에는 인공지능(AI)이 사람의 일자리를 대체하기 시작하여... \n",
      "작성자:# 가만히 잘 번다\n",
      "\n",
      "게시글작성일:12분 전\n",
      "\n",
      "번호 :30\n",
      "제목:[단독]전세사기 점검, 매물추천까지 '서울형 안심전세은행' 나온다\n",
      "내용:SH가 전세물색, 권리분석, 전세계약을 진행하고 AI(인공지능)가 임차인에게 좋은 물건을 추천하는 식으로 중개가 이뤄진다. 전세임대 전용 대출상품도 개발한다. 현재... \n",
      "작성자:걸어서 지구 한바퀴\n",
      "\n",
      "게시글작성일:12분 전\n",
      "\n"
     ]
    }
   ],
   "source": [
    "no_list=[]         #게시글 번호 \n",
    "titles_list=[]     # 게시글 제목\n",
    "contents_list=[]  # 게시글 내용\n",
    "names_list=[]     #작성자 \n",
    "dates_list=[]     # 게시글작성일 \n",
    "\n",
    "blog_list= soup.find_all('div','total_wrap')\n",
    "print(\"=========blog_list\"+\"=\"*60)\n",
    "\n",
    "no=1  #게시글 번호 \n",
    "f = open(\"인공지능.txt\",'w',encoding=\"UTF-8\")\n",
    "\n",
    "for i in blog_list:\n",
    "    no_list.append(no)\n",
    "    f.write('번호'+str(no)+'\\n')\n",
    "    print(f'번호 :{no}')\n",
    "    \n",
    "    title = i.find('a','api_txt_lines total_tit').text\n",
    "    titles_list.append(title)\n",
    "    f.write(f'제목:{title}\\n')\n",
    "    print(f'제목:{title}')\n",
    "    \n",
    "    detail=i.find('div', 'api_txt_lines dsc_txt').text\n",
    "    contents_list.append(detail)\n",
    "    f.write(f'내용:{detail}\\n')\n",
    "    print(f'내용:{detail}')\n",
    "    \n",
    "    writer=i.find('a', 'sub_txt sub_name').text\n",
    "    names_list.append(writer)\n",
    "    f.write('작성자'+writer+'\\n')\n",
    "    print(f'작성자:{writer}\\n')\n",
    "    \n",
    "    dates = i.find('span','sub_time sub_txt').text\n",
    "    dates_list.append(dates)\n",
    "    f.write(f'게시글작성일:{dates}\\n')\n",
    "    print(f'게시글작성일:{dates}\\n')\n",
    "    no +=1\n",
    "    \n",
    "f.close()\n",
    "    "
   ]
  },
  {
   "cell_type": "code",
   "execution_count": 94,
   "id": "f41ac2cc",
   "metadata": {},
   "outputs": [],
   "source": [
    "dic = {\n",
    "    '번호':no_list,\n",
    "    '제목':titles_list,\n",
    "    '내용':contents_list,\n",
    "    '작성자':names_list,\n",
    "    '게시글작성일':dates_list\n",
    "}\n",
    "df = pd.DataFrame(dic)"
   ]
  },
  {
   "cell_type": "code",
   "execution_count": 97,
   "id": "1686bf05",
   "metadata": {},
   "outputs": [],
   "source": [
    "df.set_index('번호',inplace=True)\n",
    "df.to_csv('인공지능.csv',encoding='utf-8')"
   ]
  },
  {
   "cell_type": "code",
   "execution_count": null,
   "id": "b33fd2bb",
   "metadata": {},
   "outputs": [],
   "source": []
  }
 ],
 "metadata": {
  "kernelspec": {
   "display_name": "Python 3 (ipykernel)",
   "language": "python",
   "name": "python3"
  },
  "language_info": {
   "codemirror_mode": {
    "name": "ipython",
    "version": 3
   },
   "file_extension": ".py",
   "mimetype": "text/x-python",
   "name": "python",
   "nbconvert_exporter": "python",
   "pygments_lexer": "ipython3",
   "version": "3.9.13"
  }
 },
 "nbformat": 4,
 "nbformat_minor": 5
}
