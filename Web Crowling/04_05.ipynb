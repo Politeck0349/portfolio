{
 "cells": [
  {
   "cell_type": "code",
   "execution_count": 3,
   "id": "6bd53d69",
   "metadata": {},
   "outputs": [],
   "source": [
    "import requests as req\n",
    "from bs4 import BeautifulSoup as bs\n",
    "import pandas as pd"
   ]
  },
  {
   "cell_type": "code",
   "execution_count": 4,
   "id": "2124ba86",
   "metadata": {},
   "outputs": [
    {
     "name": "stdout",
     "output_type": "stream",
     "text": [
      "다우산업33,402.38하락\n",
      " 나스닥12,126.33하락\n",
      " 홍콩H6,875.47하락\n",
      " 상해종합3,312.56상승\n",
      " 니케이22527,927.48하락\n"
     ]
    }
   ],
   "source": [
    "res = req.get('https://finance.naver.com/sise/')\n",
    "soup = bs(res.content, 'html.parser')\n",
    "data = soup.select('.lst_major > li')\n",
    "data\n",
    "for i in range(len(data)):\n",
    "    print(data[i].text)"
   ]
  },
  {
   "cell_type": "code",
   "execution_count": 5,
   "id": "db3a1e90",
   "metadata": {},
   "outputs": [
    {
     "name": "stdout",
     "output_type": "stream",
     "text": [
      "지수이름 :  다우산업   현재지수 :  33,402.38 하락\n",
      "지수이름 :   나스닥   현재지수 :  12,126.33 하락\n",
      "지수이름 :   홍콩H   현재지수 :  6,875.47 하락\n",
      "지수이름 :   상해종합   현재지수 :  3,312.56 상승\n",
      "지수이름 :   니케이225   현재지수 :  27,927.48 하락\n"
     ]
    }
   ],
   "source": [
    "#현재지수:\n",
    "for i in data:\n",
    "    print('지수이름 : ',i.select_one('a').text,'  현재지수 : ',\n",
    "          i.select_one('span').text, i.select_one('.blind').text)"
   ]
  },
  {
   "cell_type": "code",
   "execution_count": 6,
   "id": "c648d958",
   "metadata": {},
   "outputs": [
    {
     "name": "stdout",
     "output_type": "stream",
     "text": [
      "['하늘과 바람과 별과 시', '증보판', '서시', '자화상', '소년', '눈 오는 지도', '돌아와 보는 밤', '병원', '새로운 길', '간판 없는 거리', '태초의 아침', '또 태초의 아침', '새벽이 올 때까지', '무서운 시간', '십자가', '바람이 불어', '슬픈 족속', '눈감고 간다', '또 다른 고향', '길', '별 헤는 밤', '흰 그림자', '사랑스런 추억', '흐르는 거리', '쉽게 씌어진 시', '봄', '참회록', '간(肝)', '위로', '팔복', '못자는밤', '달같이', '고추밭', '아우의 인상화', '사랑의 전당', '이적', '비오는 밤', '산골물', '유언', '창', '바다', '비로봉', '산협의 오후', '명상', '소낙비', '한난계', '풍경', '달밤', '장', '밤', '황혼이 바다가 되어', '아침', '빨래', '꿈은 깨어지고', '산림', '이런날', '산상', '양지쪽', '닭', '가슴 1', '가슴 2', '비둘기', '황혼', '남쪽 하늘', '창공', '거리에서', '삶과 죽음', '초한대', '산울림', '해바라기 얼굴', '귀뚜라미와 나와', '애기의 새벽', '햇빛·바람', '반디불', '둘 다', '거짓부리', '눈', '참새', '버선본', '편지', '봄', '무얼 먹구 사나', '굴뚝', '햇비', '빗자루', '기왓장 내외', '오줌싸개 지도', '병아리', '조개껍질', '겨울', '트루게네프의 언덕', '달을 쏘다', '별똥 떨어진 데', '화원에 꽃이 핀다', '종시']\n"
     ]
    }
   ],
   "source": [
    "res = req.get('https://ko.wikisource.org/wiki/%EC%A0%80%EC%9E%90:%EC%9C%A4%EB%8F%99%EC%A3%BC')\n",
    "soup = bs(res.content, 'html.parser')\n",
    "data = soup.select('div.mw-parser-output > ul > li a')\n",
    "data1 = [i.text for i in data]\n",
    "print(data1)\n",
    "len(data1)\n",
    "df = pd.DataFrame(data1,columns=['작품'])\n",
    "df.head()\n",
    "df.to_csv('work_list2.csv',index=False, encoding='utf-8')"
   ]
  },
  {
   "cell_type": "code",
   "execution_count": 7,
   "id": "59641a45",
   "metadata": {},
   "outputs": [
    {
     "data": {
      "text/html": [
       "<div>\n",
       "<style scoped>\n",
       "    .dataframe tbody tr th:only-of-type {\n",
       "        vertical-align: middle;\n",
       "    }\n",
       "\n",
       "    .dataframe tbody tr th {\n",
       "        vertical-align: top;\n",
       "    }\n",
       "\n",
       "    .dataframe thead th {\n",
       "        text-align: right;\n",
       "    }\n",
       "</style>\n",
       "<table border=\"1\" class=\"dataframe\">\n",
       "  <thead>\n",
       "    <tr style=\"text-align: right;\">\n",
       "      <th></th>\n",
       "      <th>작품</th>\n",
       "    </tr>\n",
       "  </thead>\n",
       "  <tbody>\n",
       "    <tr>\n",
       "      <th>0</th>\n",
       "      <td>하늘과 바람과 별과 시</td>\n",
       "    </tr>\n",
       "    <tr>\n",
       "      <th>1</th>\n",
       "      <td>증보판</td>\n",
       "    </tr>\n",
       "    <tr>\n",
       "      <th>2</th>\n",
       "      <td>서시</td>\n",
       "    </tr>\n",
       "    <tr>\n",
       "      <th>3</th>\n",
       "      <td>자화상</td>\n",
       "    </tr>\n",
       "    <tr>\n",
       "      <th>4</th>\n",
       "      <td>소년</td>\n",
       "    </tr>\n",
       "    <tr>\n",
       "      <th>...</th>\n",
       "      <td>...</td>\n",
       "    </tr>\n",
       "    <tr>\n",
       "      <th>90</th>\n",
       "      <td>트루게네프의 언덕</td>\n",
       "    </tr>\n",
       "    <tr>\n",
       "      <th>91</th>\n",
       "      <td>달을 쏘다</td>\n",
       "    </tr>\n",
       "    <tr>\n",
       "      <th>92</th>\n",
       "      <td>별똥 떨어진 데</td>\n",
       "    </tr>\n",
       "    <tr>\n",
       "      <th>93</th>\n",
       "      <td>화원에 꽃이 핀다</td>\n",
       "    </tr>\n",
       "    <tr>\n",
       "      <th>94</th>\n",
       "      <td>종시</td>\n",
       "    </tr>\n",
       "  </tbody>\n",
       "</table>\n",
       "<p>95 rows × 1 columns</p>\n",
       "</div>"
      ],
      "text/plain": [
       "              작품\n",
       "0   하늘과 바람과 별과 시\n",
       "1            증보판\n",
       "2             서시\n",
       "3            자화상\n",
       "4             소년\n",
       "..           ...\n",
       "90     트루게네프의 언덕\n",
       "91         달을 쏘다\n",
       "92      별똥 떨어진 데\n",
       "93     화원에 꽃이 핀다\n",
       "94            종시\n",
       "\n",
       "[95 rows x 1 columns]"
      ]
     },
     "execution_count": 7,
     "metadata": {},
     "output_type": "execute_result"
    }
   ],
   "source": [
    "work = pd.read_csv('work_list2.csv')\n",
    "work"
   ]
  },
  {
   "cell_type": "code",
   "execution_count": 8,
   "id": "c0fab8d4",
   "metadata": {},
   "outputs": [
    {
     "name": "stdout",
     "output_type": "stream",
     "text": [
      "https://finance.naver.com//marketindex/exchangeList.naver\n",
      "['미국 USD', '유럽연합 EUR', '일본 JPY (100엔)', '중국 CNY', '홍콩 HKD', '대만 TWD', '영국 GBP', '오만 OMR', '캐나다 CAD', '스위스 CHF', '스웨덴 SEK', '호주 AUD', '뉴질랜드 NZD', '체코 CZK', '칠레 CLP', '튀르키예 TRY', '몽골 MNT', '이스라엘 ILS', '덴마크 DKK', '노르웨이 NOK', '사우디아라비아 SAR', '쿠웨이트 KWD', '바레인 BHD', '아랍에미리트 AED', '요르단 JOD', '이집트 EGP', '태국 THB', '싱가포르 SGD', '말레이시아 MYR', '인도네시아 IDR 100', '카타르 QAR', '카자흐스탄 KZT', '브루나이 BND', '인도 INR', '파키스탄 PKR', '방글라데시 BDT', '필리핀 PHP', '멕시코 MXN', '브라질 BRL', '베트남 VND 100', '남아프리카 공화국 ZAR', '러시아 RUB', '헝가리 HUF', '폴란드 PLN', '스리랑카 LKR', '알제리 DZD', '케냐 KES', '콜롬비아 COP', '탄자니아 TZS', '네팔 NPR', '루마니아 RON', '리비아 LYD', '마카오 MOP', '미얀마 MMK', '에티오피아 ETB', '우즈베키스탄 UZS', '캄보디아 KHR', '피지 FJD']\n",
      "['1,312.30', '1,438.48', '995.94', '190.90', '167.18', '43.10', '1,640.05', '3,408.39', '976.96', '1,449.09', '127.75', '888.16', '834.03', '61.26', '1.62', '68.22', '0.37', '365.84', '193.06', '127.51', '349.88', '4,281.29', '3,480.62', '357.27', '1,850.00', '42.47', '38.65', '990.15', '298.42', '8.80', '358.80', '2.93', '990.15', '15.98', '4.55', '12.44', '24.10', '72.45', '258.72', '5.59', '73.27', '16.55', '3.81', '307.53', '4.07', '9.68', '9.87', '0.29', '0.56', '9.96', '291.75', '275.16', '162.21', '0.62', '24.12', '0.12', '0.32', '598.41']\n",
      "[1, 2, 3, 4, 5, 6, 7, 8, 9, 10, 11, 12, 13, 14, 15, 16, 17, 18, 19, 20, 21, 22, 23, 24, 25, 26, 27, 28, 29, 30, 31, 32, 33, 34, 35, 36, 37, 38, 39, 40, 41, 42, 43, 44, 45, 46, 47, 48, 49, 50, 51, 52, 53, 54, 55, 56, 57, 58]\n"
     ]
    }
   ],
   "source": [
    "url = 'https://finance.naver.com/'\n",
    "url2 = 'marketindex/'\n",
    "page = url + url2\n",
    "res =req.get(page)\n",
    "soup = bs(res.content,'html.parser')\n",
    "frameSrc = soup.find('iframe',id='frame_ex1')\n",
    "a = url+frameSrc.attrs['src']\n",
    "print(a)\n",
    "res1 = req.get(a)\n",
    "soup = bs(res1.content, 'html.parser')\n",
    "data1 = soup.select('.tit')\n",
    "data2 = soup.select('.sale')\n",
    "aa = [i.text.strip() for i in data1]\n",
    "bb = [i.text.strip() for i in data2]\n",
    "cc = [i for i in range(1,59)]\n",
    "print(aa)\n",
    "print(bb)\n",
    "print(cc)\n",
    "# for i in range(len(data1)):\n",
    "#     print('통화명 :', data1[i].text.strip(),'\\t','매매기준율 : ',data2[i].text.strip())\n"
   ]
  },
  {
   "cell_type": "code",
   "execution_count": 13,
   "id": "ef8d7312",
   "metadata": {},
   "outputs": [
    {
     "name": "stdout",
     "output_type": "stream",
     "text": [
      "              통화명     매매기준율\n",
      "순위                         \n",
      "1          미국 USD  1,312.30\n",
      "2        유럽연합 EUR  1,438.48\n",
      "3   일본 JPY (100엔)    995.94\n",
      "4          중국 CNY    190.90\n",
      "5          홍콩 HKD    167.18\n",
      "              통화명     매매기준율\n",
      "순위                         \n",
      "1          미국 USD  1,312.30\n",
      "2        유럽연합 EUR  1,438.48\n",
      "3   일본 JPY (100엔)    995.94\n",
      "4          중국 CNY    190.90\n",
      "5          홍콩 HKD    167.18\n",
      "6          대만 TWD     43.10\n",
      "7          영국 GBP  1,640.05\n",
      "8          오만 OMR  3,408.39\n",
      "9         캐나다 CAD    976.96\n",
      "10        스위스 CHF  1,449.09\n",
      "11        스웨덴 SEK    127.75\n",
      "12         호주 AUD    888.16\n",
      "13       뉴질랜드 NZD    834.03\n",
      "14         체코 CZK     61.26\n",
      "15         칠레 CLP      1.62\n",
      "16       튀르키예 TRY     68.22\n",
      "17         몽골 MNT      0.37\n",
      "18       이스라엘 ILS    365.84\n",
      "19        덴마크 DKK    193.06\n",
      "20       노르웨이 NOK    127.51\n",
      "21    사우디아라비아 SAR    349.88\n",
      "22       쿠웨이트 KWD  4,281.29\n",
      "23        바레인 BHD  3,480.62\n",
      "24     아랍에미리트 AED    357.27\n",
      "25        요르단 JOD  1,850.00\n",
      "26        이집트 EGP     42.47\n",
      "27         태국 THB     38.65\n",
      "28       싱가포르 SGD    990.15\n",
      "29      말레이시아 MYR    298.42\n",
      "30  인도네시아 IDR 100      8.80\n",
      "31        카타르 QAR    358.80\n",
      "32      카자흐스탄 KZT      2.93\n",
      "33       브루나이 BND    990.15\n",
      "34         인도 INR     15.98\n",
      "35       파키스탄 PKR      4.55\n",
      "36      방글라데시 BDT     12.44\n",
      "37        필리핀 PHP     24.10\n",
      "38        멕시코 MXN     72.45\n",
      "39        브라질 BRL    258.72\n",
      "40    베트남 VND 100      5.59\n",
      "41  남아프리카 공화국 ZAR     73.27\n",
      "42        러시아 RUB     16.55\n",
      "43        헝가리 HUF      3.81\n",
      "44        폴란드 PLN    307.53\n",
      "45       스리랑카 LKR      4.07\n",
      "46        알제리 DZD      9.68\n",
      "47         케냐 KES      9.87\n",
      "48       콜롬비아 COP      0.29\n",
      "49       탄자니아 TZS      0.56\n",
      "50         네팔 NPR      9.96\n",
      "51       루마니아 RON    291.75\n",
      "52        리비아 LYD    275.16\n",
      "53        마카오 MOP    162.21\n",
      "54        미얀마 MMK      0.62\n",
      "55      에티오피아 ETB     24.12\n",
      "56     우즈베키스탄 UZS      0.12\n",
      "57       캄보디아 KHR      0.32\n",
      "58         피지 FJD    598.41\n"
     ]
    }
   ],
   "source": [
    "fin = {\n",
    "    '순위' : cc,\n",
    "    '통화명' : aa,\n",
    "    '매매기준율': bb\n",
    "}\n",
    "df = pd.DataFrame(fin)\n",
    "df.set_index('순위',inplace=True)\n",
    "print(df.head())\n",
    "print(df)\n",
    "df.to_csv('fin1.csv', index=False, encoding='utf-8')"
   ]
  },
  {
   "cell_type": "code",
   "execution_count": 14,
   "id": "6850355f",
   "metadata": {},
   "outputs": [
    {
     "name": "stdout",
     "output_type": "stream",
     "text": [
      "              통화명     매매기준율\n",
      "0          미국 USD  1,312.30\n",
      "1        유럽연합 EUR  1,438.48\n",
      "2   일본 JPY (100엔)    995.94\n",
      "3          중국 CNY    190.90\n",
      "4          홍콩 HKD    167.18\n",
      "5          대만 TWD     43.10\n",
      "6          영국 GBP  1,640.05\n",
      "7          오만 OMR  3,408.39\n",
      "8         캐나다 CAD    976.96\n",
      "9         스위스 CHF  1,449.09\n",
      "10        스웨덴 SEK    127.75\n",
      "11         호주 AUD    888.16\n",
      "12       뉴질랜드 NZD    834.03\n",
      "13         체코 CZK     61.26\n",
      "14         칠레 CLP      1.62\n",
      "15       튀르키예 TRY     68.22\n",
      "16         몽골 MNT      0.37\n",
      "17       이스라엘 ILS    365.84\n",
      "18        덴마크 DKK    193.06\n",
      "19       노르웨이 NOK    127.51\n",
      "20    사우디아라비아 SAR    349.88\n",
      "21       쿠웨이트 KWD  4,281.29\n",
      "22        바레인 BHD  3,480.62\n",
      "23     아랍에미리트 AED    357.27\n",
      "24        요르단 JOD  1,850.00\n",
      "25        이집트 EGP     42.47\n",
      "26         태국 THB     38.65\n",
      "27       싱가포르 SGD    990.15\n",
      "28      말레이시아 MYR    298.42\n",
      "29  인도네시아 IDR 100      8.80\n",
      "30        카타르 QAR    358.80\n",
      "31      카자흐스탄 KZT      2.93\n",
      "32       브루나이 BND    990.15\n",
      "33         인도 INR     15.98\n",
      "34       파키스탄 PKR      4.55\n",
      "35      방글라데시 BDT     12.44\n",
      "36        필리핀 PHP     24.10\n",
      "37        멕시코 MXN     72.45\n",
      "38        브라질 BRL    258.72\n",
      "39    베트남 VND 100      5.59\n",
      "40  남아프리카 공화국 ZAR     73.27\n",
      "41        러시아 RUB     16.55\n",
      "42        헝가리 HUF      3.81\n",
      "43        폴란드 PLN    307.53\n",
      "44       스리랑카 LKR      4.07\n",
      "45        알제리 DZD      9.68\n",
      "46         케냐 KES      9.87\n",
      "47       콜롬비아 COP      0.29\n",
      "48       탄자니아 TZS      0.56\n",
      "49         네팔 NPR      9.96\n",
      "50       루마니아 RON    291.75\n",
      "51        리비아 LYD    275.16\n",
      "52        마카오 MOP    162.21\n",
      "53        미얀마 MMK      0.62\n",
      "54      에티오피아 ETB     24.12\n",
      "55     우즈베키스탄 UZS      0.12\n",
      "56       캄보디아 KHR      0.32\n",
      "57         피지 FJD    598.41\n"
     ]
    }
   ],
   "source": [
    "aa = pd.read_csv('fin1.csv', encoding='utf-8')\n",
    "print(aa)"
   ]
  },
  {
   "cell_type": "code",
   "execution_count": null,
   "id": "76e04a92",
   "metadata": {},
   "outputs": [],
   "source": []
  }
 ],
 "metadata": {
  "kernelspec": {
   "display_name": "Python 3 (ipykernel)",
   "language": "python",
   "name": "python3"
  },
  "language_info": {
   "codemirror_mode": {
    "name": "ipython",
    "version": 3
   },
   "file_extension": ".py",
   "mimetype": "text/x-python",
   "name": "python",
   "nbconvert_exporter": "python",
   "pygments_lexer": "ipython3",
   "version": "3.9.13"
  }
 },
 "nbformat": 4,
 "nbformat_minor": 5
}
