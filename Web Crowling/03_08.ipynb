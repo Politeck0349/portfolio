{
 "cells": [
  {
   "cell_type": "markdown",
   "id": "89df343e",
   "metadata": {},
   "source": [
    "# 글자#\n",
    "## 글자2\n",
    "### 글자3\n",
    "#### 글자4\n",
    "- 글자4에 대한 설명\n",
    "- m 글자 설명글 단축기"
   ]
  },
  {
   "cell_type": "markdown",
   "id": "73104300",
   "metadata": {},
   "source": [
    "<pre>\n",
    "    첫번째 줄\n",
    "    두번째 줄\n",
    "    세번째 줄\n",
    "</pre>"
   ]
  },
  {
   "cell_type": "markdown",
   "id": "1ec9a68b",
   "metadata": {},
   "source": [
    "#### 크롤링\n",
    "- 인터넷 사이트의 페이지를 수집해서 분류하는것, 스크래핑 기술의 일종\n",
    "\n",
    "#### 스크래핑\n",
    "- http을 통해 웹 사이트의 내용을 긁어서 원하는 형태로 가공하는것\n",
    "    - request: 웹페이지를 가져오는 라이브러리\n",
    "    - bs4: 웹페이지를 분석하는 라이브러리"
   ]
  },
  {
   "cell_type": "code",
   "execution_count": 5,
   "id": "df9dd838",
   "metadata": {},
   "outputs": [],
   "source": [
    "import requests\n",
    "from bs4 import BeautifulSoup"
   ]
  },
  {
   "cell_type": "code",
   "execution_count": 7,
   "id": "55d3fea8",
   "metadata": {},
   "outputs": [],
   "source": [
    "#2.웹페이지 가져오기: requests 있는 get 함수로 주소를 가져온다\n",
    "res = requests.get('https://v.daum.net/v/20230308102540253')"
   ]
  },
  {
   "cell_type": "code",
   "execution_count": 10,
   "id": "32b90c85",
   "metadata": {},
   "outputs": [],
   "source": [
    "#실제 받아온 문서 확인\n",
    "#print(res.content)"
   ]
  },
  {
   "cell_type": "markdown",
   "id": "a067e850",
   "metadata": {},
   "source": [
    "####  http 프로토콜 규칙 status code: 요청과 응답상황을 표현\n",
    "- 200: 성공\n",
    "- 404: 페이지 없음\n",
    "- 500: 서버오류\n",
    "- 302: 페이지 이동"
   ]
  },
  {
   "cell_type": "code",
   "execution_count": 12,
   "id": "493c5632",
   "metadata": {},
   "outputs": [
    {
     "name": "stdout",
     "output_type": "stream",
     "text": [
      "200\n"
     ]
    }
   ],
   "source": [
    "# ↕\n",
    "print(res.status_code)"
   ]
  },
  {
   "cell_type": "markdown",
   "id": "4409bace",
   "metadata": {},
   "source": [
    "#### 웹페이지 파싱하기\n",
    "- 파싱(parsing):문자열의 의미를 분석\n",
    "- 파서(parser): lxml, html5lib, parser"
   ]
  },
  {
   "cell_type": "code",
   "execution_count": 13,
   "id": "39339867",
   "metadata": {},
   "outputs": [],
   "source": [
    "#3.웹페이지 파싱하기\n",
    "soup = BeautifulSoup(res.content, \"html.parser\")"
   ]
  },
  {
   "cell_type": "code",
   "execution_count": 15,
   "id": "3eeab5ef",
   "metadata": {},
   "outputs": [
    {
     "data": {
      "text/plain": [
       "<!DOCTYPE html>\n",
       "\n",
       "<html class=\"os_window\">\n",
       "<head data-cloud-area=\"head\">\n",
       "<meta charset=\"utf-8\"/>\n",
       "<meta content=\"IE=edge\" http-equiv=\"X-UA-Compatible\"/>\n",
       "<meta content=\"width=device-width,initial-scale=1,maximum-scale=1,user-scalable=no\" name=\"viewport\"/>\n",
       "<meta content=\"telephone=no\" name=\"format-detection\"/>\n",
       "<meta content=\"unsafe-url\" name=\"referrer\"/>\n",
       "<title>달 궤도 유인비행 '아르테미스2' 내년 11월 말 발사</title>\n",
       "<link href=\"//t1.daumcdn.net/top/favicon.ico\" rel=\"shortcut icon\"/>\n",
       "<meta content=\"7SecaWJG1R\" property=\"mccp:docId\"/>\n",
       "<meta content=\"언론사 뷰\" property=\"og:site_name\"/>\n",
       "<meta content=\"달 궤도 유인비행 '아르테미스2' 내년 11월 말 발사\" property=\"og:title\"/>\n",
       "<meta content=\"20230308102540\" property=\"og:regDate\"/>\n",
       "<meta content=\"article\" property=\"og:type\"/>\n",
       "<meta content=\"연합뉴스\" property=\"og:article:author\"/>\n",
       "<meta content=\"https://v.daum.net/v/20230308102540253\" property=\"og:url\"/>\n",
       "<meta content=\"https://img1.daumcdn.net/thumb/S1200x630/?fname=https://t1.daumcdn.net/news/202303/08/yonhap/20230308102540930ytfp.jpg\" property=\"og:image\"/>\n",
       "<meta content=\"1200\" property=\"og:image:width\"/>\n",
       "<meta content=\"630\" property=\"og:image:height\"/>\n",
       "<meta content=\"(서울=연합뉴스) 엄남석 기자 = 미국 항공우주국(NASA)이 달 궤도까지 유인비행을 다녀오는 '아르테미스(Artemis) 2'를 내년 11월 말에 발사키로 했다. AFP통신에 따르면 짐 프리 NASA 부국장은 7일 &quot;아르테미스 2 유인비행을 학수고대하고 있다&quot;면서 아르테미스2가 내년 11월 말 발사를 위한 궤도에 올라 있다고 밝혔다. 아르테미스 프로그램을\" property=\"og:description\"/>\n",
       "<meta content=\"daumapps://web?url=https%3A%2F%2Fv.daum.net/v/20230308102540253\" property=\"al:android:url\"/>\n",
       "<meta content=\"net.daum.android.daum\" property=\"al:android:package\"/>\n",
       "<meta content=\"다음앱\" property=\"al:android:app_name\"/>\n",
       "<meta content=\"daumapps://web?url=https%3A%2F%2Fv.daum.net/v/20230308102540253\" property=\"al:ios:url\"/>\n",
       "<meta content=\"365494029\" property=\"al:ios:app_store_id\"/>\n",
       "<meta content=\"다음앱\" property=\"al:ios:app_name\"/>\n",
       "<meta content=\"summary_large_image\" property=\"twitter:card\"/>\n",
       "<meta content=\"daumapps://web?url=https%3A%2F%2Fv.daum.net/v/20230308102540253\" property=\"twitter:app:url:googleplay\"/>\n",
       "<meta content=\"net.daum.android.daum\" property=\"twitter:app:id:googleplay\"/>\n",
       "<meta content=\"다음앱\" property=\"twitter:app:name:googleplay\"/>\n",
       "<meta content=\"KR\" property=\"twitter:app:country\"/>\n",
       "<meta content=\"daumapps://web?url=https%3A%2F%2Fv.daum.net/v/20230308102540253\" property=\"twitter:app:url:iphone\"/>\n",
       "<meta content=\"365494029\" property=\"twitter:app:id:iphone\"/>\n",
       "<meta content=\"다음앱\" property=\"twitter:app:name:iphone\"/>\n",
       "<meta content=\"daumapps://web?url=https%3A%2F%2Fv.daum.net/v/20230308102540253\" property=\"twitter:app:url:ipad\"/>\n",
       "<meta content=\"365494029\" property=\"twitter:app:id:ipad\"/>\n",
       "<meta content=\"다음앱\" property=\"twitter:app:name:ipad\"/>\n",
       "</head>\n",
       "<body>\n",
       "<link as=\"font\" crossorigin=\"\" href=\"https://t1.daumcdn.net/harmony_static/font/SF-UI-Display-Regular.woff\" rel=\"preload\" type=\"font/woff\"/>\n",
       "<link as=\"font\" crossorigin=\"\" href=\"https://t1.daumcdn.net/harmony_static/font/SF-UI-Display-Medium.woff\" rel=\"preload\" type=\"font/woff\"/>\n",
       "<link as=\"font\" crossorigin=\"\" href=\"https://t1.daumcdn.net/harmony_static/font/SF-UI-Display-Bold.woff\" rel=\"preload\" type=\"font/woff\"/>\n",
       "<link href=\"//t1.daumcdn.net/harmony_static/cloud/2023/02/22/common.d43a3472be064141f376.css\" rel=\"stylesheet\" type=\"text/css\"/>\n",
       "<link href=\"//t1.daumcdn.net/harmony_static/cloud/page/8c3b09aab17b397e7d6453ddbfbce39ddc6b08c31675659049365.css\" rel=\"stylesheet\" type=\"text/css\"/>\n",
       "<link href=\"https://hades-cerberus.v.daum.net\" rel=\"preconnect\"/>\n",
       "<link href=\"https://hades-proxy.v.daum.net\" rel=\"preconnect\"/>\n",
       "<div class=\"container-doc wrap_view\" data-tiara-layer=\"pc_news\" id=\"kakaoWrap\">\n",
       "<header class=\"doc-header\" data-cloud-area=\"header\" id=\"kakaoHead\">\n",
       "<div class=\"head_top\" data-cloud=\"newsview_pc_gnb\" data-tiara-layer=\"news_header_gnb\">\n",
       "<h1 class=\"doc-title\"> <a class=\"link_daum\" data-tiara=\"로고\" data-tiara-action-name=\"GNB다음로고_클릭\" href=\"//daum.net\"> <img alt=\"Daum\" class=\"logo_daum\" height=\"18\" src=\"//t1.daumcdn.net/media/common/newsview_2021/pc/rtn/logo_daum.png\" width=\"44\"/> </a> <a data-tiara=\"언론사명\" data-tiara-action-name=\"GNB언론사명_클릭\" href=\"https://v.daum.net/channel/2/home\" id=\"kakaoServiceLogo\">연합뉴스</a> </h1>\n",
       "<div class=\"user_service\">\n",
       "<h2 class=\"screen_out\">검색</h2> <a class=\"link_search\" data-tiara=\"검색\" data-tiara-action-kind=\"Search\" data-tiara-action-name=\"GNB검색_클릭\" href=\"#none\"> <span class=\"ico_view ico_search\">검색</span> </a>\n",
       "<div class=\"search_wrap\" id=\"daumSearchLayer\">\n",
       "<form action=\"https://search.daum.net/search\" id=\"daumSearchForm\" method=\"get\">\n",
       "<fieldset class=\"fld_inside\"> <legend class=\"screen_out\">검색어 입력폼</legend>\n",
       "<div class=\"box_search\"> <label class=\"screen_out\" for=\"qVal\">통합검색</label>\n",
       "<input name=\"nil_profile\" type=\"hidden\" value=\"search\"/>\n",
       "<input name=\"nil_src\" type=\"hidden\" value=\"media\"/>\n",
       "<input name=\"DA\" type=\"hidden\" value=\"23A\"/>\n",
       "<input name=\"rtmaxcoll\" type=\"hidden\" value=\"NNS\"/>\n",
       "<input autocomplete=\"off\" class=\"tf_keyword\" id=\"qVal\" name=\"q\" spellcheck=\"false\" title=\"검색어 입력\" type=\"text\" value=\"\"/> <button class=\"btn_reset\" id=\"daumBtnReset\" type=\"reset\"> <span class=\"ico_view\">입력삭제</span> </button> <button class=\"btn_search\" id=\"daumBtnSubmit\" type=\"submit\"> <span class=\"ico_view ico_search\"> <span class=\"ir_wa\">검색</span> </span> </button>\n",
       "</div>\n",
       "</fieldset>\n",
       "<div class=\"suggest_wrap\" id=\"wrap_suggestBox\">\n",
       "<div class=\"suggestBox box_sub\" id=\"suggestBox\"></div>\n",
       "</div>\n",
       "</form>\n",
       "</div> <a class=\"link_closed\" href=\"#none\"><span class=\"ico_view\">닫기</span></a>\n",
       "</div>\n",
       "<div class=\"util_socialchare\"> <button class=\"btn_share\" data-tiara=\"SNS공유하기\" data-tiara-action-kind=\"Share\" data-tiara-action-name=\"GNB공유_클릭\" id=\"rSocialShareButton2\"> <span class=\"ico_view ico_share\">공유목록 펼치기</span> </button>\n",
       "<div id=\"rSocialShareLayerContainer2\"></div>\n",
       "</div>\n",
       "</div>\n",
       "</header>\n",
       "<main class=\"doc-main\" id=\"kakaoContent\">\n",
       "<section class=\"inner-main\">\n",
       "<h2 class=\"screen_out\">IT</h2>\n",
       "<div class=\"main-content\" data-cloud-area=\"addition\">\n",
       "<article class=\"box_view\" data-cloud-area=\"article\" id=\"mArticle\">\n",
       "<div class=\"head_view\" data-cloud=\"newsview_article_head\" data-tiara-layer=\"article_head\">\n",
       "<h3 class=\"tit_view\" data-translation=\"true\">달 궤도 유인비행 '아르테미스2' 내년 11월 말 발사</h3>\n",
       "<div class=\"info_view\"> <span class=\"txt_info\">엄남석</span> <span class=\"txt_info\">입력 <span class=\"num_date\">2023. 3. 8. 10:25</span></span>\n",
       "</div>\n",
       "<div class=\"util_wrap\"> <button class=\"btn_cmt\" data-tiara=\"댓글버튼\" data-tiara-action-name=\"헤드댓글수_클릭\" type=\"button\"> <span class=\"ico_view ico_cmt\">댓글</span> <span class=\"num_cmt alex-count-area\">0</span> </button>\n",
       "<div class=\"util_view\">\n",
       "<div class=\"item_util\" data-tiara-action-name=\"헤드요약_클릭\"> <button class=\"btn_util btn_synop\" data-tiara=\"요약보기\" type=\"button\"> <span class=\"ico_view\">요약보기</span> </button>\n",
       "<div class=\"view_layer\" id=\"digestViewLayer\">\n",
       "<div class=\"inner_view_layer inner_synop_layer\">\n",
       "<div class=\"layer_head\"> <strong class=\"tit_layer\" data-translation=\"true\">자동요약</strong> <span class=\"info_layer\" data-translation=\"true\">기사 제목과 주요 문장을 기반으로 자동요약한 결과입니다.<br/> 전체 맥락을 이해하기 위해서는 본문 보기를 권장합니다.</span>\n",
       "</div>\n",
       "<div class=\"layer_body\" data-translation=\"true\">\n",
       "<p>미국 항공우주국(NASA)이 달 궤도까지 유인비행을 다녀오는 '아르테미스(Artemis) 2'를 내년 11월 말에 발사키로 했다.</p>\n",
       "<p>AFP통신에 따르면 짐 프리 NASA 부국장은 7일 \"아르테미스 2 유인비행을 학수고대하고 있다\"면서 아르테미스2가 내년 11월 말 발사를 위한 궤도에 올라 있다고 밝혔다.</p>\n",
       "</div>\n",
       "<div class=\"layer_foot\"> <a class=\"link_close\" data-tiara=\"요약닫기\" href=\"#none\"> <span class=\"ico_view\">닫기</span> </a>\n",
       "</div>\n",
       "</div>\n",
       "</div>\n",
       "</div>\n",
       "<div class=\"item_util\" data-tiara-action-name=\"헤드음성_클릭\"> <button class=\"btn_util btn_tts\" data-tiara=\"음성버튼\" type=\"button\"> <span class=\"ico_view\">음성으로 듣기</span> </button>\n",
       "<div class=\"view_layer\" id=\"ttsViewLayer\">\n",
       "<div class=\"inner_view_layer inner_tts_layer\">\n",
       "<div class=\"layer_head\"> <strong class=\"tit_layer\">음성재생 설정</strong>\n",
       "</div>\n",
       "<div class=\"layer_body\">\n",
       "<ul class=\"list_tts\">\n",
       "<li> <input class=\"inp_tts\" id=\"inpMale\" name=\"inpGender\" type=\"radio\" value=\"Male\"/> <label class=\"lab_tts\" for=\"inpMale\"> <span class=\"ico_view\"></span>남성 </label> </li>\n",
       "<li> <input class=\"inp_tts\" id=\"inpFemale\" name=\"inpGender\" type=\"radio\" value=\"Female\"/> <label class=\"lab_tts\" for=\"inpFemale\"> <span class=\"ico_view\"></span>여성 </label> </li>\n",
       "</ul>\n",
       "<ul class=\"list_tts\">\n",
       "<li> <input class=\"inp_tts\" id=\"inpSlow\" name=\"inpSpeed\" type=\"radio\" value=\"slow\"/> <label class=\"lab_tts\" for=\"inpSlow\"> <span class=\"ico_view\"></span>느림 </label> </li>\n",
       "<li> <input class=\"inp_tts\" id=\"inpNormal\" name=\"inpSpeed\" type=\"radio\" value=\"normal\"/> <label class=\"lab_tts\" for=\"inpNormal\"> <span class=\"ico_view\"></span>보통 </label> </li>\n",
       "<li> <input class=\"inp_tts\" id=\"inpFast\" name=\"inpSpeed\" type=\"radio\" value=\"fast\"/> <label class=\"lab_tts\" for=\"inpFast\"> <span class=\"ico_view\"></span>빠름 </label> </li>\n",
       "</ul> <button class=\"btn_play\" data-tiara=\"음성_재생하기\" type=\"button\">음성 재생하기</button>\n",
       "</div>\n",
       "<div class=\"layer_foot\"> <a class=\"link_close\" data-tiara=\"음성_재생중지\" href=\"#none\"> <span class=\"ico_view\">닫기</span> </a>\n",
       "</div>\n",
       "</div>\n",
       "</div> <button class=\"btn_soundplay\" data-tiara=\"음성_재생중지\" type=\"button\"> <span class=\"ico_sound\"></span>음성 재생 <span class=\"ico_view ico_close\">중지</span> </button>\n",
       "<audio id=\"ttsPlayer\" preload=\"none\" style=\"display:none\"></audio>\n",
       "</div>\n",
       "<div class=\"item_util\" data-tiara-action-name=\"헤드번역_클릭\"> <button class=\"btn_util btn_translate\" data-tiara=\"번역설정\" id=\"btnTranslate\" type=\"button\"> <span class=\"ico_view\">번역 설정</span> </button>\n",
       "<div class=\"view_layer\" id=\"layerTranslate\">\n",
       "<div class=\"inner_view_layer inner_translate_layer\">\n",
       "<div class=\"layer_head\"> <strong class=\"tit_layer\">번역<em class=\"ico_view\">beta</em></strong> <span class=\"info_translate ico_view\">Translated by <a class=\"link_kakaoi\" href=\"https://kakao.ai/\">kaka i</a></span>\n",
       "</div>\n",
       "<div class=\"layer_body\">\n",
       "<ul class=\"list_lang\">\n",
       "<li> <button class=\"btn_lang btn_translate_target_lang\" data-tiara=\"한국어\" name=\"kr\" type=\"button\"> <strong class=\"tit_lang tit_selected\">한국어</strong> <span class=\"txt_lang\">-</span> </button> </li>\n",
       "<li> <button class=\"btn_lang btn_translate_target_lang\" data-tiara=\"영어\" name=\"en\" type=\"button\"> <strong class=\"tit_lang\">English</strong> <span class=\"txt_lang\">영어</span> </button> </li>\n",
       "<li> <button class=\"btn_lang btn_translate_target_lang\" data-tiara=\"일본어\" name=\"jp\" type=\"button\"> <strong class=\"tit_lang\">日本語</strong> <span class=\"txt_lang\">일본어</span> </button> </li>\n",
       "<li> <button class=\"btn_lang btn_translate_target_lang\" data-tiara=\"중국어\" name=\"cn\" type=\"button\"> <strong class=\"tit_lang\">简体中文</strong> <span class=\"txt_lang\">중국어</span> </button> </li>\n",
       "<li> <button class=\"btn_lang btn_translate_target_lang\" data-tiara=\"네덜란드어\" name=\"nl\" type=\"button\"> <strong class=\"tit_lang\">Nederlands</strong> <span class=\"txt_lang\">네델란드어</span> </button> </li>\n",
       "<li> <button class=\"btn_lang btn_translate_target_lang\" data-tiara=\"독일어\" name=\"de\" type=\"button\"> <strong class=\"tit_lang\">Deutsch</strong> <span class=\"txt_lang\">독일어</span> </button> </li>\n",
       "<li> <button class=\"btn_lang btn_translate_target_lang\" data-tiara=\"러시아어\" name=\"ru\" type=\"button\"> <strong class=\"tit_lang\">Русский</strong> <span class=\"txt_lang\">러시아어</span> </button> </li>\n",
       "<li> <button class=\"btn_lang btn_translate_target_lang\" data-tiara=\"말레이시아어\" name=\"ms\" type=\"button\"> <strong class=\"tit_lang\">Malaysia</strong> <span class=\"txt_lang\">말레이시아어</span> </button> </li>\n",
       "<li> <button class=\"btn_lang btn_translate_target_lang\" data-tiara=\"벵골어\" name=\"bn\" type=\"button\"> <strong class=\"tit_lang\">বাঙ্গোল ভাষা</strong> <span class=\"txt_lang\">벵골어</span> </button> </li>\n",
       "<li> <button class=\"btn_lang btn_translate_target_lang\" data-tiara=\"베트남어\" name=\"vi\" type=\"button\"> <strong class=\"tit_lang\">tiếng Việt</strong> <span class=\"txt_lang\">베트남어</span> </button> </li>\n",
       "<li> <button class=\"btn_lang btn_translate_target_lang\" data-tiara=\"스페인어\" name=\"es\" type=\"button\"> <strong class=\"tit_lang\">Español</strong> <span class=\"txt_lang\">스페인어</span> </button> </li>\n",
       "<li> <button class=\"btn_lang btn_translate_target_lang\" data-tiara=\"아랍어\" name=\"ar\" type=\"button\"> <strong class=\"tit_lang\">اللغة العربية</strong> <span class=\"txt_lang\">아랍어</span> </button> </li>\n",
       "<li> <button class=\"btn_lang btn_translate_target_lang\" data-tiara=\"이탈리아어\" name=\"it\" type=\"button\"> <strong class=\"tit_lang\">Italiano</strong> <span class=\"txt_lang\">이탈리아어</span> </button> </li>\n",
       "<li> <button class=\"btn_lang btn_translate_target_lang\" data-tiara=\"인도네시아어\" name=\"id\" type=\"button\"> <strong class=\"tit_lang\">bahasa Indonesia</strong> <span class=\"txt_lang\">인도네시아어</span> </button> </li>\n",
       "<li> <button class=\"btn_lang btn_translate_target_lang\" data-tiara=\"태국어\" name=\"th\" type=\"button\"> <strong class=\"tit_lang\">ภาษาไทย</strong> <span class=\"txt_lang\">태국어</span> </button> </li>\n",
       "<li> <button class=\"btn_lang btn_translate_target_lang\" data-tiara=\"터키어\" name=\"tr\" type=\"button\"> <strong class=\"tit_lang\">Türkçe</strong> <span class=\"txt_lang\">터키어</span> </button> </li>\n",
       "<li> <button class=\"btn_lang btn_translate_target_lang\" data-tiara=\"포르투갈어\" name=\"pt\" type=\"button\"> <strong class=\"tit_lang\">Português</strong> <span class=\"txt_lang\">포르투갈어</span> </button> </li>\n",
       "<li> <button class=\"btn_lang btn_translate_target_lang\" data-tiara=\"프랑스어\" name=\"fr\" type=\"button\"> <strong class=\"tit_lang\">Français</strong> <span class=\"txt_lang\">프랑스어</span> </button> </li>\n",
       "<li> <button class=\"btn_lang btn_translate_target_lang\" data-tiara=\"힌디어\" name=\"hi\" type=\"button\"> <strong class=\"tit_lang\">हिन्दी</strong> <span class=\"txt_lang\">힌디어</span> </button> </li>\n",
       "</ul>\n",
       "</div>\n",
       "<div class=\"layer_foot\"> <a class=\"link_close\" data-tiara=\"번역닫기\" href=\"#none\" id=\"btnTranslateClose\"> <span class=\"ico_view\">닫기</span> </a>\n",
       "</div>\n",
       "</div>\n",
       "</div>\n",
       "<div class=\"loading_layer\" id=\"layerTranslating\" style=\"display:none\">\n",
       "<div class=\"inner_loading_layer\"> <span class=\"ico_view ico_loading\"></span> <strong class=\"tit_translate\">번역중</strong> <span class=\"ico_view txt_translate\">Now in translation</span>\n",
       "</div>\n",
       "</div>\n",
       "</div>\n",
       "<div class=\"item_util\" data-tiara-action-name=\"헤드글씨크기_클릭\"> <button class=\"btn_util btn_font\" data-tiara=\"글씨크기_조절하기\" type=\"button\"> <span class=\"ico_view\">글씨크기 조절하기</span> </button>\n",
       "<div class=\"view_layer\">\n",
       "<div class=\"inner_view_layer inner_fs_layer\">\n",
       "<div class=\"layer_head\"> <strong class=\"tit_layer\">글자크기 설정</strong> <span class=\"info_layer\">파란원을 좌우로 움직이시면 글자크기가 변경 됩니다.</span>\n",
       "</div>\n",
       "<div class=\"layer_body\">\n",
       "<div class=\"set_fs\"> <span aria-hidden=\"true\" class=\"txt_fs txt_small\">가</span>\n",
       "<ul class=\"list_fs\">\n",
       "<li> <input checked=\"\" class=\"inp_fs\" id=\"inpFont17\" name=\"inpFont\" type=\"radio\" value=\"17\"/> <label class=\"lab_fs\" for=\"inpFont17\">매우 작은 폰트</label> </li>\n",
       "<li> <input class=\"inp_fs\" id=\"inpFont18\" name=\"inpFont\" type=\"radio\" value=\"18\"/> <label class=\"lab_fs\" for=\"inpFont18\">작은 폰트</label> </li>\n",
       "<li> <input class=\"inp_fs\" id=\"inpFont19\" name=\"inpFont\" type=\"radio\" value=\"19\"/> <label class=\"lab_fs\" for=\"inpFont19\">보통 폰트</label> </li>\n",
       "<li> <input class=\"inp_fs\" id=\"inpFont21\" name=\"inpFont\" type=\"radio\" value=\"21\"/> <label class=\"lab_fs\" for=\"inpFont21\">큰 폰트</label> </li>\n",
       "<li> <input class=\"inp_fs\" id=\"inpFont23\" name=\"inpFont\" type=\"radio\" value=\"23\"/> <label class=\"lab_fs\" for=\"inpFont23\">매우 큰 폰트</label> </li>\n",
       "</ul> <span aria-hidden=\"true\" class=\"txt_fs txt_big\">가</span>\n",
       "</div>\n",
       "<div class=\"set_view fs_type1\">\n",
       "<p>이 글자크기로 변경됩니다.</p>\n",
       "<p>(예시) 가장 빠른 뉴스가 있고 다양한 정보, 쌍방향 소통이 숨쉬는 다음뉴스를 만나보세요. 다음뉴스는 국내외 주요이슈와 실시간 속보, 문화생활 및 다양한 분야의 뉴스를 입체적으로 전달하고 있습니다.</p>\n",
       "</div>\n",
       "</div>\n",
       "<div class=\"layer_foot\"> <a class=\"link_close\" data-tiara=\"글씨크기_닫기\" href=\"#none\"> <span class=\"ico_view\">닫기</span> </a>\n",
       "</div>\n",
       "</div>\n",
       "</div>\n",
       "</div>\n",
       "<div class=\"item_util\"> <button class=\"btn_util btn_print\" data-tiara=\"인쇄하기\" data-tiara-action-name=\"헤드인쇄_클릭\" type=\"button\"> <span class=\"ico_view\">인쇄하기</span> </button>\n",
       "</div>\n",
       "</div>\n",
       "</div>\n",
       "</div>\n",
       "<div class=\"news_view fs_type1\" data-cloud=\"article_body\">\n",
       "<div id=\"layerTranslateNotice\" style=\"display:none;\">\n",
       "</div> <strong class=\"summary_view\" data-translation=\"true\">아르테미스 로켓·우주선 비행시험 목표 달성…\"현재로선 지체될 것 없어\"</strong>\n",
       "<div class=\"article_view\" data-tiara-action-name=\"본문이미지확대_클릭\" data-tiara-layer=\"article_body\" data-translation-body=\"true\">\n",
       "<section dmcf-sid=\"q3dkNYiHHx\">\n",
       "<figure class=\"figure_frm origin_fig\" dmcf-pid=\"B6mYvBOKGQ\" dmcf-ptype=\"figure\">\n",
       "<p class=\"link_figure\"><img alt=\"발사대에 세워진 아르테미스1 로켓과 우주선  [NASA 제공/ 재판매 및 DB 금지] photo@yna.co.kr\" class=\"thumb_g_article\" data-org-src=\"https://t1.daumcdn.net/news/202303/08/yonhap/20230308102540930ytfp.jpg\" data-org-width=\"985\" dmcf-mid=\"zdEvCuwzXM\" dmcf-mtype=\"image\" height=\"auto\" src=\"https://img2.daumcdn.net/thumb/R658x0.q70/?fname=https://t1.daumcdn.net/news/202303/08/yonhap/20230308102540930ytfp.jpg\" width=\"658\"/></p>\n",
       "<figcaption class=\"txt_caption default_figure\">\n",
       "            발사대에 세워진 아르테미스1 로켓과 우주선 [NASA 제공/ 재판매 및 DB 금지] photo@yna.co.kr\n",
       "           </figcaption>\n",
       "</figure>\n",
       "<p dmcf-pid=\"bA5BuJtn1P\" dmcf-ptype=\"general\">(서울=연합뉴스) 엄남석 기자 = 미국 항공우주국(NASA)이 달 궤도까지 유인비행을 다녀오는 '아르테미스(Artemis) 2'를 내년 11월 말에 발사키로 했다.</p>\n",
       "<p dmcf-pid=\"K4wylzmBZ6\" dmcf-ptype=\"general\">AFP통신에 따르면 짐 프리 NASA 부국장은 7일 \"아르테미스 2 유인비행을 학수고대하고 있다\"면서 아르테미스2가 내년 11월 말 발사를 위한 궤도에 올라 있다고 밝혔다.</p>\n",
       "<p dmcf-pid=\"9el1Hfv858\" dmcf-ptype=\"general\">아르테미스 프로그램을 통해 반세기만의 달 복귀와 상주를 추진 중인 NASA는 지난해 말 25일에 걸쳐 달 궤도까지 무인비행을 다녀오는 아르테미스1을 통해 주력 로켓으로 개발된 '우주발사시스템'(SLS)과 '오리온' 우주선의 성능을 시험했다.</p>\n",
       "<p dmcf-pid=\"2ny01PYx54\" dmcf-ptype=\"general\">NASA는 이를 통해 총 161가지 시험비행 목표를 달성했으며, 아르테미스2를 비롯한 미래 미션이 계획대로 진행될 것이라고 했다. </p>\n",
       "<p dmcf-pid=\"Vw0VbgUN5f\" dmcf-ptype=\"general\">아르테미스 2는 1972년 아폴로 17호 이후 53년여만에 미국 우주비행사를 달 남극에 착륙시키게 될 아르테미스 3에 앞서 우주비행사 4명을 태우고 달 궤도를 돌고 오는 유인비행 임무를 수행하게 된다.</p>\n",
       "<p dmcf-pid=\"fA5BuJtn5V\" dmcf-ptype=\"general\">프리 부국장은 \"아르테미스1을 통해 확인된 것을 토대로 할 때 현재로선 지체될 것이 아무것도 없다\"고 했다. </p>\n",
       "<p dmcf-pid=\"4MCZY2lfX2\" dmcf-ptype=\"general\">NASA는 올해 말 아르테미스2 미션에 투입될 우주비행사를 선발할 예정인데, 캐나다 우주비행사 한 명이 포함될 것이라는 점만 알려져 있다.</p>\n",
       "<p dmcf-pid=\"8dStX4T6Y9\" dmcf-ptype=\"general\">아르테미스3은 아르테미스2 미션이 성공한 뒤 약 12개월 뒤에 진행될 예정인데, 스페이스X가 개발을 맡은 달 착륙선과 우주비행사들이 입을 우주복 등 달 착륙에 필요한 몇몇 장비들은 아직 개발단계에 있다.</p>\n",
       "<p dmcf-pid=\"6tRAgydYZK\" dmcf-ptype=\"general\">NASA는 아르테미스3을 통해 인류 최초의 여성과 유색인종 우주비행사를 달에 착륙시켜 달 착륙 우주비행사 구성을 다양화할 계획이다.</p>\n",
       "<p dmcf-pid=\"PuLrkZg1tb\" dmcf-ptype=\"general\">지금까지 달을 밟은 우주비행사 12명은 모두 백인 남성으로만 구성돼있다.</p>\n",
       "<p dmcf-pid=\"QD32BopaGB\" dmcf-ptype=\"general\">eomns@yna.co.kr</p>\n",
       "<p dmcf-pid=\"yLWptQGM1z\" dmcf-ptype=\"general\">▶제보는 카톡 okjebo</p>\n",
       "</section>\n",
       "</div>\n",
       "<p data-translation=\"true\">저작권자(c)연합뉴스. 무단전재-재배포금지</p>\n",
       "</div>\n",
       "<div class=\"emotion_wrap\" data-cloud=\"newsview_alex_action_emotion\">\n",
       "<div class=\"emotion_tit\"> <strong class=\"tit_emotion\">이 기사에 대해 어떻게 생각하시나요?</strong>\n",
       "</div>\n",
       "<div class=\"emotion_list\" data-tiara-layer=\"alex_action_emotion\">\n",
       "<div class=\"alex-actions\" data-action-mode=\"REACTION\" data-client-id=\"26BXAvKny5WF5Z09lr5k77Y8\" data-item-key=\"20230308102540253\" data-message-channel=\"alex-action-reactions\" id=\"alex_action_emotion\">\n",
       "</div>\n",
       "</div>\n",
       "</div>\n",
       "<div class=\"viewrelate_wrap\" data-cloud=\"newsview_pc_related_news\">\n",
       "<div class=\"viewrelate_tit\"> <strong class=\"tit_viewrelate\">연합뉴스에서 직접 확인하세요.</strong> <span class=\"txt_viewrelate\">해당 언론사로 이동합니다.</span>\n",
       "</div>\n",
       "<ul class=\"list_viewrelate\" data-tiara-action-kind=\"ClickContent\" data-tiara-action-name=\"본문아웃링크_클릭\" data-tiara-layer=\"media_related_news\" data-tiara-ordnum-layer=\"\">\n",
       "<li> <a class=\"link_txt\" data-tiara=\"리스트\" data-type=\"rss\" href=\"https://www.yna.co.kr/view/AKR20230308025500005?input=feed_daum\" target=\"_blank\"> 황영웅 하차한 '불타는 트롯맨' 최종 우승은 손태진 </a> </li>\n",
       "<li> <a class=\"link_txt\" data-tiara=\"리스트\" data-type=\"rss\" href=\"https://www.yna.co.kr/view/AKR20230308021200004?input=feed_daum\" target=\"_blank\"> '왜 늦게 들어와' 다투다 딸에게 흉기 휘두른 엄마 체포 </a> </li>\n",
       "<li> <a class=\"link_txt\" data-tiara=\"리스트\" data-type=\"rss\" href=\"https://www.yna.co.kr/view/AKR20230308005500075?input=feed_daum\" target=\"_blank\"> 美 동물원서 악어알 훔쳐 20년간 기른 여성, 경범죄로 기소 </a> </li>\n",
       "<li> <a class=\"link_txt\" data-tiara=\"리스트\" data-type=\"rss\" href=\"https://www.yna.co.kr/view/AKR20230307162600009?input=feed_daum\" target=\"_blank\"> '고양이만 한 쥐'에 해안절벽 침식…불안한 영국 마을 </a> </li>\n",
       "<li> <a class=\"link_txt\" data-tiara=\"리스트\" data-type=\"rss\" href=\"https://www.yna.co.kr/view/AKR20230307098951060?input=feed_daum\" target=\"_blank\"> 잠은 돼지우리 옆에서…10년간 돼지똥 치우다 숨지니 버려 </a> </li>\n",
       "<li> <a class=\"link_txt\" data-tiara=\"리스트\" data-type=\"rss\" href=\"https://www.yna.co.kr/view/AKR20230307159200530?input=feed_daum\" target=\"_blank\"> 막 겨울잠 깼는데…알 낳으러 가다 길에서 죽은 두꺼비 328마리 </a> </li>\n",
       "<li> <a class=\"link_txt\" data-tiara=\"리스트\" data-type=\"rss\" href=\"https://www.yna.co.kr/view/AKR20230307141900005?input=feed_daum\" target=\"_blank\"> \"그런 옷 입지 말았어야지\"…침묵 강요받는 성폭력 피해자들 </a> </li>\n",
       "<li> <a class=\"link_txt\" data-tiara=\"리스트\" data-type=\"rss\" href=\"https://www.yna.co.kr/view/AKR20230307066851055?input=feed_daum\" target=\"_blank\"> \"우리 아들 제발 살려달라\"…순직 소방관 빈소 눈물바다 </a> </li>\n",
       "<li> <a class=\"link_txt\" data-tiara=\"리스트\" data-type=\"rss\" href=\"https://www.yna.co.kr/view/AKR20230307030251065?input=feed_daum\" target=\"_blank\"> 인천대교서 떨어진 20대 사망…드럼통 1천500개 무용지물 </a> </li>\n",
       "<li> <a class=\"link_txt\" data-tiara=\"리스트\" data-type=\"rss\" href=\"https://www.yna.co.kr/view/AKR20230307065100053?input=feed_daum\" target=\"_blank\"> 아파트 환풍구 추락 전신마비 40대, 6억7천만원 배상금 받게 돼 </a> </li>\n",
       "</ul>\n",
       "</div>\n",
       "<div class=\"ad_wrap\" data-cloud=\"pc_article_bottom_ad_v2\">\n",
       "<ins class=\"kakao_ad_area recomm_ad\" data-ad-height=\"120\" data-ad-onfail=\"removeParentElement\" data-ad-param-channel=\"harmony\" data-ad-param-cp=\"2_pc_media_news\" data-ad-unit=\"DAN-28ewRUAQYNwThl1H\" data-ad-width=\"655\" style=\"display: block; text-decoration: none; height: 120px; max-height: inherit; min-height: 120px; min-width: 655px; width: 655px;\"> </ins>\n",
       "</div>\n",
       "</article>\n",
       "<div class=\"box_cmt\" data-cloud=\"newsview_pc_comment\" data-tiara-layer=\"comment\">\n",
       "<div class=\"alex-area\" data-base-url=\"//comment.daum.net\" data-client-id=\"26BXAvKny5WF5Z09lr5k77Y8\" data-initial-limit=\"3\" data-is-mobile=\"false\" data-kakao-appkey=\"53e566aa17534bc816eb1b5d8f7415ee\" data-margin-top=\"86\" data-max-length=\"300\" data-page-limit=\"10\" data-post-id=\"@20230308102540253\" data-show-mask-alert=\"true\" data-sort=\"P\" data-use-attachment=\"false\" data-use-emoticon=\"true\" data-use-fold=\"true\" data-use-force-fold=\"true\" data-use-live-comment-mode=\"notify\" data-use-my=\"true\" data-use-official=\"true\" data-use-reply=\"true\" data-use-safebot=\"true\" data-use-skin=\"newsView\" data-use-social-share=\"true\" id=\"alex-area\">\n",
       "</div>\n",
       "</div>\n",
       "</div>\n",
       "<aside class=\"main-etc\" data-cloud-area=\"aside\">\n",
       "<div class=\"box_cluster box_ad\" data-cloud=\"pc_aside_top_ad_v2\">\n",
       "<ins class=\"kakao_ad_area aside_g aside_ad\" data-ad-height=\"250\" data-ad-onfail=\"removeParentElement\" data-ad-param-channel=\"harmony\" data-ad-param-cp=\"2_pc_media_news\" data-ad-unit=\"05d24\" data-ad-width=\"250\" style=\"display: block; width: 250px; height: 250px; text-decoration: none; max-height: inherit; min-height: 250px; min-width: 250px;\"> </ins>\n",
       "</div>\n",
       "<div class=\"box_cluster box_news_recomm\" data-cloud=\"newsview_realtime_news\">\n",
       "<div class=\"box_tit\">\n",
       "<h3 class=\"tit_box\">이 시각 추천뉴스</h3>\n",
       "</div>\n",
       "<ul class=\"list_column\" data-tiara-action-kind=\"ClickContent\" data-tiara-action-name=\"하단추천리스트_클릭\" data-tiara-layer=\"toros_recommend_one_column\" data-tiara-ordnum-layer=\"\">\n",
       "<li class=\"item_toros\"></li>\n",
       "<li class=\"item_toros\"></li>\n",
       "<li class=\"item_toros\"></li>\n",
       "<li class=\"item_toros\"></li>\n",
       "<li class=\"item_nachu\"></li>\n",
       "<li class=\"item_nachu\"></li>\n",
       "<li class=\"item_nachu\"></li>\n",
       "<li class=\"item_toros\"></li>\n",
       "<li class=\"item_nachu\"></li>\n",
       "<li class=\"item_nachu\"></li>\n",
       "<li class=\"item_toros\"></li>\n",
       "<li class=\"item_nachu\"></li>\n",
       "<li class=\"item_nachu\"></li>\n",
       "<li class=\"item_toros\"></li>\n",
       "<li class=\"item_nachu\"></li>\n",
       "<li class=\"item_toros\"></li>\n",
       "<li class=\"item_toros\"></li>\n",
       "<li class=\"item_nachu\"></li>\n",
       "<li class=\"item_toros\"></li>\n",
       "</ul>\n",
       "</div>\n",
       "<div class=\"box_cluster box_news_pick\" data-cloud=\"newsview_special_series\" id=\"special_series_list\">\n",
       "</div>\n",
       "<div class=\"box_cluster box_news_press\" data-cloud=\"newsview_similar_news\">\n",
       "<div class=\"box_tit\">\n",
       "<h3 class=\"tit_box\">이 주제에 주목한 다른 언론사 뉴스</h3>\n",
       "</div>\n",
       "<ul class=\"list_column\" data-tiara-action-kind=\"ClickContent\" data-tiara-action-name=\"하단주제별뉴스_클릭\" data-tiara-layer=\"notable_news\" data-tiara-ordnum-layer=\"\">\n",
       "</ul>\n",
       "</div>\n",
       "<div class=\"box_cluster box_news_rank\" data-cloud=\"newsview_pc_ranking_news\" id=\"rankingNewsContainer\" style=\"display: none;\">\n",
       "<div>\n",
       "</div>\n",
       "</div>\n",
       "<div class=\"box_cluster box_news_keyword\" data-cloud=\"newsview_pc_keyword_news\" data-tiara-action-kind=\"ClickContent\" data-tiara-action-name=\"관련키워드_클릭\" data-tiara-layer=\"related_keyword\" id=\"keyword_news_list\"></div>\n",
       "<div class=\"box_cluster box_shortcut\" data-cloud=\"service_direct_link_v2\" data-tiara-action-kind=\"ClickContent\" data-tiara-action-name=\"서비스바로가기_클릭\" data-tiara-layer=\"service_directlink\">\n",
       "<div class=\"box_tit\">\n",
       "<h3 class=\"tit_box\">서비스 바로가기</h3>\n",
       "</div>\n",
       "<ul class=\"tab_shortcut\" id=\"serviceDirect\" role=\"tablist\">\n",
       "<li role=\"presentation\"> <a class=\"link_tab\" data-tiara=\"뉴스\" role=\"tab\">뉴스</a></li>\n",
       "<li role=\"presentation\"> <a class=\"link_tab\" data-tiara=\"연예\" role=\"tab\">연예</a> </li>\n",
       "<li role=\"presentation\"> <a class=\"link_tab\" data-tiara=\"스포츠\" role=\"tab\">스포츠</a> </li>\n",
       "</ul>\n",
       "<div>\n",
       "<div class=\"tabcont_service\" style=\"display: none\"> <strong class=\"screen_out\">뉴스</strong>\n",
       "<ul class=\"list_linkservice\" data-tiara=\"뉴스\">\n",
       "<li><a class=\"link_linkservice\" href=\"//news.daum.net\">뉴스 홈</a></li>\n",
       "<li><a class=\"link_linkservice\" href=\"//news.daum.net/society\">사회</a></li>\n",
       "<li><a class=\"link_linkservice\" href=\"//news.daum.net/politics\">정치</a></li>\n",
       "<li><a class=\"link_linkservice\" href=\"//news.daum.net/economic\">경제</a></li>\n",
       "<li><a class=\"link_linkservice\" href=\"//news.daum.net/foreign\">국제</a></li>\n",
       "<li><a class=\"link_linkservice\" href=\"//news.daum.net/culture\">문화</a></li>\n",
       "<li><a class=\"link_linkservice\" href=\"//news.daum.net/digital\">IT</a></li>\n",
       "<li><a class=\"link_linkservice\" href=\"//news.daum.net/series\">연재</a></li>\n",
       "<li><a class=\"link_linkservice\" href=\"//news.daum.net/photo\">포토</a></li>\n",
       "<li><a class=\"link_linkservice\" href=\"//news.daum.net/info/correct\">정정보도</a></li>\n",
       "<li><a class=\"link_linkservice\" href=\"//pf.kakao.com/_WlSxbu\">뉴스봇</a></li>\n",
       "<li><a class=\"link_linkservice\" href=\"//focus.daum.net/ch/news/factcheck\">팩트체크</a></li>\n",
       "</ul>\n",
       "</div>\n",
       "<div class=\"tabcont_service\" style=\"display: none\"> <strong class=\"screen_out\">연예</strong>\n",
       "<ul class=\"list_linkservice\" data-tiara=\"연예\">\n",
       "<li><a class=\"link_linkservice\" href=\"//entertain.daum.net\">연예 홈</a></li>\n",
       "<li><a class=\"link_linkservice\" href=\"//entertain.daum.net/news\">최신뉴스</a></li>\n",
       "<li><a class=\"link_linkservice\" href=\"//entertain.daum.net/tv\">TV</a></li>\n",
       "<li><a class=\"link_linkservice\" href=\"//entertain.daum.net/photo\">포토</a></li>\n",
       "<li><a class=\"link_linkservice\" href=\"//entertain.daum.net/ranking/popular\">많이 본 뉴스</a></li>\n",
       "<li><a class=\"link_linkservice\" href=\"//entertain.daum.net/ranking/keyword\">TOP 키워드</a></li>\n",
       "<li><a class=\"link_linkservice\" href=\"//entertain.daum.net/news/series\">연재</a></li>\n",
       "<li><a class=\"link_linkservice\" href=\"//entertain.daum.net/poll\">투표</a></li>\n",
       "<li><a class=\"link_linkservice\" href=\"//movie.daum.net/main \">영화</a></li>\n",
       "</ul>\n",
       "</div>\n",
       "<div class=\"tabcont_service\" style=\"display: none\"> <strong class=\"screen_out\">스포츠</strong>\n",
       "<ul class=\"list_linkservice\" data-tiara=\"스포츠\">\n",
       "<li><a class=\"link_linkservice\" href=\"//sports.daum.net/\">스포츠 홈</a></li>\n",
       "<li><a class=\"link_linkservice\" href=\"//sports.daum.net/soccer/\">축구</a></li>\n",
       "<li><a class=\"link_linkservice\" href=\"//sports.daum.net/worldsoccer/\">해외축구</a></li>\n",
       "<li><a class=\"link_linkservice\" href=\"//sports.daum.net/baseball/\">야구</a></li>\n",
       "<li><a class=\"link_linkservice\" href=\"//sports.daum.net/worldbaseball/\">해외야구</a></li>\n",
       "<li><a class=\"link_linkservice\" href=\"//sports.daum.net/golf/\">골프</a></li>\n",
       "<li><a class=\"link_linkservice\" href=\"//sports.daum.net/basketball/\">농구</a></li>\n",
       "<li><a class=\"link_linkservice\" href=\"//sports.daum.net/volleyball/\">배구</a></li>\n",
       "<li><a class=\"link_linkservice\" href=\"//sports.daum.net/general/\">일반</a></li>\n",
       "<li><a class=\"link_linkservice\" href=\"//sports.daum.net/esports/\">e-스포츠</a></li>\n",
       "<li><a class=\"link_linkservice\" href=\"//sports.daum.net/cartoon/\">카툰</a></li>\n",
       "<li><a class=\"link_linkservice\" href=\"//sports.daum.net/video/\">영상 홈</a></li>\n",
       "</ul>\n",
       "</div>\n",
       "</div>\n",
       "</div>\n",
       "<div class=\"box_cluster box_notice\" data-cloud=\"newsview_service_notice\" data-tiara-action-name=\"공지사항_클릭\" data-tiara-layer=\"notice\" id=\"service_notice\"></div>\n",
       "<div class=\"box_cluster box_ad\" data-cloud=\"pc_aside_bottom_ad_v2\">\n",
       "<ins class=\"kakao_ad_area aside_g aside_ad\" data-ad-height=\"250\" data-ad-onfail=\"removeParentElement\" data-ad-param-channel=\"harmony\" data-ad-param-cp=\"2_pc_media_news\" data-ad-unit=\"0QH44\" data-ad-width=\"250\" style=\"display: block; width: 250px; height: 250px; text-decoration: none; max-height: inherit; min-height: 250px; min-width: 250px;\"> </ins>\n",
       "</div>\n",
       "</aside>\n",
       "</section>\n",
       "</main>\n",
       "<footer class=\"doc-footer\" data-cloud-area=\"footer\" id=\"kakaoFoot\">\n",
       "<div class=\"inner_foot\" data-cloud=\"newsview_pc_footer\" data-tiara-action-name=\"푸터_클릭\" data-tiara-layer=\"footer\">\n",
       "<div class=\"direct_link\">\n",
       "<h2 class=\"tit_direct\">바로가기</h2>\n",
       "<div class=\"item_bundle\"> <a class=\"link_txt\" href=\"https://news.daum.net/\">뉴스홈</a> <a class=\"link_txt\" href=\"https://news.daum.net/society/\">사회</a> <a class=\"link_txt\" href=\"https://news.daum.net/politics/\">정치</a> <a class=\"link_txt\" href=\"https://news.daum.net/economic/\">경제</a> <a class=\"link_txt\" href=\"https://news.daum.net/foreign/\">국제</a> <a class=\"link_txt\" href=\"https://news.daum.net/culture/\">문화</a> <a class=\"link_txt\" href=\"https://news.daum.net/digital/\">IT</a> <a class=\"link_txt\" href=\"https://news.daum.net/photo/\">포토</a>\n",
       "</div>\n",
       "<div class=\"item_bundle\"> <a class=\"link_txt\" href=\"https://news.daum.net/cp\">언론사별 뉴스</a>\n",
       "</div>\n",
       "<div class=\"item_bundle\"> <a class=\"link_txt\" href=\"https://news.daum.net/newsbox\">배열이력</a>\n",
       "</div>\n",
       "<div class=\"item_bundle\"> <a class=\"link_txt\" href=\"https://news.daum.net/breakingnews\">전체뉴스</a> <a class=\"link_txt\" href=\"https://news.daum.net/series\">연재</a> <a class=\"link_txt\" href=\"https://focus.daum.net/ch/news/factcheck\">팩트체크</a>\n",
       "</div> <button class=\"btn_fold\" type=\"button\"> <span class=\"ico_view\">바로가기 링크 더보기/접기</span> </button>\n",
       "</div>\n",
       "<div class=\"footer_service\">\n",
       "<h2 class=\"screen_out\">서비스 이용정보</h2>\n",
       "<div class=\"footer_link\"> <a class=\"link_info #info_daumnews\" href=\"//news.daum.net/info/intro\">다음뉴스 소개</a> <span class=\"txt_dot\"> ・ </span> <a class=\"link_info #notice\" href=\"//news.daum.net/notice\">공지사항</a> <span class=\"txt_dot\"> ・ </span> <a class=\"link_info #bbsrule\" href=\"//news.daum.net/info/bbsrule\">게시물 운영원칙</a> <span class=\"txt_dot\"> ・ </span> <a class=\"link_info #policy\" href=\"//policy.daum.net/info/info\">서비스 약관/정책</a> <span class=\"txt_dot\"> ・ </span> <a class=\"link_info #harmony\" href=\"//with.kakao.com/media\">뉴스제휴</a> <span class=\"txt_dot\"> ・ </span> <a class=\"link_info #adinfo\" href=\"//business.kakao.com\">비즈니스</a> <span class=\"txt_dot\"> ・ </span> <a class=\"link_info #redbell\" href=\"//cs.daum.net/redbell/top.html\">권리침해신고</a> <span class=\"txt_dot\"> ・ </span> <a class=\"link_info #consumer\" href=\"//cs.daum.net/faq/63.html\">다음뉴스 고객센터</a>\n",
       "</div>\n",
       "<div class=\"footer_link\"> <a class=\"link_info #newscenter\" href=\"//news.daum.net/info/newscenter24\">24시간 뉴스센터</a> <span class=\"txt_dot\"> ・ </span> <a class=\"link_info #edit\" href=\"//news.daum.net/info/edit\">서비스원칙</a> <span class=\"txt_dot\"> ・ </span> <a class=\"link_info #correct\" href=\"//news.daum.net/info/correct\">고침기사, 정정・반론・추후보도 모음</a> <span class=\"txt_dot\"> ・ </span> <span class=\"link_info\">기사배열책임자 : 황유지</span> <span class=\"txt_dot\"> ・ </span> <span class=\"link_info\">청소년보호책임자 : 손성희</span>\n",
       "</div>\n",
       "</div>\n",
       "<div class=\"info_copyright\"> <em class=\"txt_warn\">위 내용에 대한 저작권 및 법적 책임은 자료제공사 또는 <br/>글쓴이에 있으며, Kakao의 입장과 다를 수 있습니다.</em> <small class=\"txt_copyright\">Copyright © <a class=\"link_kakao\" href=\"https://www.kakaocorp.com\">Kakao Corp.</a> All rights reserved.</small>\n",
       "</div>\n",
       "</div>\n",
       "</footer>\n",
       "</div>\n",
       "<div data-cloud-area=\"util\">\n",
       "</div>\n",
       "<script src=\"//t1.daumcdn.net/harmony_static/cloud/2023/02/22/vendor.1687580f7a28c20f6195.js\"></script>\n",
       "<script src=\"//t1.daumcdn.net/harmony_static/cloud/2023/02/22/common.d43a3472be064141f376.js\"></script>\n",
       "<script src=\"//t1.daumcdn.net/kas/static/ba.min.js\"></script>\n",
       "<script src=\"//t1.daumcdn.net/kas/static/na.min.js\"></script>\n",
       "<script src=\"//m1.daumcdn.net/svc/original/U03/cssjs/userAgent/userAgent-1.0.12.min.js\"></script>\n",
       "<script src=\"https://t1.daumcdn.net/cssjs/jquery/jquery-1.9.0.min.js\"></script>\n",
       "<script src=\"https://search1.daumcdn.net/search/suggest_pc/suggest-1.2.16.min.js\"></script>\n",
       "<script src=\"//t1.daumcdn.net/daumtop_deco/socialshare/socialshare_pc-2.4.4.js\"></script>\n",
       "<script>\"use strict\";!(function(){var e=document.getElementById('daumSearchLayer');function t(){var e=document.getElementById('suggestList'),t=null==e?void 0:e.querySelectorAll('li');0===a.value.length&&e?e.parentNode.removeChild(e):t&&0<t.length?u.classList.add('sgt_on'):u.classList.remove('sgt_on')}new suggest.Suggest(e,{inputEl:'qVal',suggestBoxEl:'suggestBox',autoFocus:'NORMAL',suggestLimit:10,isReverse:!1,searchURL:'https://search.daum.net/search',APIServer:{host:'//dapi.kakao.com/suggest/v2/pc.json',apiType:suggest.Suggest.APITYPE.DAPISUGGEST,appkey:'d7022f6ca2a04430ce1b97b922da58e8',queries:{mod:'json',code:'utf_in_out'}}}).on('click-item',function(){var e=document.getElementById('daumSearchForm');e.querySelector(\"input[name='DA']\").value='23B',e.submit()});var n,s,l,a=document.getElementById('qVal'),u=document.getElementById('daumSearchLayer');a&&u&&(a.addEventListener?(a.addEventListener('focus',function(e){e&&e.preventDefault(),u.classList.add('search_on'),t()}),a.addEventListener('blur',function(e){e&&e.preventDefault(),0===a.value.length&&u.classList.remove('search_on')}),[\"keyup\",\"keydown\",\"cut\",\"paste\"].forEach(function(e){a.addEventListener(e,function(){var e;(e=document.getElementById('daumBtnReset'))&&(e.style.display=0===a.value.length?\"\":\"inline-block\",e.onclick=function(){a.value='',e.style.display=''}),t()})})):(a.attachEvent('onfocus',function(e){e&&(e.preventDefault?e.preventDefault():e.returnValue=!1),0<=a.value.length&&(e=(e=u.getAttribute('class')).includes('search_on')?e:\"\".concat(e,\" search_on\"),u.setAttribute('class',e))}),a.attachEvent('onblur',function(e){e&&(e.preventDefault?e.preventDefault():e.returnValue=!1),0===a.value.length&&(e=u.getAttribute('class'),u.setAttribute('class',e.replace('search_on','')))}),[\"keyup\",\"keydown\",\"cut\",\"paste\"].forEach(function(e){a.attachEvent(e,function(e){var t=u.getAttribute('class'),n=document.querySelectorAll('#suggestBox ul > li');n&&0<n.length?(n=t.includes('sgt_on')?t:\"\".concat(t,\" sgt_on\"),u.setAttribute('class',n)):u.setAttribute('class',t.replace('sgt_on',''))})})),n=document.querySelector('.user_service .link_search'),s=document.querySelector('.user_service .link_closed'),l=document.querySelector('.util_socialchare'),n.addEventListener(\"click\",function(e){e.preventDefault(),u.style.display='block',s.style.display='inline',n.style.display='none',l.style.display='none'}),s.addEventListener(\"click\",function(e){e.preventDefault(),u.style.display='none',s.style.display='none',n.style.display='',l.style.display=''}))})(jQuery);</script>\n",
       "<script id=\"suggest-list-template\" type=\"text/html\">\n",
       "    <div class=\"baseBox\">\n",
       "        <h3 class=\"screen_out\">검색어 자동완성 목록</h3>\n",
       "        <ul id=\"suggestList\" class=\"list_suggest\" data-bind=\"foreach: $data.items\">\n",
       "            <li data-bind=\"\n",
       "                click: function() {\n",
       "                    $root.keywordInput.setSelectedQuery($data.item);\n",
       "                    $root.forceFormSubmit();\n",
       "                },\n",
       "                event: {\n",
       "                    mouseover: function () {\n",
       "                        $root.suggestList.mouseOverItem($data)\n",
       "                    }\n",
       "                },\n",
       "                mouseoverBubble: false,\n",
       "                css: { on: isActivated() }\"\n",
       "            >\n",
       "                <a href=\"#none\" class=\"item bg link_suggest\" data-bind=\"html: highlight()\"></a>\n",
       "            </li>\n",
       "        </ul>\n",
       "    </div>\n",
       "</script>\n",
       "<script>\"use strict\";document.addEventListener('DOMContentLoaded',function(){var e,a,t=document.getElementById('rSocialShareButton2'),n=document.getElementById('rSocialShareLayerContainer2'),o=\"https://v.daum.net/v/\".concat('20230308102540253'||'7SecaWJG1R');new socialshareRenewal.Main(t,{moreViewContainer:n,action:'click',link:o,prefix:(e='달 궤도 유인비행 &#x27;아르테미스2&#x27; 내년 11월 말 발사',(a=document.createElement('div')).innerHTML=e,a.textContent),service_name:'언론사 뷰',kakaoAPI:{appkey:'53e566aa17534bc816eb1b5d8f7415ee',kakaoLinkData:{shareType:'sendScrap',shareData:{requestUrl:\"\".concat(o,\"?f=p\"),templateId:7952,installTalk:!0,templateArgs:{'${EncodingUrl}':encodeURIComponent(\"\".concat(o)),'${webUrl}':\"\".concat(o,\"?f=p\"),'${mobileWebUrl}':\"\".concat(o,\"?f=m\")}}}},isDarkMode:window.matchMedia('(prefers-color-scheme: dark)').matches})});</script>\n",
       "<script>\"use strict\";!(function(){var e=document.querySelector('.doc-header'),n=document.querySelector('.container-doc'),o=null;window.addEventListener('scroll',function(){o&&window.cancelAnimationFrame(o),o=window.requestAnimationFrame(function(){(window.scrollY||window.pageYOffset)>e.offsetHeight?n.classList.add('head_fixed'):n.classList.remove('head_fixed')})})})();</script>\n",
       "<script>\"use strict\";!(function(){var e,n=document.getElementById('digestViewLayer');n&&(null!==(e=document.querySelector('.btn_synop'))&&void 0!==e&&e.addEventListener('click',function(){n.style.display='block'}),null!==(e=n.querySelector('.link_close'))&&void 0!==e&&e.addEventListener('click',function(e){e.preventDefault(),n.style.display='none'}))})();</script>\n",
       "<script>\"use strict\";!(function(){var e,n,t,a,c,l,s=\"VIEW_TTS\",o={slow_Male:\"http://k-v1.kakaocdn.net/dn/bx67Wc/btr2C8Wz4wz/8qzG5WXWJeKzWEyOf5QZU1/original.m4a\",normal_Male:\"http://k-v1.kakaocdn.net/dn/lYxjH/btr2GK1p639/qKFAkYi2Y7FKwB7FfGr8jk/original.m4a\",fast_Male:\"http://k-v1.kakaocdn.net/dn/bhJlub/btr2Fdphk7z/1S43OuP1ZuYPzosl7zGczK/original.m4a\",slow_Female:\"http://k-v1.kakaocdn.net/dn/93Fux/btr2DCC9kTt/R90XSWWIRaqRauk9rZbuQk/original.m4a\",normal_Female:\"http://k-v1.kakaocdn.net/dn/dl0Mpu/btr2IwIz4ia/FT6OuoptMxiHhdYMxyKFak/original.m4a\",fast_Female:\"http://k-v1.kakaocdn.net/dn/bTsXdP/btr2wtAcepx/teXOokLvqnFlj6edVlhaB0/original.m4a\"},d=document.querySelector('.btn_tts'),r=document.getElementById('ttsViewLayer');d&&r&&(c=d.parentElement,e=r.querySelector('.link_close'),d.addEventListener('click',function(){r.style.display='block'}),e.addEventListener('click',function(e){e.preventDefault(),r.style.display='none'}),(n=c.querySelector('#ttsPlayer'))&&(document.querySelectorAll('.inp_tts').forEach(function(e){return e.addEventListener('change',function(){var e=r.querySelector('input[name=inpSpeed]:checked'),t=r.querySelector('input[name=inpGender]:checked');e&&t&&(t=\"\".concat(e.value,\"_\").concat(t.value),n.setAttribute('src',o[t]),Cookies.set(s,'',{expires:-1}),Cookies.set(s,t,{domain:'.v.daum.net',expires:365}))})}),c=r.querySelector('.btn_play'),t=document.querySelector('.btn_soundplay'),c&&t&&(c.addEventListener('click',function(){r.style.display='none',d.disabled=!0,t.className+=' play_on',n.play()}),t.addEventListener('click',function(){n.pause(),n.currentTime=0,t.classList.remove('play_on'),d.disabled=!1,d.classList.remove('on')}),n.addEventListener('ended',function(){t.classList.remove('play_on'),d.disabled=!1}),c=(c=Cookies.get(s))?(a='undefined'===(l=c.split('_'))[0]?'normal':l[0],'undefined'===l[1]?'Male':l[1]):(a='normal','Male'),(l=document.getElementById(\"inp\".concat(a.charAt(0).toUpperCase()).concat(a.substring(1))))&&(l.checked=\"checked\"),(l=document.getElementById(\"inp\".concat(c)))&&(l.checked=\"checked\"),n.setAttribute('src',o[\"\".concat(a,\"_\").concat(c)]))))})();</script>\n",
       "<script>\"use strict\";!(function(){var e,a,s,l=document.getElementById('btnTranslate'),t=document.getElementById('btnTranslateClose'),n=document.querySelectorAll('.btn_translate_target_lang'),i=document.getElementById('layerTranslate'),r=document.getElementById('layerTranslating'),c=document.getElementById('layerTranslateNotice');i&&r&&(e={en:'<span class=\"inner_status\"><p class=\"txt_status\">The copyright belongs to the original writer of the content, and there may be errors in machine translation results.</p></span>',cn:'<span class=\"inner_status\"><p class=\"txt_status\">版权归内容原作者所有。机器翻译结果可能存在错误。</p></span>',jp:'<span class=\"inner_status\"><p class=\"txt_status\">原文の著作権は原著著作者にあり、機械翻訳の結果にエラーが含まれることがあります。</p></span>',id:'<span class=\"inner_status\"><p class=\"txt_status\">Hak cipta milik penulis asli dari konten, dan mungkin ditemukan kesalahan dalam hasil terjemahan mesin.</p></span>',vi:'<span class=\"inner_status\"><p class=\"txt_status\">Bản quyền thuộc về tác giả gốc của nội dung và có thể có lỗi trong kết quả dịch bằng máy.</p></span>'},a=function(n){setTimeout(function(){var t;i.style.display='none',r.style.display='none',c&&(n&&'kr'===n.targetLang?(c.classList.remove('status_view'),c.style.display='none',c.innerHTML='',null!==(t=document.getElementById('kakaoWrap'))&&void 0!==t&&t.classList.remove('en')):(c.classList.add('status_view'),c.style.display='block',c.innerHTML=e.hasOwnProperty(n.targetLang)?e[n.targetLang]:e['en'],['cn, jp'].includes(n.targetLang)||null!==(t=document.getElementById('kakaoWrap'))&&void 0!==t&&t.classList.add('en')),l.classList.remove('on'))},500)},s=function(){a()},null!=l&&l.addEventListener('click',function(){i.style.display='block'}),null!=t&&t.addEventListener('click',function(t){t.preventDefault(),i.style.display='none'}),null!=n&&n.forEach(function(t){t.addEventListener('click',function(t){var n=t.currentTarget.name;i.querySelectorAll('.tit_lang').forEach(function(t){return t.classList.remove('tit_selected')}),null!==(t=this.querySelector('.tit_lang'))&&void 0!==t&&t.classList.add('tit_selected'),r.style.display='block',HarmonyTranslator.translate(\"kr\",n,a,s)})}))})();</script>\n",
       "<script>\"use strict\";!(function(){var e,t,n,i=(t=!(e=['inpFont18','inpFont17','inpFont19','inpFont21','inpFont23']),n=[],function(e){var t,n,i,o,r=c();if(r){for(o in r){if(!(r[o].x<e)){if(r[o].x>e){n=r[o];break}i=r[o];break}t=r[o]}return(i||(t&&(!n||n.x-e>e-t.x)?t:n)).element}});function c(){return t&&n[0].x==n[0].element.getBoundingClientRect().x?n:(n=(function(e){var n=[];if(!e.some(function(e){var t=document.getElementById(e).getBoundingClientRect();return!(0<t.x)||(n.push({id:e,element:document.getElementById(e),x:t.x}),!1)}))return n.sort(function(e,t){return e.x<t.x?-1:e.x>t.x?1:0})})(e))?(t=!0,n):void 0}var o=document.querySelector('.btn_font');if(o){var r=o.parentElement.querySelector('.view_layer');if(r){var s,a=r.querySelector('.link_close');o.addEventListener('click',function(){r.style.display='block'}),null!=a&&a.addEventListener('click',function(e){e.preventDefault(),r.style.display='none'}),null!==(a=r.querySelector('.list_fs'))&&void 0!==a&&a.addEventListener('touchmove',function(e){e=e.touches[0].clientX,e=i(e);e&&s!=e&&(s=e).click()});for(var u=['mobile_font_size','GS_font_size'],l=r.querySelector('.set_view'),f=document.querySelector('.news_view'),d=r.querySelectorAll('.inp_fs'),v=function(){return d.forEach(function(e){return e.removeAttribute('checked')})},m=new Map,p=0;p<d.length;p++)!(function(e){m.set(d[e].value,e),d[e].addEventListener('change',function(){var t=this;v(),this.setAttribute('checked',''),l.className=\"set_view fs_type\".concat(e+1),f.className=\"news_view fs_type\".concat(e+1),u.forEach(function(e){Cookies.set(e,'',{expires:-1}),Cookies.set(e,t.value,{domain:'.v.daum.net',expires:365})})})})(p);window.addEventListener(\"pageshow\",function(e){var t;(e.persisted||window.performance&&2===window.performance.navigation.type)&&(!(t=function(e){return!isNaN(Number(e))})(e=Cookies.get(u[0]))||t(e=m.get(e))&&(v(),d[e].setAttribute('checked',''),l.className=\"set_view fs_type\".concat(e+1),f.className=\"news_view fs_type\".concat(e+1)))})}}})();</script>\n",
       "<script>\"use strict\";document.body.querySelector(\".btn_print\").parentNode.addEventListener(\"click\",function(e){e.preventDefault(),window.open('https://v.daum.net/v/20230308102540253?s=print_news','newsPrint','width=750,height=550,scrollbars=yes')});</script>\n",
       "<script>\"use strict\";document.querySelectorAll('.head_view .item_util').forEach(function(e){var r,t=e.querySelector('.btn_util');null!=t&&(t.addEventListener('click',function(){t.classList.add('on');var r=e.querySelector('.view_layer');Array.from(document.querySelectorAll('.head_view .item_util .btn_util')).filter(function(e){return e!=t}).forEach(function(e){return e.classList.remove('on')}),Array.from(document.querySelectorAll('.head_view .item_util .view_layer')).filter(function(e){return e!=r}).forEach(function(e){return e.style.display='none'})}),null!==(r=e.querySelector('.view_layer .link_close'))&&void 0!==r&&r.addEventListener('click',function(){return t.classList.remove('on')}))});</script>\n",
       "<script>\"use strict\";!(function(){var c=document.querySelector('section[dmcf-sid]');if(c){var e=Array.prototype.map.call(c.querySelectorAll('[dmcf-pid]'),function(e,t){return{node:e,i:t}}),t=(function(){var t=60,n=['TABLE','FIGURE','IMG','IFRAME','VIDEO','AUDIO'];if(!c||c.offsetHeight<600)return-1;function a(e){return'general'!==e.getAttribute('dmcf-ptype')||(e=e,Array.prototype.find.call(e.querySelectorAll('*'),function(t){return n.find(function(e){return e===t.tagName})}))}var e=Array.prototype.map.call(c.querySelectorAll('[dmcf-pid]'),function(e,t){return{node:e,i:t}}),r=e.filter(function(e){return a(e.node)}),d=r.length-1,i=r.findIndex(function(e,t){return t===d||e.i+1!==r[t+1].i}),o=-1==d?0:r[i].i+1,i=r[i+1]?r[i+1].i:e.length,i=e.slice(o,i).filter(function(e){return e.node.offsetHeight>=t&&!a(e.node)});return i.length<4?-1:i[1].i})();if(t<0){if(''!='true')return;t=0}var n,a=((n=document.createElement(\"div\")).classList.add(\"ad_body2\"),window.removeArticleMiddleAd=function(){var e;return null===(e=n.parentElement)||void 0===e?void 0:e.removeChild(n)},n.innerHTML=\"\\n            <ins data-ad-unit=\\\"\".concat('DAN-LMhCax710HKR6iRC',\"\\\" data-ad-param-cp=\\\"\").concat(\"2_pc_media_news\",\"\\\" data-ad-param-channel=\\\"\").concat('harmony',\"\\\" data-ad-onfail=\\\"removeArticleMiddleAd\\\" data-ad-width=\\\"100%\\\">\\n            </ins>\\n        \"),n);c.insertBefore(a,e[t+1].node),adfit.render(a)}})();</script>\n",
       "<script type=\"text/javascript\">\n",
       "    \n",
       "    \n",
       "    \n",
       "    var alex = document.getElementById('alex_action_emotion');\n",
       "    alex.setAttribute('data-selections','[{\"type\":\"RECOMMEND\",\"animation\":\"SLIDE\",\"image\":\"https://t1.daumcdn.net/harmony_static/alex_emotion/SLIDE_RECOMMEND_1x.png\",\"highResImage\":\"https://t1.daumcdn.net/harmony_static/alex_emotion/SLIDE_RECOMMEND_2x.png\"},{\"type\":\"LIKE\",\"animation\":\"SLIDE\",\"image\":\"https://t1.daumcdn.net/harmony_static/alex_emotion/SLIDE_LIKE_1x.png\",\"highResImage\":\"https://t1.daumcdn.net/harmony_static/alex_emotion/SLIDE_LIKE_2x.png\"},{\"type\":\"IMPRESS\",\"animation\":\"SLIDE\",\"image\":\"https://t1.daumcdn.net/harmony_static/alex_emotion/SLIDE_IMPRESS_1x.png\",\"highResImage\":\"https://t1.daumcdn.net/harmony_static/alex_emotion/SLIDE_IMPRESS_2x.png\"},{\"type\":\"ANGRY\",\"animation\":\"SLIDE\",\"image\":\"https://t1.daumcdn.net/harmony_static/alex_emotion/SLIDE_ANGRY_1x.png\",\"highResImage\":\"https://t1.daumcdn.net/harmony_static/alex_emotion/SLIDE_ANGRY_2x.png\"},{\"type\":\"SAD\",\"animation\":\"SLIDE\",\"image\":\"https://t1.daumcdn.net/harmony_static/alex_emotion/SLIDE_SAD_1x.png\",\"highResImage\":\"https://t1.daumcdn.net/harmony_static/alex_emotion/SLIDE_SAD_2x.png\"}]');\n",
       "\n",
       "    var itemKey = alex.getAttribute('data-item-key');\n",
       "    if (isNumber(itemKey))\n",
       "        alex.setAttribute('data-item-key', '@' + itemKey);\n",
       "\n",
       "    function isNumber(x) {\n",
       "        return !isNaN(Number(x));\n",
       "    }\n",
       "</script>\n",
       "<script src=\"//action.kakao.com/latest/alex.actions.js\" type=\"text/javascript\"></script>\n",
       "<script src=\"//comment.daum.net/js/alex.single.js\"></script>\n",
       "<script>\"use strict\";!(function(){var e={},n='//i1.daumcdn.net/img-section/enter2013/liveviewer/pc_emot_co.gif';n&&(e.emptyImage=n),e.myComment='나의 댓글',window.excludeCorejs=!1,window.alexConfig={label:e,onLoad:function(){window.isLoadComment=!0}}})();</script>\n",
       "<script>\"use strict\";function _slicedToArray(e,t){return _arrayWithHoles(e)||_iterableToArrayLimit(e,t)||_unsupportedIterableToArray(e,t)||_nonIterableRest()}function _nonIterableRest(){throw new TypeError(\"Invalid attempt to destructure non-iterable instance.\\nIn order to be iterable, non-array objects must have a [Symbol.iterator]() method.\")}function _unsupportedIterableToArray(e,t){if(e){if(\"string\"==typeof e)return _arrayLikeToArray(e,t);var a=Object.prototype.toString.call(e).slice(8,-1);return\"Object\"===a&&e.constructor&&(a=e.constructor.name),\"Map\"===a||\"Set\"===a?Array.from(e):\"Arguments\"===a||/^(?:Ui|I)nt(?:8|16|32)(?:Clamped)?Array$/.test(a)?_arrayLikeToArray(e,t):void 0}}function _arrayLikeToArray(e,t){(null==t||t>e.length)&&(t=e.length);for(var a=0,r=new Array(t);a<t;a++)r[a]=e[a];return r}function _iterableToArrayLimit(e,t){if(\"undefined\"!=typeof Symbol&&Symbol.iterator in Object(e)){var a=[],r=!0,n=!1,i=void 0;try{for(var c,o=e[Symbol.iterator]();!(r=(c=o.next()).done)&&(a.push(c.value),!t||a.length!==t);r=!0);}catch(e){n=!0,i=e}finally{try{r||null==o[\"return\"]||o[\"return\"]()}finally{if(n)throw i}}return a}}function _arrayWithHoles(e){if(Array.isArray(e))return e}function ownKeys(t,e){var a,r=Object.keys(t);return Object.getOwnPropertySymbols&&(a=Object.getOwnPropertySymbols(t),e&&(a=a.filter(function(e){return Object.getOwnPropertyDescriptor(t,e).enumerable})),r.push.apply(r,a)),r}function _objectSpread(t){for(var e=1;e<arguments.length;e++){var a=null!=arguments[e]?arguments[e]:{};e%2?ownKeys(Object(a),!0).forEach(function(e){_defineProperty(t,e,a[e])}):Object.getOwnPropertyDescriptors?Object.defineProperties(t,Object.getOwnPropertyDescriptors(a)):ownKeys(Object(a)).forEach(function(e){Object.defineProperty(t,e,Object.getOwnPropertyDescriptor(a,e))})}return t}function _defineProperty(e,t,a){return t in e?Object.defineProperty(e,t,{value:a,enumerable:!0,configurable:!0,writable:!0}):e[t]=a,e}!(function(){var e,t,a,r,n,c='true'=='false',i=document.getElementById('special_series_list');function o(e){var t=e.seriesList,e=_slicedToArray(React.useState(t[0]),2),i=e[0],a=e[1];return React.createElement(React.Fragment,null,React.createElement(\"div\",{className:\"box_tit\"},React.createElement(\"h3\",{className:\"tit_box\"},\"연합뉴스\",\" PICK\")),c&&React.createElement(\"div\",{className:\"tabg_wrap\"},React.createElement(\"div\",{className:\"inner_wrap\"},React.createElement(\"ul\",{className:\"tab_g\",role:\"tablist\",\"data-tiara-layer\":\"media_pick_news\",\"data-tiara-action-name\":\"본문기획뉴스_클릭\"},t.map(function(t){return React.createElement(\"li\",{key:t.id,role:\"presentation\"},React.createElement(\"a\",{href:\"#none\",role:\"tab\",\"data-tiara\":\"탭\",\"aria-selected\":t.id==i.id?\"true\":\"false\",className:\"link_tab\",onClick:function(e){t.id!=i.id&&a(t),e.preventDefault()}},t.title))})))),!c&&React.createElement(\"ul\",{role:\"tablist\",className:\"tab_g\",\"data-tiara-layer\":\"media_pick_news\",\"data-tiara-action-name\":\"본문기획뉴스_클릭\"},t.map(function(t){return React.createElement(\"li\",{key:t.id,role:\"presentation\"},React.createElement(\"a\",{href:\"#none\",role:\"tab\",\"data-tiara\":\"탭\",\"aria-selected\":t.id==i.id?\"true\":\"false\",className:\"link_tab\",onClick:function(e){t.id!=i.id&&a(t),e.preventDefault()}},t.title))})),React.createElement(\"ul\",{className:\"list_column\",\"data-tiara-ordnum-layer\":!0,\"data-tiara-layer\":\"media_pick_news\",\"data-tiara-action-name\":\"본문기획뉴스_클릭\",\"data-tiara-action-kind\":\"ClickContent\"},i.contents.map(function(e){var t=e.contentId,a=e.title,r=e.thumbnail,n=e.createDt,e=e.mobileLink;return React.createElement(\"li\",{key:t},React.createElement(\"div\",{className:\"item_column\"},React.createElement(\"a\",{href:e,className:\"link_thumb\",\"data-tiara\":\"탭\".concat(i.index+1,\"_리스트\")},React.createElement(\"div\",{className:\"wrap_thumb\"},React.createElement(\"img\",{src:StringUtil.makeThumbnail(r,'S200x132','70'),className:\"thumb_g\",alt:\"\"})),React.createElement(\"div\",{className:\"cont_thumb\"},React.createElement(\"div\",{className:\"inner_cont\"},React.createElement(\"div\",{className:\"thumb_wrap\"},React.createElement(\"strong\",{className:\"tit_txt\"},a),\" \",React.createElement(\"span\",{className:\"info_thumb\"},StringUtil.makeViewTime(n))))))))})),React.createElement(\"div\",{className:\"btnmore_group\",\"data-tiara-layer\":\"media_pick_news\",\"data-tiara-action-name\":\"본문기획뉴스_클릭\",\"data-tiara-action-kind\":\"ClickContent\"},React.createElement(\"a\",{href:i.link,className:\"link_morewide\",\"data-tiara\":\"더보기\"},React.createElement(\"span\",{className:\"tit_more\"},i.title,\" \"),\"더보기\",React.createElement(\"span\",{className:\"ico_view ico_more\"}))))}t=(e={cpId:'2',group:'special',size:10,sort:'favorite:desc,lastModifiedDate:desc',minContentCount:4}).cpId,a=e.group,r=e.size,n=e.sort,e=e.minContentCount,axios.get(\"\".concat(Conf.api.hadesRest,\"/series_sorted_favorite_list\"),{params:{cpId:t,group:a,sort:n,size:r,minContentCount:e}}).then(function(e){return e.data.body.data}).then(function(e){0<e.length?(e=e.map(function(e,t){return _objectSpread(_objectSpread({},e),{},{index:t})}),ReactDOM.render(React.createElement(o,{seriesList:e}),i)):i.parentNode.removeChild(i)}).catch(function(e){return i.parentNode.removeChild(i)})})();</script>\n",
       "<script>\"use strict\";function asyncGeneratorStep(n,t,e,r,a,i,c){try{var o=n[i](c),s=o.value}catch(n){return void e(n)}o.done?t(s):Promise.resolve(s).then(r,a)}function _asyncToGenerator(o){return function(){var n=this,c=arguments;return new Promise(function(t,e){var r=o.apply(n,c);function a(n){asyncGeneratorStep(r,t,e,a,i,\"next\",n)}function i(n){asyncGeneratorStep(r,t,e,a,i,\"throw\",n)}a(void 0)})}}_asyncToGenerator(regeneratorRuntime.mark(function n(){var t,e,r,a;return regeneratorRuntime.wrap(function(n){for(;1;)switch(n.prev=n.next){case 0:return t=document.querySelector('.box_news_press ul'),a='20230308102540253',n.next=4,axios.get(\"\".concat(Conf.api.hadesRest,\"/newsview_similar_news?newsId=\")+a).then(function(n){return n.data.body});case 4:if(e=n.sent,a=e.data,r=\"false\"==\"true\",0==(e=void 0===a?[]:a).length)return(a=t.parentElement).parentElement.removeChild(a),n.abrupt(\"return\");n.next=12;break;case 12:t.innerHTML=e.map(function(n){return\"\\n            <li>\\n                <div class=\\\"item_column\\\"> \\n                    <a href=\\\"\".concat(r?n.mobileLink:n.pcLink,\"\\\" class=\\\"link_thumb\\\" data-tiara=\\\"리스트\\\">\\n                        <div class=\\\"wrap_thumb\\\"> \\n                            <img src=\\\"\").concat(StringUtil.makeThumbnail(n.thumbnail,'S200x132','70'),\"\\\" class=\\\"thumb_g\\\" alt=\\\"\\\"> \\n                        </div>\\n                        <div class=\\\"cont_thumb\\\">\\n                            <div class=\\\"inner_cont\\\">\\n                                <div class=\\\"thumb_wrap\\\"> \\n                                    <strong class=\\\"tit_txt\\\">\").concat(n.title,\"</strong> \\n                                    <span class=\\\"info_thumb\\\"> \").concat(n.cpKorName,\" · \").concat(StringUtil.makeViewTime(n.createdAt),\"</span> \\n                                </div>\\n                            </div>\\n                        </div>\\n                    </a> \\n                </div>\\n            </li>\\n        \")}).join('');case 13:case\"end\":return n.stop()}},n)}))();</script>\n",
       "<script>\"use strict\";function _slicedToArray(e,t){return _arrayWithHoles(e)||_iterableToArrayLimit(e,t)||_unsupportedIterableToArray(e,t)||_nonIterableRest()}function _nonIterableRest(){throw new TypeError(\"Invalid attempt to destructure non-iterable instance.\\nIn order to be iterable, non-array objects must have a [Symbol.iterator]() method.\")}function _unsupportedIterableToArray(e,t){if(e){if(\"string\"==typeof e)return _arrayLikeToArray(e,t);var a=Object.prototype.toString.call(e).slice(8,-1);return\"Object\"===a&&e.constructor&&(a=e.constructor.name),\"Map\"===a||\"Set\"===a?Array.from(e):\"Arguments\"===a||/^(?:Ui|I)nt(?:8|16|32)(?:Clamped)?Array$/.test(a)?_arrayLikeToArray(e,t):void 0}}function _arrayLikeToArray(e,t){(null==t||t>e.length)&&(t=e.length);for(var a=0,r=new Array(t);a<t;a++)r[a]=e[a];return r}function _iterableToArrayLimit(e,t){if(\"undefined\"!=typeof Symbol&&Symbol.iterator in Object(e)){var a=[],r=!0,n=!1,i=void 0;try{for(var c,o=e[Symbol.iterator]();!(r=(c=o.next()).done)&&(a.push(c.value),!t||a.length!==t);r=!0);}catch(e){n=!0,i=e}finally{try{r||null==o[\"return\"]||o[\"return\"]()}finally{if(n)throw i}}return a}}function _arrayWithHoles(e){if(Array.isArray(e))return e}function asyncGeneratorStep(e,t,a,r,n,i,c){try{var o=e[i](c),s=o.value}catch(e){return void a(e)}o.done?t(s):Promise.resolve(s).then(r,n)}function _asyncToGenerator(o){return function(){var e=this,c=arguments;return new Promise(function(t,a){var r=o.apply(e,c);function n(e){asyncGeneratorStep(r,t,a,n,i,\"next\",e)}function i(e){asyncGeneratorStep(r,t,a,n,i,\"throw\",e)}n(void 0)})}}_asyncToGenerator(regeneratorRuntime.mark(function e(){var t,a,r,n,i,c,o,s,l,u;return regeneratorRuntime.wrap(function(e){for(;1;)switch(e.prev=e.next){case 0:return u=function(e){e=e.contents;return React.createElement(React.Fragment,null,e.map(function(e){var t=e.pcLink,a=e.thumbnail,r=e.index,n=e.title,e=e.createDt;return React.createElement(\"li\",null,React.createElement(\"div\",{class:\"item_column\"},React.createElement(\"a\",{href:t,class:\"link_thumb\",\"data-tiara\":\"리스트\"},React.createElement(\"div\",{class:\"wrap_thumb\"},React.createElement(\"img\",{src:StringUtil.makeThumbnail(a,'S200x132','70'),class:\"thumb_g\",alt:\"\"})),React.createElement(\"div\",{class:\"cont_thumb\"},React.createElement(\"div\",{class:\"inner_cont\"},React.createElement(\"div\",{class:\"thumb_wrap\"},React.createElement(\"strong\",{class:\"tit_txt\"},React.createElement(\"span\",{class:\"rank_num\"},r,React.createElement(\"span\",{class:\"screen_out\"},\"위\")),n),React.createElement(\"span\",{class:\"info_thumb\"},StringUtil.makeViewTime(e))))))))}))},l=function(e){var t=e.title,a=e.isVisible,r=e.tabIdx,n=e.activeTabIdx,i=e.setActiveTabIdx;return React.createElement(React.Fragment,null,a&&React.createElement(\"li\",{role:\"presentation\"},React.createElement(\"a\",{onClick:function(){i(r)},id:\"popularNews\",href:\"javascript:void(0)\",role:\"tab\",\"aria-selected\":n===r,class:\"link_tab\"},t)))},s=function(e){var t=e.tabInfos,a=e.popularNews,r=e.driNews,e=_slicedToArray(React.useState(5===a.length?0:1),2),n=e[0],i=e[1];return React.createElement(React.Fragment,null,React.createElement(\"div\",{class:\"box_tit\"},React.createElement(\"h3\",{class:\"tit_box\"},\"연합뉴스 랭킹 뉴스\"),React.createElement(\"p\",{class:\"txt_box\"},t[n].title)),React.createElement(\"ul\",{class:\"tab_g tablist2\",role:\"tablist\"},t.map(function(e,t){return React.createElement(l,{isVisible:e.isVisible,title:e.tabTitle,tabIdx:t,activeTabIdx:n,setActiveTabIdx:i})})),React.createElement(\"ol\",{class:\"list_rank_news\",\"data-tiara-action-name\":t[n].tiaraActionName,\"data-tiara-layer\":t[n].tiaraSecondLayer,\"data-tiara-action-kind\":\"ClickContent\",\"data-tiara-ordnum-layer\":!0},React.createElement(u,{contents:0===n?a:r})))},o=function(){return(o=_asyncToGenerator(regeneratorRuntime.mark(function e(t){var a,r;return regeneratorRuntime.wrap(function(e){for(;1;)switch(e.prev=e.next){case 0:return a=t.key,r=t.params,e.next=3,axios.get(\"\".concat(Conf.api.hadesRest,\"/\").concat(a),{params:r}).then(function(e){return e.data.body.data||[]});case 3:return e.abrupt(\"return\",e.sent);case 4:case\"end\":return e.stop()}},e)}))).apply(this,arguments)},c=function(){return o.apply(this,arguments)},t=document.getElementById('rankingNewsContainer'),a=[{key:\"channel_home_ranking_latest\",params:{size:5,consumerId:\"media\",cpId:\"2\",hours:3}},{key:\"dri_ranking_news\",params:{size:5,hours:168,from:\"media\",cpId:\"2\"}}],e.next=9,c(a[0]);case 9:return r=e.sent,e.next=12,c(a[1]);case 12:n=e.sent,(i=[{isVisible:5===r.length,title:'최근 3시간 집계 결과입니다.',tabTitle:'많이 본 뉴스',tiaraActionName:'하단많이본랭킹_클릭',tiaraSecondLayer:'media_ranking_news_popular'},{isVisible:5===n.length,title:'이용자의 본문 주목도 높은 뉴스입니다.',tabTitle:'탐독한 뉴스',tiaraActionName:'하단열독률랭킹_클릭',tiaraSecondLayer:'media_ranking_news_duration'}])[0].isVisible||i[1].isVisible?(t.style.display='block',ReactDOM.render(React.createElement(s,{tabInfos:i,popularNews:r,driNews:n}),t)):t.parentElement.removeChild(t);case 15:case\"end\":return e.stop()}},e)}))();</script>\n",
       "<script>\"use strict\";function _slicedToArray(e,t){return _arrayWithHoles(e)||_iterableToArrayLimit(e,t)||_unsupportedIterableToArray(e,t)||_nonIterableRest()}function _nonIterableRest(){throw new TypeError(\"Invalid attempt to destructure non-iterable instance.\\nIn order to be iterable, non-array objects must have a [Symbol.iterator]() method.\")}function _unsupportedIterableToArray(e,t){if(e){if(\"string\"==typeof e)return _arrayLikeToArray(e,t);var a=Object.prototype.toString.call(e).slice(8,-1);return\"Object\"===a&&e.constructor&&(a=e.constructor.name),\"Map\"===a||\"Set\"===a?Array.from(e):\"Arguments\"===a||/^(?:Ui|I)nt(?:8|16|32)(?:Clamped)?Array$/.test(a)?_arrayLikeToArray(e,t):void 0}}function _arrayLikeToArray(e,t){(null==t||t>e.length)&&(t=e.length);for(var a=0,r=new Array(t);a<t;a++)r[a]=e[a];return r}function _iterableToArrayLimit(e,t){if(\"undefined\"!=typeof Symbol&&Symbol.iterator in Object(e)){var a=[],r=!0,n=!1,c=void 0;try{for(var o,l=e[Symbol.iterator]();!(r=(o=l.next()).done)&&(a.push(o.value),!t||a.length!==t);r=!0);}catch(e){n=!0,c=e}finally{try{r||null==l[\"return\"]||l[\"return\"]()}finally{if(n)throw c}}return a}}function _arrayWithHoles(e){if(Array.isArray(e))return e}!(function(){var a=document.getElementById('keyword_news_list');axios.get(\"\".concat(Conf.api.hadesRest,\"/newsview_keyword_news\"),{params:{contentId:\"20230308102540253\"}}).then(function(e){return e.data.body.data}).then(function(e){var t=e.keywordHomeUrl,e=e.keywordList;_.isEmpty(e)?null!=a&&a.parentNode.removeChild(a):ReactDOM.render(React.createElement(n,{keywordHomeUrl:t,keywordList:e}),a)}).catch(function(){null!=a&&a.parentNode.removeChild(a)});var e,r,n=function(e){var t=e.keywordHomeUrl,a=e.keywordList,e=_slicedToArray(React.useState(a[0]),2),r=e[0],n=e[1],c=\"clusterId=\".concat(r.clusterId,\"&clusterTitle=\").concat(r.keyword,\"&keywordType=\").concat(r.keywordType);return React.createElement(React.Fragment,null,React.createElement(\"div\",{class:\"box_tit\"},React.createElement(\"h3\",{class:\"tit_box\"},\"이 뉴스와 관련된 키워드\"),React.createElement(\"a\",{href:t,class:\"btn_viewgo\",\"data-tiara-custom\":c},\"키워드 탐색\",React.createElement(\"span\",{class:\"ico_view\"}))),React.createElement(\"ul\",{class:\"tab_g\",role:\"tablist\",\"data-tiara\":\"탭\"},a.map(function(t){var e=o(t.operationGroup,t.clusterTypeId);return React.createElement(\"li\",{role:\"presentation\"},React.createElement(\"a\",{href:\"#none\",class:\"link_tab\",role:\"tab\",\"aria-selected\":t.keyword==r.keyword?\"true\":\"false\",onClick:function(e){e.preventDefault(),n(t)},style:t.keyword==r.keyword&&e?{backgroundColor:e,borderColor:e}:{},\"data-tiara-custom\":\"clusterId=\".concat(t.clusterId,\"&clusterTitle=\").concat(t.keyword,\"&keywordType=\").concat(t.keywordType)},t.thumbnail&&React.createElement(\"span\",{class:\"thumb_img\"},React.createElement(\"img\",{src:StringUtil.makeThumbnail(t.thumbnail,'S80x80'),class:\"thumb_g\",alt:\"\"})),t.keyword))})),React.createElement(\"ul\",{class:\"list_column\",\"data-tiara\":\"리스트\"},r.subContents.map(function(e){return React.createElement(\"li\",null,React.createElement(\"div\",{class:\"item_column\"},React.createElement(\"a\",{href:e.pcLink,class:\"link_thumb\",\"data-tiara-custom\":c},React.createElement(\"div\",{class:\"wrap_thumb\"},React.createElement(\"img\",{src:StringUtil.makeThumbnail(e.thumbnail,'S200x132','70'),class:\"thumb_g\",alt:\"\"})),React.createElement(\"div\",{class:\"cont_thumb\"},React.createElement(\"div\",{class:\"inner_cont\"},React.createElement(\"div\",{class:\"thumb_wrap\"},React.createElement(\"strong\",{class:\"tit_txt\"},e.title),React.createElement(\"span\",{class:\"info_thumb\"},\"\".concat(e.mediaName,\" · \").concat(StringUtil.makeViewTime(e.createdAt)))))))))})),React.createElement(\"div\",{class:\"btnmore_group\"},React.createElement(\"a\",{href:r.moreLink,class:\"link_morewide\",\"data-tiara-custom\":c},React.createElement(\"span\",{class:\"tit_more\"},r.keyword,\" \"),\"더보기\",React.createElement(\"span\",{class:\"ico_view ico_more\"}))))},o=(e=window.matchMedia('(prefers-color-scheme: dark)').matches,r=new Map(e?[['NEWS_2','#557CCC'],['NEWS_6','#557CCC'],['ENTER_2','#8267B8'],['ENTER_3','#8267B8'],['SPORTS_1','#D45551'],['SPORTS_2','#D45551'],['SPORTS_4','#D45551'],['AUTO_27','#3D8071'],['AUTO_28','#3D8071'],['INTEREST_15','#3D8071'],['MOVIE_5','#4A5861'],['INTEREST_11','#304C94'],['INTEREST_12','#D4633A'],['INTEREST_13','#593822'],['INTEREST_18','#593822'],['INTEREST_14','#D45840'],['INTEREST_16','#5BA1CC'],['INTEREST_62','#6D911C'],['INTEREST_63','#7A5127'],['INTEREST_65','#5E7034'],['INTEREST_68','#5E7034'],['INTEREST_64','#D47500'],['INTEREST_66','#545CB0'],['INTEREST_67','#1C5C41']]:[['NEWS_2','#6796F6'],['NEWS_6','#6796F6'],['ENTER_2','#9F7EE0'],['ENTER_3','#9F7EE0'],['SPORTS_1','#FB6560'],['SPORTS_2','#FB6560'],['SPORTS_4','#FB6560'],['AUTO_27','#51A996'],['AUTO_28','#51A996'],['INTEREST_15','#51A996'],['MOVIE_5','#4A5861'],['INTEREST_11','#304C94'],['INTEREST_12','#FD7645'],['INTEREST_13','#6E452A'],['INTEREST_18','#6E452A'],['INTEREST_14','#FC694D'],['INTEREST_16','#6DC1F5'],['INTEREST_62','#8BB924'],['INTEREST_63','#A36C34'],['INTEREST_65','#6F853D'],['INTEREST_68','#6F853D'],['INTEREST_64','#FD8C00'],['INTEREST_66','#6771D8'],['INTEREST_67','#227050']]),function(e,t){return r.get(\"\".concat(e,\"_\").concat(t))})})();</script>\n",
       "<script>\"use strict\";!(function(){var e=0,t='1008'||'media',s=document.querySelectorAll('.tabcont_service');function a(e,t,c){t=0===t?'뉴스':1===t?'연예':'스포츠',e.innerHTML=c?\"\".concat(t,\" <span class=\\\"screen_out\\\">선택됨</span>\"):t}'1005'===t?e=1:'1004'!==t&&'sports'!==t||(e=2),(t=document.querySelectorAll('#serviceDirect li a'))[e].classList.add('on'),s[e].style.display=\"block\",t.forEach(function(e,r){return e.addEventListener('click',function(){Array.from(document.getElementById('serviceDirect').children).forEach(function(e,t){var c=e.querySelector('.link_tab');t===r?(e.setAttribute('aria-selected',\"true\"),c.classList.add('on'),a(c,t,!0),s[t].style.display=\"block\"):(e.setAttribute('aria-selected',\"false\"),c.classList.remove('on'),a(c,t,!1),s[t].style.display=\"none\")})})})})();</script>\n",
       "<script>\"use strict\";!(function(){var e=document.getElementById('service_notice');axios.get(\"\".concat(Conf.api.hadesRest,\"/service_notice?id=3393\")).then(function(n){var t=n.data.body.data,n=t.noticeTitle,t=t.noticeUrl;null!==n?e.innerHTML=\"\\n                    <a href=\\\"\".concat(t,\"\\\" class=\\\"link_cont\\\" data-tiara=\\\"공지사항\\\">\\n                        <strong class=\\\"tit_notice\\\">공지</strong>\\n                        <span class=\\\"txt_notice\\\">\").concat(n,\"</span>\\n                    </a>\\n                \"):e.parentNode.removeChild(e)}).catch(function(n){e.parentNode.removeChild(e)})})();</script>\n",
       "<script>\"use strict\";!(function(){var e=document.querySelector('.direct_link'),t=document.querySelector('.btn_fold');null!=t&&t.addEventListener('click',function(){e.classList.toggle(\"direct_open\")})})();</script>\n",
       "<script src=\"//search1.daumcdn.net/search/statics/common/js/g/search_dragselection.min.js\"></script>\n",
       "<script>\"use strict\";function _slicedToArray(t,a){return _arrayWithHoles(t)||_iterableToArrayLimit(t,a)||_unsupportedIterableToArray(t,a)||_nonIterableRest()}function _nonIterableRest(){throw new TypeError(\"Invalid attempt to destructure non-iterable instance.\\nIn order to be iterable, non-array objects must have a [Symbol.iterator]() method.\")}function _unsupportedIterableToArray(t,a){if(t){if(\"string\"==typeof t)return _arrayLikeToArray(t,a);var n=Object.prototype.toString.call(t).slice(8,-1);return\"Object\"===n&&t.constructor&&(n=t.constructor.name),\"Map\"===n||\"Set\"===n?Array.from(t):\"Arguments\"===n||/^(?:Ui|I)nt(?:8|16|32)(?:Clamped)?Array$/.test(n)?_arrayLikeToArray(t,a):void 0}}function _arrayLikeToArray(t,a){(null==a||a>t.length)&&(a=t.length);for(var n=0,e=new Array(a);n<a;n++)e[n]=t[n];return e}function _iterableToArrayLimit(t,a){if(\"undefined\"!=typeof Symbol&&Symbol.iterator in Object(t)){var n=[],e=!0,i=!1,r=void 0;try{for(var o,s=t[Symbol.iterator]();!(e=(o=s.next()).done)&&(n.push(o.value),!a||n.length!==a);e=!0);}catch(t){i=!0,r=t}finally{try{e||null==s[\"return\"]||s[\"return\"]()}finally{if(i)throw r}}return n}}function _arrayWithHoles(t){if(Array.isArray(t))return t}!(function(){function t(t){var a=t.newsid,n=t.cp_name,e=t.title,i=t.image,t=t.moddt;return{newsid:a,cp_name:n,title:(e=e,\"enter\"===s?e.replace(/\\[.*?]+/gi,''):e),url:\"https://v.daum.net/v/\".concat(a),thumbnail:StringUtil.makeThumbnail(i,r,o),update_dt:StringUtil.makeViewTime((function(t){try{if('string'!=typeof t||14!==t.length)throw new Error(\"[IllegalArgumentException] 유효하지 않은 날짜형식입니다. | \".concat(t));var a=t.slice(0,4),n=t.slice(4,6),e=t.slice(6,8),i=t.slice(8,10),r=t.slice(10,12),o=t.slice(12);return new Date(a,n-1,e,i,r,o).getTime()}catch(t){console.error(t)}})(t))}}var a=20,r='S200x132',o='70',n=\"20230308102540253\",s=(function(){switch(\"1008\"){case\"1004\":return\"sports\";case\"1005\":return\"enter\";default:return\"news\"}})(),e=encodeURIComponent(JSON.stringify({itemid:n,category:s})),i={source:n},d=\"\\n        <div class=\\\"item_column\\\">\\n            <a href=\\\"<%=obj.url%>\\\" class=\\\"link_thumb\\\" data-itemid=\\\"<%=obj.newsid%>\\\" data-pos=\\\"<%=obj.pos%>\\\" data-tiara=\\\"리스트\\\">\\n                <div class=\\\"wrap_thumb\\\">\\n                    <img src=\\\"<%=obj.thumbnail%>\\\" class=\\\"thumb_g\\\" alt=\\\"\\\">\\n                </div>\\n                <div class=\\\"cont_thumb\\\">\\n                    <div class=\\\"inner_cont\\\">\\n                        <div class=\\\"thumb_wrap\\\">\\n                            <strong class=\\\"tit_txt\\\"><%=obj.title%></strong>\\n                            <span class=\\\"info_thumb\\\"><%=obj.cp_name%> · <%=obj.update_dt%></span>\\n                        </div>\\n                    </div>\\n                </div>\\n            </a>\\n        </div>\\n    \",c=new Set;(n=new Toros.Connector({url:'mediadaum/most_similar',queryParams:e,slice:16,filter:function(t){t=t._id;return c.add(t),!0},map:t,targetClass:'item_toros',template:d,svc:'mediadaum_sim',impLabel:'toros_mediadaum_sim_imp',impProps:i,viewLabel:'toros_mediadaum_sim_vimp',viewProps:i,clickLabel:'toros_mediadaum_sim_click',clickProps:i})).render(),n.fetchPromise.then(function(){0<a&&new Toros.Connector({url:'mediadaum/soonsal_v2',queryParams:e,slice:a,filter:function(t){t=t._id;return!c.has(t)},map:t,targetClass:'item_nachu',template:d,svc:'mediadaum_personal',impLabel:'toros_mediadaum_personal_imp',impProps:i,viewLabel:'toros_mediadaum_personal_vimp',viewProps:i,clickLabel:'toros_mediadaum_personal_click',clickProps:i}).render()});var l=\"\\n        <li adfit-unit-id=\\\"{0}\\\" adfit-param-cp=\\\"\".concat(\"2_pc_media_news\",\"\\\" adfit-param-channel=\\\"\").concat(\"harmony\",\"\\\" adfit-unit-idx=\\\"1\\\">\\n            <div class=\\\"item_column item_ad\\\">\\n                <a href=\\\"#none\\\" class=\\\"link_thumb\\\" adfit-landing-url adfit-action-url adfit-land-type=\\\"right\\\">\\n                    <div class=\\\"wrap_thumb\\\">\\n                        <img class=\\\"thumb_g\\\" adfit-main-img-url adfit-image-width=\\\"200\\\" adfit-image-height=\\\"132\\\">\\n                    </div>\\n                    <div class=\\\"cont_thumb\\\">\\n                        <div class=\\\"inner_cont\\\">\\n                            <div class=\\\"thumb_wrap\\\">\\n                                <strong class=\\\"tit_txt\\\" adfit-title></strong>\\n                                <span class=\\\"info_ad\\\">\\n                                    <span class=\\\"ico_ad\\\" adfit-ad-info>AD</span>\\n                                    <span class=\\\"txt_adname\\\" adfit-profile-name></span>\\n                                </span>\\n                            </div>\\n                        </div>\\n                    </div>\\n                </a>\\n            </div>\\n        </li>\\n    \"),m=document.querySelectorAll('.item_ad');(n='')&&(n=JSON.parse(n)).map(function(t,a){var n=StringUtil.format(l,t),e=m[a];new AdfitNativeAds({unitId:t}).renderAs(n,function(t){t=_slicedToArray(t,1)[0];t?e.appendChild(t):e.parentNode.removeChild(e)}).init()})})();</script>\n",
       "<script>\"use strict\";var removeParentElement=function(e){var n=null==e?void 0:e.parentElement;null==n||null!==(e=n.parentElement)&&void 0!==e&&e.removeChild(n)},removeAdElement=function(e){var n;null==e||null!==(n=e.parentElement)&&void 0!==n&&n.removeChild(e)};</script>\n",
       "<script src=\"//t1.daumcdn.net/tiara/js/v1/tiara.min.js\" type=\"text/javascript\"></script>\n",
       "<script>\"use strict\";function ownKeys(t,e){var a,o=Object.keys(t);return Object.getOwnPropertySymbols&&(a=Object.getOwnPropertySymbols(t),e&&(a=a.filter(function(e){return Object.getOwnPropertyDescriptor(t,e).enumerable})),o.push.apply(o,a)),o}function _objectSpread(t){for(var e=1;e<arguments.length;e++){var a=null!=arguments[e]?arguments[e]:{};e%2?ownKeys(Object(a),!0).forEach(function(e){_defineProperty(t,e,a[e])}):Object.getOwnPropertyDescriptors?Object.defineProperties(t,Object.getOwnPropertyDescriptors(a)):ownKeys(Object(a)).forEach(function(e){Object.defineProperty(t,e,Object.getOwnPropertyDescriptor(a,e))})}return t}function _defineProperty(e,t,a){return t in e?Object.defineProperty(e,t,{value:a,enumerable:!0,configurable:!0,writable:!0}):e[t]=a,e}!(function(){if(window.TiaraTracker){var d=!1,s=new Date,l=window.scrollY||document.documentElement.scrollTop,u=null;try{u=Cookies.get('DAUMTOP')||Cookies.get('HARMONY_TOROS_IMP')&&window.atob(Cookies.get('HARMONY_TOROS_IMP'))}catch(e){u=Cookies.get('DAUMTOP')}var g=TiaraTracker.getInstance().setSvcDomain(\"media.daum.net\").setPage(\"newsview\").setDeployment(\"production\").trackPage(\"newsview\").setSection(\"digital\").setEnableAlwaysImage(!0),p={id:\"20230308102540253\",type:\"article\",name:\"\\uB2EC \\uADA4\\uB3C4 \\uC720\\uC778\\uBE44\\uD589 \\'\\uC544\\uB974\\uD14C\\uBBF8\\uC2A42\\' \\uB0B4\\uB144 11\\uC6D4 \\uB9D0 \\uBC1C\\uC0AC\",category_id:\"1050\",category:\"digital\",author:\"\\uC5C4\\uB0A8\\uC11D\",author_id:\"eomns@yna.co.kr\",provider:\"\\uC5F0\\uD569\\uB274\\uC2A4\",provider_id:\"2\",regdate:\"2023-03-08 10:25:40\",plink:\"https://v.daum.net/v/20230308102540253\",image:\"https://t1.daumcdn.net/news/202303/08/yonhap/20230308102540930ytfp.jpg\",harmony_consumer_id:\"media\",media:\"pcweb\"};\"false\"==\"true\"&&(p[\"series\"]=\"mainnews\",p[\"series_id\"]=\"mainnews\");var t,f={contentUniqueKey:\"hamny-\".concat(p.id),docId:\"7SecaWJG1R\",harmony_consumer_id:\"media\",media:\"pcweb\",reg_dt:\"2023-03-08 10:25:40\",reg_timestamp:\"1678238740842\"},m=(t=!1,window.addEventListener(\"pageshow\",function(e){(e.persisted||window.performance&&2===window.performance.navigation.type)&&(t=!0)}),function(){return t}),y=(function(){try{var o='article_body',e=document.querySelector('.article_view'),t=(d=c=0,document.querySelectorAll('[dmcf-ptype=\"general\"]').forEach(function(e){var t=(null===(e=e.innerText)||void 0===e||null===(t=e.trim())||void 0===t?void 0:t.length)||0;0<t&&c++,d+=t}),{paragraphCount:c,textLength:d}),n={article_scroll_height_ratio:(e.getBoundingClientRect().height/1200).toFixed(2),article_text_length:t.textLength,article_paragraph_count:t.paragraphCount,'media_count:video':e.querySelectorAll('[dmcf-mtype^=\"video\"]').length,'media_count:image':e.querySelectorAll('[dmcf-mtype=\"image\"]').length,'media_count:audio':e.querySelectorAll('[dmcf-mtype^=\"audio\"]').length,article_out_height_pct:0};n['media_count']=n['media_count:video']+n['media_count:image']+n['media_count:audio'];var a=function(e){var t=e.name,a=(e.element,e.elementRect),e=e.intersectionRect;t==o&&(n['article_out_height_pct']=Math.max(n['article_out_height_pct']||0,Math.round(e.bottom/a.bottom*100)))},r=[];document.querySelectorAll('[data-cloud]').forEach(function(e){var t=e.querySelector('[data-tiara-layer'),t=e.getAttribute('data-tiara-layer')||(null==t?void 0:t.getAttribute('data-tiara-layer'))||e.getAttribute('data-cloud');r.push({name:t,element:e,config:{inRatio:.3,outRatio:.3,outCallback:a}})});var i=new ComponentViewDurationChecker({components:r,rootMargin:\"-\".concat(document.getElementById('kakaoHead').getBoundingClientRect().height,\"px 0px 0px 0px\"),interval:300}).start();return function(){try{i.stop();var t=_objectSpread({},n);return Object.keys(i.duration).forEach(function(e){t[\"duration:\".concat(e)]=i.duration[e].reduce(function(e,t){return e+t[1]-t[0]},0)}),t}catch(e){return{}}}}catch(e){return function(){return{}}}var c,d})(),e=function(){d||g.trackPage(\"p_newsview_보기\").actionKind(\"ViewContent\").pageMeta(p).customProps(f).track()},a=function(){if(!d){d=!0;var e=document.body.scrollHeight,t=window.scrollY,a=e-t,o=window.innerHeight,n=Math.round(t/(e-o)*100),r={},o={duration:(new Date).getTime()-s.getTime(),scroll_percent:n,scroll_height:e,scroll_top:t,scroll_bottom:a,scroll_inner_height:o};try{var i,c;!u||(c=JSON.parse(u)).contents_unique_key===f.contentUniqueKey&&(r={toros_imp_id:c.impression_id,toros_file_hash_key:c.toros_file_hash_key,toros_user_id_type:\"uuid\",toros_page_meta_id:f.contentUniqueKey,toros_event_meta_id:f.contentUniqueKey,toros_action_type:\"dwelltime\"},i=3<location.hostname.split('.').length?location.hostname.substring(location.hostname.indexOf('.')):location.hostname,(c=Cookies.remove||Cookies.expire)('HARMONY_TOROS_IMP',{path:'/',domain:i}),c('DAUMTOP',{path:'/',domain:'.daum.net'}),0)}catch(e){}g.trackUsage().actionKind(\"UsagePage\").pageMeta(p).usage(o).customProps(_.assignIn(f,r)).track(),g.trackEvent('UsagePageComponent').pageMeta(p).customProps(_objectSpread(_objectSpread({},y()),{},{start_scroll_top:l,bfcache:m(),duration:(new Date).getTime()-s.getTime()})).track()}};window.addEventListener(\"pageshow\",e,!1),window.addEventListener(\"pagehide\",a,!1),document.addEventListener(\"visibilitychange\",function(){(document[\"hidden\"]?a:e)()},!1),document.addEventListener(\"mousedown\",function(e){var t,a,o,n,r,i,c,d,s,l=e.target,u=l.closest(\"[data-cloud]\"),m=l.closest(\"a\")||l.closest(\"button\");m&&null!=u&&u.contains(m)&&((c=TiaraTracker.getClickInfo(e))&&(t=c.action,a=c.click,o=(null==t?void 0:t.name)||\"\",n=(null==t?void 0:t.kind)||\"\",r=_.assignIn(f,c.customProps),i=l.closest(\"[data-tiara]\"),c=l.closest(\"[data-tiara-ordnum-layer]\"),l=m.querySelector(\"img\"),d=0,Array.from((c||u).querySelectorAll(\"a, button\")).reduce(function(e,t,a){return t==m&&(d=a+(e?0:1)),e||t.closest('[adfit-unit-id]')},!1),e={layer1:a.layer1,layer2:a.layer2||\"\",layer3:(null==i?void 0:i.dataset.tiara)||\"\",click_url:m.href||\"\",ordnum:d,copy:(s=m.getAttribute('data-action-type'),['RECOMMEND','LIKE','IMPRESS','ANGRY','SAD'].includes(s)?null==t?void 0:t.name:m.innerText),image:(null==l?void 0:l.src)||\"\",posX:e.clientX,posY:e.clientY},g.trackEvent(o).pageMeta(p).actionKind(n).customProps(r).click(e).track()))})}})();</script>\n",
       "<script>\"use strict\";!(function(){var e='v.daum.net',o=Cookies.remove||Cookies.expire;o('_H_CT',{path:'/',domain:e}),o('_H_MN',{path:'/',domain:e})})();</script>\n",
       "</body>\n",
       "</html>"
      ]
     },
     "execution_count": 15,
     "metadata": {},
     "output_type": "execute_result"
    }
   ],
   "source": [
    "soup\n",
    "#or print('soup')"
   ]
  },
  {
   "cell_type": "markdown",
   "id": "b07d5cc9",
   "metadata": {},
   "source": [
    "#### 필요한 데이터 추출하기\n",
    "- find()함수로 원하는 부분을 지정\n",
    "- get_text() 함수로 추출한 부분을 가져올수 있음"
   ]
  },
  {
   "cell_type": "code",
   "execution_count": 21,
   "id": "57d61969",
   "metadata": {},
   "outputs": [
    {
     "data": {
      "text/plain": [
       "<h3 class=\"tit_view\" data-translation=\"true\">달 궤도 유인비행 '아르테미스2' 내년 11월 말 발사</h3>"
      ]
     },
     "execution_count": 21,
     "metadata": {},
     "output_type": "execute_result"
    }
   ],
   "source": [
    "#4.필요한 데이터 추출하기\n",
    "title = soup.find('h3')\n",
    "title"
   ]
  },
  {
   "cell_type": "code",
   "execution_count": 22,
   "id": "fea5987b",
   "metadata": {},
   "outputs": [
    {
     "data": {
      "text/plain": [
       "\"달 궤도 유인비행 '아르테미스2' 내년 11월 말 발사\""
      ]
     },
     "execution_count": 22,
     "metadata": {},
     "output_type": "execute_result"
    }
   ],
   "source": [
    "#5. 추출한 데이터 활용하기\n",
    "title.get_text()"
   ]
  },
  {
   "cell_type": "code",
   "execution_count": 24,
   "id": "be1bcb0e",
   "metadata": {},
   "outputs": [
    {
     "name": "stdout",
     "output_type": "stream",
     "text": [
      "임박한 후쿠시마 오염수 방류, 한국 정부 왜 손 놓고 있나\n"
     ]
    }
   ],
   "source": [
    "#웹 크롤링 타이틀 가져오기\n",
    "import requests\n",
    "from bs4 import BeautifulSoup\n",
    "res = requests.get('https://v.daum.net/v/20230308110901445')\n",
    "soup = BeautifulSoup(res.content, 'html.parser')\n",
    "title = soup.find('h3')\n",
    "print(title.get_text())"
   ]
  },
  {
   "cell_type": "markdown",
   "id": "0b36e0e8",
   "metadata": {},
   "source": [
    "#### string, text 의 차이\n",
    "- string: 태그 하위에 문자열을 객체화 시켜서 문자열이 없으면 NONE을 변환\n",
    "- text: 하위자식태그의 텍스트까지 문자열로 변환\n",
    "- 하위태그에 테스트까지 문자열 파싱할경우 .text를 사용하는게 좋음"
   ]
  },
  {
   "cell_type": "code",
   "execution_count": 25,
   "id": "b96a834c",
   "metadata": {},
   "outputs": [],
   "source": [
    "# 분석대상 \n",
    "html = \"\"\"\n",
    "<html>\n",
    "<body>\n",
    "  <h1>글자크기</h1>\n",
    "  <h2>글자크기2</h2>\n",
    "  <p>원하는 글자 추출</p>\n",
    "  <p>크롤링 수업시간 </p>\n",
    "  <p></p>\n",
    "  <ul>\n",
    "      <li><a href=\"http://www.daum.net\">daum</a></li>\n",
    "      <li><a href=\"http://www.naver.com\">naver</a></li>\n",
    "  </ul>\n",
    "</body>\n",
    "</html>  \"\"\""
   ]
  },
  {
   "cell_type": "code",
   "execution_count": 26,
   "id": "a058680b",
   "metadata": {},
   "outputs": [],
   "source": [
    "soup = BeautifulSoup(html, 'html.parser')"
   ]
  },
  {
   "cell_type": "code",
   "execution_count": 28,
   "id": "9a468d79",
   "metadata": {},
   "outputs": [],
   "source": [
    "data = soup.find('h1')"
   ]
  },
  {
   "cell_type": "code",
   "execution_count": 29,
   "id": "2b0870ed",
   "metadata": {},
   "outputs": [
    {
     "data": {
      "text/plain": [
       "<h1>글자크기</h1>"
      ]
     },
     "execution_count": 29,
     "metadata": {},
     "output_type": "execute_result"
    }
   ],
   "source": [
    "data"
   ]
  },
  {
   "cell_type": "code",
   "execution_count": 32,
   "id": "19bfa7b8",
   "metadata": {},
   "outputs": [
    {
     "data": {
      "text/plain": [
       "'글자크기'"
      ]
     },
     "execution_count": 32,
     "metadata": {},
     "output_type": "execute_result"
    }
   ],
   "source": [
    "data.string"
   ]
  },
  {
   "cell_type": "markdown",
   "id": "dc04d5de",
   "metadata": {},
   "source": [
    "find_all()함수: 여러개 태그를 한꺼번에 추출"
   ]
  },
  {
   "cell_type": "code",
   "execution_count": 36,
   "id": "ca460968",
   "metadata": {},
   "outputs": [
    {
     "name": "stdout",
     "output_type": "stream",
     "text": [
      "원하는 글자 추출\n",
      "크롤링 수업시간 \n",
      "\n"
     ]
    }
   ],
   "source": [
    "data = soup.find_all('p')\n",
    "for i in data:\n",
    "    print(i.text)"
   ]
  },
  {
   "cell_type": "code",
   "execution_count": 44,
   "id": "f7218bfd",
   "metadata": {},
   "outputs": [
    {
     "data": {
      "text/plain": [
       "['daum', 'naver']"
      ]
     },
     "execution_count": 44,
     "metadata": {},
     "output_type": "execute_result"
    }
   ],
   "source": [
    "data = soup.find_all('a')\n",
    "a = [i.text for i in data]\n",
    "a"
   ]
  },
  {
   "cell_type": "code",
   "execution_count": 42,
   "id": "390a3bfb",
   "metadata": {},
   "outputs": [
    {
     "name": "stdout",
     "output_type": "stream",
     "text": [
      "daum >> http://www.daum.net\n",
      "naver >> http://www.naver.com\n"
     ]
    }
   ],
   "source": [
    "data = soup.find_all('a')\n",
    "for i in data:\n",
    "    link = i.attrs['href']\n",
    "    add = i.text\n",
    "    print(add, \">>\", link)"
   ]
  },
  {
   "cell_type": "code",
   "execution_count": null,
   "id": "bfb1ffc7",
   "metadata": {},
   "outputs": [],
   "source": []
  }
 ],
 "metadata": {
  "kernelspec": {
   "display_name": "Python 3 (ipykernel)",
   "language": "python",
   "name": "python3"
  },
  "language_info": {
   "codemirror_mode": {
    "name": "ipython",
    "version": 3
   },
   "file_extension": ".py",
   "mimetype": "text/x-python",
   "name": "python",
   "nbconvert_exporter": "python",
   "pygments_lexer": "ipython3",
   "version": "3.9.13"
  }
 },
 "nbformat": 4,
 "nbformat_minor": 5
}
