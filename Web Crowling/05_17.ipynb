{
 "cells": [
  {
   "cell_type": "code",
   "execution_count": 29,
   "id": "bcfabb92",
   "metadata": {},
   "outputs": [],
   "source": [
    "from selenium import webdriver  as wb\n",
    "from selenium.webdriver.common.keys import Keys\n",
    "from selenium.webdriver.common.by import By\n",
    "import time\n",
    "import pandas as pd\n",
    "from bs4 import BeautifulSoup as bs"
   ]
  },
  {
   "cell_type": "code",
   "execution_count": 33,
   "id": "51fe6da8",
   "metadata": {},
   "outputs": [],
   "source": [
    "driver = wb.Chrome()\n",
    "driver.get('https://www.starbucks.co.kr/store/store_map.do')\n",
    "btn = driver.find_element(By.CSS_SELECTOR,'.loca_search')\n",
    "btn.click()\n",
    "li = driver.find_element(By.CSS_SELECTOR,'div.loca_step1_cont > ul > li:nth-child(3) > a')\n",
    "li.click()\n",
    "time.sleep(3)\n",
    "# driver.find_element_by_xpath('//*[@id=\"container\"]/div/form/fieldset/div/section/article[1]/article/header[2]/h3/a').click()\n",
    "a = driver.find_element_by_xpath('//*[@id=\"mCSB_2_container\"]/ul/li[1]/a').click()\n"
   ]
  },
  {
   "cell_type": "code",
   "execution_count": 34,
   "id": "ee61f18c",
   "metadata": {},
   "outputs": [],
   "source": [
    "soup = bs(driver.page_source,'html.parser')"
   ]
  },
  {
   "cell_type": "code",
   "execution_count": 39,
   "id": "27dbb004",
   "metadata": {},
   "outputs": [],
   "source": [
    "매장이름 = soup.select('#mCSB_3_container > ul > li> strong')\n",
    "주소 = soup.select('#mCSB_3_container > ul > li > p')"
   ]
  },
  {
   "cell_type": "code",
   "execution_count": 71,
   "id": "be2d063f",
   "metadata": {},
   "outputs": [],
   "source": [
    "a = [i.text.strip(' ') for i in 매장이름]\n",
    "b = [i.text[:-9] for i in 주소]\n",
    "c = [i.text[-9:] for i in 주소]\n",
    "num = [i for i in range(1,64)]"
   ]
  },
  {
   "cell_type": "code",
   "execution_count": 81,
   "id": "0e18307c",
   "metadata": {},
   "outputs": [
    {
     "data": {
      "text/html": [
       "<div>\n",
       "<style scoped>\n",
       "    .dataframe tbody tr th:only-of-type {\n",
       "        vertical-align: middle;\n",
       "    }\n",
       "\n",
       "    .dataframe tbody tr th {\n",
       "        vertical-align: top;\n",
       "    }\n",
       "\n",
       "    .dataframe thead th {\n",
       "        text-align: right;\n",
       "    }\n",
       "</style>\n",
       "<table border=\"1\" class=\"dataframe\">\n",
       "  <thead>\n",
       "    <tr style=\"text-align: right;\">\n",
       "      <th></th>\n",
       "      <th>매장이름</th>\n",
       "      <th>주소</th>\n",
       "      <th>전화번호</th>\n",
       "    </tr>\n",
       "    <tr>\n",
       "      <th>번호</th>\n",
       "      <th></th>\n",
       "      <th></th>\n",
       "      <th></th>\n",
       "    </tr>\n",
       "  </thead>\n",
       "  <tbody>\n",
       "    <tr>\n",
       "      <th>1</th>\n",
       "      <td>광주운남DT</td>\n",
       "      <td>광주광역시 광산구 임방울대로 156 (운남동)</td>\n",
       "      <td>1522-3232</td>\n",
       "    </tr>\n",
       "    <tr>\n",
       "      <th>2</th>\n",
       "      <td>광주선운DT</td>\n",
       "      <td>광주광역시 광산구 선운로 20번길 63</td>\n",
       "      <td>1522-3232</td>\n",
       "    </tr>\n",
       "    <tr>\n",
       "      <th>3</th>\n",
       "      <td>광주산정DT</td>\n",
       "      <td>광주광역시 광산구 용아로 342 (산정동)</td>\n",
       "      <td>1522-3232</td>\n",
       "    </tr>\n",
       "    <tr>\n",
       "      <th>4</th>\n",
       "      <td>광주흑석DT</td>\n",
       "      <td>광주광역시 광산구 사암로 367 (산정동)</td>\n",
       "      <td>1522-3232</td>\n",
       "    </tr>\n",
       "    <tr>\n",
       "      <th>5</th>\n",
       "      <td>광주송정역</td>\n",
       "      <td>광주광역시 광산구 상무대로205번길 6 (송정동)</td>\n",
       "      <td>1522-3232</td>\n",
       "    </tr>\n",
       "    <tr>\n",
       "      <th>...</th>\n",
       "      <td>...</td>\n",
       "      <td>...</td>\n",
       "      <td>...</td>\n",
       "    </tr>\n",
       "    <tr>\n",
       "      <th>59</th>\n",
       "      <td>상무치평</td>\n",
       "      <td>광주광역시 서구 상무자유로 173, 1층 (치평동)</td>\n",
       "      <td>1522-3232</td>\n",
       "    </tr>\n",
       "    <tr>\n",
       "      <th>60</th>\n",
       "      <td>상무역</td>\n",
       "      <td>광주광역시 서구 상무중앙로 7, 1층 (치평동)</td>\n",
       "      <td>1522-3232</td>\n",
       "    </tr>\n",
       "    <tr>\n",
       "      <th>61</th>\n",
       "      <td>신세계광주신관B1</td>\n",
       "      <td>광주광역시 서구 죽봉대로 61, 패션스트리트 B01호 (화정동)</td>\n",
       "      <td>1522-3232</td>\n",
       "    </tr>\n",
       "    <tr>\n",
       "      <th>62</th>\n",
       "      <td>광주풍암호수공원</td>\n",
       "      <td>광주광역시 서구 회재로 970 (풍암동)</td>\n",
       "      <td>1522-3232</td>\n",
       "    </tr>\n",
       "    <tr>\n",
       "      <th>63</th>\n",
       "      <td>서광주DT</td>\n",
       "      <td>광주광역시 서구 서광주로 23 (매월동)</td>\n",
       "      <td>1522-3232</td>\n",
       "    </tr>\n",
       "  </tbody>\n",
       "</table>\n",
       "<p>63 rows × 3 columns</p>\n",
       "</div>"
      ],
      "text/plain": [
       "         매장이름                                   주소       전화번호\n",
       "번호                                                           \n",
       "1      광주운남DT            광주광역시 광산구 임방울대로 156 (운남동)  1522-3232\n",
       "2      광주선운DT               광주광역시 광산구 선운로 20번길 63   1522-3232\n",
       "3      광주산정DT              광주광역시 광산구 용아로 342 (산정동)  1522-3232\n",
       "4      광주흑석DT              광주광역시 광산구 사암로 367 (산정동)  1522-3232\n",
       "5       광주송정역          광주광역시 광산구 상무대로205번길 6 (송정동)  1522-3232\n",
       "..        ...                                  ...        ...\n",
       "59       상무치평         광주광역시 서구 상무자유로 173, 1층 (치평동)  1522-3232\n",
       "60        상무역           광주광역시 서구 상무중앙로 7, 1층 (치평동)  1522-3232\n",
       "61  신세계광주신관B1  광주광역시 서구 죽봉대로 61, 패션스트리트 B01호 (화정동)  1522-3232\n",
       "62   광주풍암호수공원               광주광역시 서구 회재로 970 (풍암동)  1522-3232\n",
       "63      서광주DT               광주광역시 서구 서광주로 23 (매월동)  1522-3232\n",
       "\n",
       "[63 rows x 3 columns]"
      ]
     },
     "execution_count": 81,
     "metadata": {},
     "output_type": "execute_result"
    }
   ],
   "source": [
    "d = {\n",
    "    '번호':num,\n",
    "    '매장이름':a,\n",
    "    '주소':b,\n",
    "    '전화번호':c\n",
    "}\n",
    "df = pd.DataFrame(d)\n",
    "df.set_index('번호')"
   ]
  },
  {
   "cell_type": "code",
   "execution_count": 82,
   "id": "05bd7ae9",
   "metadata": {},
   "outputs": [],
   "source": [
    "df.to_csv(\"스타벅스.csv\",index=False, encoding='cp949')"
   ]
  },
  {
   "cell_type": "code",
   "execution_count": 83,
   "id": "37d2b55d",
   "metadata": {},
   "outputs": [],
   "source": [
    "url = 'https://www.starbucks.co.kr/menu/drink_list.do'\n",
    "driver = wb.Chrome()\n",
    "driver.get(url)"
   ]
  },
  {
   "cell_type": "code",
   "execution_count": 88,
   "id": "ceeab170",
   "metadata": {},
   "outputs": [],
   "source": [
    "driver.find_element(By.CSS_SELECTOR,'#container > div.content > div.product_result_wrap.product_result_wrap01 > div > dl > dt.dt2 > a').click()"
   ]
  },
  {
   "cell_type": "code",
   "execution_count": 89,
   "id": "ca74c411",
   "metadata": {},
   "outputs": [],
   "source": [
    "soup = bs(driver.page_source,'html.parser')"
   ]
  },
  {
   "cell_type": "code",
   "execution_count": 106,
   "id": "3ea0f858",
   "metadata": {},
   "outputs": [],
   "source": [
    "메뉴 = soup.select('tbody > tr > td:nth-child(1)')\n",
    "칼로리 = soup.select('tbody > tr > td:nth-child(2)')\n",
    "당류 = soup.select('tbody > tr > td:nth-child(3)')\n",
    "단백질 = soup.select('tbody > tr > td:nth-child(4)')\n",
    "나트륨 = soup.select('tbody > tr > td:nth-child(5)')\n",
    "포화지방 = soup.select('tbody > tr > td:nth-child(6)')\n",
    "카페인 = soup.select('tbody > tr > td:nth-child(7)')\n",
    "a = [i.text for i in 메뉴]\n",
    "b = [i.text for i in 칼로리]\n",
    "c = [i.text for i in 당류]\n",
    "d = [i.text for i in 단백질]\n",
    "e = [i.text for i in 나트륨]\n",
    "f = [i.text for i in 포화지방]\n",
    "g = [i.text for i in 카페인]\n",
    "num1 = [i for i in range(1,147)]"
   ]
  },
  {
   "cell_type": "code",
   "execution_count": 116,
   "id": "0f9ab818",
   "metadata": {},
   "outputs": [],
   "source": [
    "h = {\n",
    "    '번호':num1,\n",
    "    '메뉴':a,\n",
    "    '칼로리':b,\n",
    "    '당류':c,\n",
    "    '단백질':d,\n",
    "    '나트륨':e,\n",
    "    '포화지방':f,\n",
    "    '카페인':g\n",
    "}\n",
    "df = pd.DataFrame(h)\n",
    "df.set_index('번호')\n",
    "df.to_csv('스타벅스메뉴',encoding='utf-8',index=False)\n"
   ]
  },
  {
   "cell_type": "code",
   "execution_count": null,
   "id": "efdc8231",
   "metadata": {},
   "outputs": [],
   "source": []
  }
 ],
 "metadata": {
  "kernelspec": {
   "display_name": "Python 3 (ipykernel)",
   "language": "python",
   "name": "python3"
  },
  "language_info": {
   "codemirror_mode": {
    "name": "ipython",
    "version": 3
   },
   "file_extension": ".py",
   "mimetype": "text/x-python",
   "name": "python",
   "nbconvert_exporter": "python",
   "pygments_lexer": "ipython3",
   "version": "3.9.13"
  }
 },
 "nbformat": 4,
 "nbformat_minor": 5
}
