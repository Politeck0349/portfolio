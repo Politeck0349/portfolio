{
 "cells": [
  {
   "cell_type": "code",
   "execution_count": 1,
   "id": "ada7f9ad",
   "metadata": {},
   "outputs": [],
   "source": [
    "import requests as req\n",
    "from bs4 import BeautifulSoup as bs\n",
    "\n",
    "res = req.get('https://finance.naver.com/')\n",
    "soup = bs(res.text,'lxml')"
   ]
  },
  {
   "cell_type": "code",
   "execution_count": 9,
   "id": "09c37943",
   "metadata": {},
   "outputs": [
    {
     "data": {
      "text/plain": [
       "'다우산업(03.21)'"
      ]
     },
     "execution_count": 9,
     "metadata": {},
     "output_type": "execute_result"
    }
   ],
   "source": [
    "data = soup.select_one('div.aside_area.aside_stock > table > tbody > tr:nth-child(1) > th > a')\n",
    "data.text"
   ]
  },
  {
   "cell_type": "markdown",
   "id": "cfea62df",
   "metadata": {},
   "source": [
    "#### 네이버 쿠키런 케릭터 종류 가져오기"
   ]
  },
  {
   "cell_type": "code",
   "execution_count": 19,
   "id": "31f9cd62",
   "metadata": {},
   "outputs": [
    {
     "data": {
      "text/plain": [
       "'쿠키런: 킹덤'"
      ]
     },
     "execution_count": 19,
     "metadata": {},
     "output_type": "execute_result"
    }
   ],
   "source": [
    "keyword ='쿠키런 킹덤'\n",
    "res1 = req.get('https://search.naver.com/search.naver?query='+keyword)\n",
    "soup1 = bs(res1.text,'html.parser')\n",
    "data1 = soup1.select_one('#main_pack > section.sc_new.cs_common_module._cs_newgame.case_normal.color_8 > div.cm_top_wrap._sticky._custom_select._header > div.title_area.type_keep._title_area > h2 > span > strong')\n",
    "data1.text"
   ]
  },
  {
   "cell_type": "code",
   "execution_count": 60,
   "id": "12fb8335",
   "metadata": {},
   "outputs": [
    {
     "name": "stdout",
     "output_type": "stream",
     "text": [
      "감초맛 쿠키,공주맛 쿠키,구미호맛 쿠키,근육맛 쿠키,눈설탕맛 쿠키,닌자맛 쿠키,다크초코 쿠키,달토끼맛 쿠키,당근맛 쿠키,독버섯맛 쿠키,딸기맛 쿠키,딸기크레페맛 쿠키,라떼맛 쿠키,라일락맛 쿠키,라즈베리맛 쿠키,마들렌맛 쿠키,마라맛 쿠키,마법사맛 쿠키,망고맛 쿠키,목화맛 쿠키\n"
     ]
    }
   ],
   "source": [
    "#select (): 여러개의 선택자 요소를 가져올때\n",
    "##div.title_box > strong > a\n",
    "data2=soup1.select('div.title_box > strong > a')\n",
    "a_list = []\n",
    "for i in data2:\n",
    "    if '쿠키' in i.text:\n",
    "        a_list.append(i.text)\n",
    "    else:\n",
    "        continue\n",
    "print(','.join(a_list))"
   ]
  },
  {
   "cell_type": "code",
   "execution_count": 49,
   "id": "5822f863",
   "metadata": {},
   "outputs": [],
   "source": [
    "# import pandas as pd\n",
    "# df = pd.DataFrame({'cookie':'이름',\n",
    "#                   '키':a})\n",
    "# df = df.set_index('cookie')\n",
    "# df.to_csv('cookie.csv')"
   ]
  },
  {
   "cell_type": "code",
   "execution_count": 66,
   "id": "0a3297bc",
   "metadata": {},
   "outputs": [],
   "source": [
    "import pandas as pd\n",
    "from pandas import DataFrame\n",
    "df = pd.DataFrame(a,columns=['쿠키이름'])\n",
    "df.to_csv('cookie_name.csv',index = False, encoding='euc-kr')"
   ]
  },
  {
   "cell_type": "code",
   "execution_count": 67,
   "id": "e56764c8",
   "metadata": {},
   "outputs": [
    {
     "data": {
      "text/html": [
       "<div>\n",
       "<style scoped>\n",
       "    .dataframe tbody tr th:only-of-type {\n",
       "        vertical-align: middle;\n",
       "    }\n",
       "\n",
       "    .dataframe tbody tr th {\n",
       "        vertical-align: top;\n",
       "    }\n",
       "\n",
       "    .dataframe thead th {\n",
       "        text-align: right;\n",
       "    }\n",
       "</style>\n",
       "<table border=\"1\" class=\"dataframe\">\n",
       "  <thead>\n",
       "    <tr style=\"text-align: right;\">\n",
       "      <th></th>\n",
       "      <th>쿠키이름</th>\n",
       "    </tr>\n",
       "  </thead>\n",
       "  <tbody>\n",
       "    <tr>\n",
       "      <th>0</th>\n",
       "      <td>감초맛 쿠키</td>\n",
       "    </tr>\n",
       "    <tr>\n",
       "      <th>1</th>\n",
       "      <td>공주맛 쿠키</td>\n",
       "    </tr>\n",
       "    <tr>\n",
       "      <th>2</th>\n",
       "      <td>구미호맛 쿠키</td>\n",
       "    </tr>\n",
       "    <tr>\n",
       "      <th>3</th>\n",
       "      <td>근육맛 쿠키</td>\n",
       "    </tr>\n",
       "    <tr>\n",
       "      <th>4</th>\n",
       "      <td>눈설탕맛 쿠키</td>\n",
       "    </tr>\n",
       "    <tr>\n",
       "      <th>5</th>\n",
       "      <td>닌자맛 쿠키</td>\n",
       "    </tr>\n",
       "    <tr>\n",
       "      <th>6</th>\n",
       "      <td>다크초코 쿠키</td>\n",
       "    </tr>\n",
       "    <tr>\n",
       "      <th>7</th>\n",
       "      <td>달토끼맛 쿠키</td>\n",
       "    </tr>\n",
       "    <tr>\n",
       "      <th>8</th>\n",
       "      <td>당근맛 쿠키</td>\n",
       "    </tr>\n",
       "    <tr>\n",
       "      <th>9</th>\n",
       "      <td>독버섯맛 쿠키</td>\n",
       "    </tr>\n",
       "    <tr>\n",
       "      <th>10</th>\n",
       "      <td>딸기맛 쿠키</td>\n",
       "    </tr>\n",
       "    <tr>\n",
       "      <th>11</th>\n",
       "      <td>딸기크레페맛 쿠키</td>\n",
       "    </tr>\n",
       "    <tr>\n",
       "      <th>12</th>\n",
       "      <td>라떼맛 쿠키</td>\n",
       "    </tr>\n",
       "    <tr>\n",
       "      <th>13</th>\n",
       "      <td>라일락맛 쿠키</td>\n",
       "    </tr>\n",
       "    <tr>\n",
       "      <th>14</th>\n",
       "      <td>라즈베리맛 쿠키</td>\n",
       "    </tr>\n",
       "    <tr>\n",
       "      <th>15</th>\n",
       "      <td>마들렌맛 쿠키</td>\n",
       "    </tr>\n",
       "    <tr>\n",
       "      <th>16</th>\n",
       "      <td>마라맛 쿠키</td>\n",
       "    </tr>\n",
       "    <tr>\n",
       "      <th>17</th>\n",
       "      <td>마법사맛 쿠키</td>\n",
       "    </tr>\n",
       "    <tr>\n",
       "      <th>18</th>\n",
       "      <td>망고맛 쿠키</td>\n",
       "    </tr>\n",
       "    <tr>\n",
       "      <th>19</th>\n",
       "      <td>목화맛 쿠키</td>\n",
       "    </tr>\n",
       "  </tbody>\n",
       "</table>\n",
       "</div>"
      ],
      "text/plain": [
       "         쿠키이름\n",
       "0      감초맛 쿠키\n",
       "1      공주맛 쿠키\n",
       "2     구미호맛 쿠키\n",
       "3      근육맛 쿠키\n",
       "4     눈설탕맛 쿠키\n",
       "5      닌자맛 쿠키\n",
       "6     다크초코 쿠키\n",
       "7     달토끼맛 쿠키\n",
       "8      당근맛 쿠키\n",
       "9     독버섯맛 쿠키\n",
       "10     딸기맛 쿠키\n",
       "11  딸기크레페맛 쿠키\n",
       "12     라떼맛 쿠키\n",
       "13    라일락맛 쿠키\n",
       "14   라즈베리맛 쿠키\n",
       "15    마들렌맛 쿠키\n",
       "16     마라맛 쿠키\n",
       "17    마법사맛 쿠키\n",
       "18     망고맛 쿠키\n",
       "19     목화맛 쿠키"
      ]
     },
     "execution_count": 67,
     "metadata": {},
     "output_type": "execute_result"
    }
   ],
   "source": [
    "df"
   ]
  },
  {
   "cell_type": "code",
   "execution_count": 68,
   "id": "1288e4e4",
   "metadata": {},
   "outputs": [
    {
     "data": {
      "text/plain": [
       "<Response [406]>"
      ]
     },
     "execution_count": 68,
     "metadata": {},
     "output_type": "execute_result"
    }
   ],
   "source": [
    "res = req.get(\"https://www.melon.com/\")\n",
    "res #406 :요청거부"
   ]
  },
  {
   "cell_type": "code",
   "execution_count": 69,
   "id": "fa687c28",
   "metadata": {},
   "outputs": [],
   "source": [
    "#컴퓨터가 아닌 사람으로 속이는 작업(headers={User-Agent} : user-agent= 구글에서 가져오기)\n",
    "h={'User-Agent':'Mozilla/5.0 (Windows NT 10.0; Win64; x64) AppleWebKit/537.36 (KHTML, like Gecko) Chrome/111.0.0.0 Safari/537.36'}\n",
    "res = req.get(\"https://www.melon.com/\",headers=h)"
   ]
  },
  {
   "cell_type": "code",
   "execution_count": 70,
   "id": "b5a82f2a",
   "metadata": {},
   "outputs": [
    {
     "data": {
      "text/plain": [
       "<Response [200]>"
      ]
     },
     "execution_count": 70,
     "metadata": {},
     "output_type": "execute_result"
    }
   ],
   "source": [
    "res #성공 응답 200"
   ]
  },
  {
   "cell_type": "code",
   "execution_count": 87,
   "id": "1555e012",
   "metadata": {},
   "outputs": [
    {
     "name": "stdout",
     "output_type": "stream",
     "text": [
      "Ditto\n",
      "OMG\n",
      "Hype boy\n",
      "Teddy Bear\n",
      "사랑하기 싫어\n",
      "파이팅 해야지 (Feat. 이영지)\n",
      "사건의 지평선\n",
      "사랑은 늘 도망가\n",
      "심(心)\n",
      "I Don't Think That I Like Her\n",
      "I Don't Think That I Like Her\n",
      "NIGHT DANCER\n",
      "Dangerously\n",
      "That's Hilarious\n",
      "Unholy\n",
      "STAY\n",
      "Expectations\n",
      "Dreamers [Music from the FIFA World Cup Qatar 2022 Official Soundtrack] (Feat. FIFA Sound)\n",
      "Off My Face\n",
      "Left and Right (Feat. Jung Kook of BTS)\n"
     ]
    }
   ],
   "source": [
    "import requests as req\n",
    "from bs4 import BeautifulSoup as bs\n",
    "\n",
    "res = req.get(\"https://www.melon.com/\",headers=h)\n",
    "soup = bs(res.text,'html.parser')\n",
    "data4 = soup.select('p.song > a')\n",
    "for i in data4:\n",
    "    print(i.text)"
   ]
  },
  {
   "cell_type": "code",
   "execution_count": 95,
   "id": "3d905888",
   "metadata": {},
   "outputs": [
    {
     "data": {
      "text/plain": [
       "'장르 음악'"
      ]
     },
     "execution_count": 95,
     "metadata": {},
     "output_type": "execute_result"
    }
   ],
   "source": [
    "data5 = soup.select_one('.menu_bg.menu03') \n",
    "data5.text"
   ]
  },
  {
   "cell_type": "code",
   "execution_count": 103,
   "id": "7694009b",
   "metadata": {},
   "outputs": [
    {
     "name": "stdout",
     "output_type": "stream",
     "text": [
      "['Ditto', 'OMG', 'Hype boy', 'Teddy Bear', '사랑하기 싫어', '사건의 지평선', '파이팅 해야지 (Feat. 이영지)', '사랑은 늘 도망가', '심(心)', 'VIBE (feat. Jimin of BTS)', \"I Don't Think That I Like Her\", '우리들의 블루스', '다시 만날 수 있을까', 'CHRISTIAN', 'Attention', '나비무덤', 'London Boy', 'ANTIFRAGILE', 'Polaroid', '무지개', '이제 나만 믿어요', 'After LIKE', 'on the street (with J. Cole)', '아버지', 'A bientot', 'Nostalgia', '인생찬가', '손이 참 곱던 그대', '사랑해 진짜', '연애편지', 'LOVE DIVE', '사랑인가 봐', 'Candy', 'NIGHT DANCER', 'Set Me Free Pt.2', '보금자리', 'Dynamite', 'Dangerously', '건물 사이에 피어난 장미 (Rose Blossom)', 'Rush Hour (Feat. j-hope of BTS)', '봄날', '너의 모든 순간', 'Nxde', '너와 함께', 'Butter', 'Dreamers [Music from the FIFA World Cup Qatar 2022 Official Soundtrack] (Feat. FIFA Sound)', 'Monologue', '혼자가 아닌 나', \"That's Hilarious\", '결국엔 너에게 닿아서', '새삥 (Prod. ZICO) (Feat. 호미들)', 'Say I Love You', '사랑이라 믿었던 것들은 (Feat. 이수현)', '해요 (2022)', 'Sugar Rush Ride', 'Cookie', '취중고백', 'Unholy', 'Permission to Dance', 'Shut Down', 'STAY', 'That That (prod. & feat. SUGA of BTS)', '내가 아니라도', 'Poppy (Korean Ver.)', 'TOMBOY', '그때 그 순간 그대로 (그그그)', 'Pink Venom', 'NOT SORRY (Feat. pH-1) (Prod. by Slom)', 'Expectations', '그중에 그대를 만나', 'FEARLESS', '그라데이션', 'Left and Right (Feat. Jung Kook of BTS)', '다정히 내 이름을 부르면', '당신을 만나', '정이라고 하자 (Feat. 10CM)', '그대를 알고', '오르트구름', '마지막 사랑', '이젠 안녕', 'Yet To Come', '모든 날, 모든 순간 (Every day, Every Moment)', '너를 보는게 지친 하루에', 'ELEVEN', '네가 보고 싶은 건 자연스러운 거겠지', '나의 목소리로', '잘가요', '나의 X에게', '그댄 행복에 살텐데 (2022)', '그대라는 사치', 'Off My Face', '딱 10CM만', '되돌리다', 'Love Me Like This', '밤하늘의 별을(2020)', '자격지심 (Feat. ZICO)', 'LOVE me', '봄여름가을겨울 (Still Life)', '떠나보낼 준비해 둘걸 그랬어', '인생은 뷰티풀']\n"
     ]
    }
   ],
   "source": [
    "res = req.get('https://www.melon.com/chart/index.htm', headers=h)\n",
    "soup = bs(res.text,'html.parser')\n",
    "data6 = soup.select('div.ellipsis.rank01 > span > a')\n",
    "li = []\n",
    "for i in data6:\n",
    "    li.append(i.text)\n",
    "print(li)"
   ]
  },
  {
   "cell_type": "code",
   "execution_count": 110,
   "id": "1a9a4245",
   "metadata": {},
   "outputs": [],
   "source": [
    "df = pd.DataFrame(li,columns=['인기차트'])\n",
    "df.to_csv('music.csv',index = False, encoding='euc-kr')"
   ]
  },
  {
   "cell_type": "code",
   "execution_count": 112,
   "id": "ea4ad7ca",
   "metadata": {},
   "outputs": [
    {
     "data": {
      "text/html": [
       "<div>\n",
       "<style scoped>\n",
       "    .dataframe tbody tr th:only-of-type {\n",
       "        vertical-align: middle;\n",
       "    }\n",
       "\n",
       "    .dataframe tbody tr th {\n",
       "        vertical-align: top;\n",
       "    }\n",
       "\n",
       "    .dataframe thead th {\n",
       "        text-align: right;\n",
       "    }\n",
       "</style>\n",
       "<table border=\"1\" class=\"dataframe\">\n",
       "  <thead>\n",
       "    <tr style=\"text-align: right;\">\n",
       "      <th></th>\n",
       "      <th>인기차트</th>\n",
       "    </tr>\n",
       "  </thead>\n",
       "  <tbody>\n",
       "    <tr>\n",
       "      <th>0</th>\n",
       "      <td>Ditto</td>\n",
       "    </tr>\n",
       "    <tr>\n",
       "      <th>1</th>\n",
       "      <td>OMG</td>\n",
       "    </tr>\n",
       "    <tr>\n",
       "      <th>2</th>\n",
       "      <td>Hype boy</td>\n",
       "    </tr>\n",
       "    <tr>\n",
       "      <th>3</th>\n",
       "      <td>Teddy Bear</td>\n",
       "    </tr>\n",
       "    <tr>\n",
       "      <th>4</th>\n",
       "      <td>사랑하기 싫어</td>\n",
       "    </tr>\n",
       "    <tr>\n",
       "      <th>...</th>\n",
       "      <td>...</td>\n",
       "    </tr>\n",
       "    <tr>\n",
       "      <th>95</th>\n",
       "      <td>자격지심 (Feat. ZICO)</td>\n",
       "    </tr>\n",
       "    <tr>\n",
       "      <th>96</th>\n",
       "      <td>LOVE me</td>\n",
       "    </tr>\n",
       "    <tr>\n",
       "      <th>97</th>\n",
       "      <td>봄여름가을겨울 (Still Life)</td>\n",
       "    </tr>\n",
       "    <tr>\n",
       "      <th>98</th>\n",
       "      <td>떠나보낼 준비해 둘걸 그랬어</td>\n",
       "    </tr>\n",
       "    <tr>\n",
       "      <th>99</th>\n",
       "      <td>인생은 뷰티풀</td>\n",
       "    </tr>\n",
       "  </tbody>\n",
       "</table>\n",
       "<p>100 rows × 1 columns</p>\n",
       "</div>"
      ],
      "text/plain": [
       "                    인기차트\n",
       "0                  Ditto\n",
       "1                    OMG\n",
       "2               Hype boy\n",
       "3             Teddy Bear\n",
       "4                사랑하기 싫어\n",
       "..                   ...\n",
       "95     자격지심 (Feat. ZICO)\n",
       "96               LOVE me\n",
       "97  봄여름가을겨울 (Still Life)\n",
       "98       떠나보낼 준비해 둘걸 그랬어\n",
       "99               인생은 뷰티풀\n",
       "\n",
       "[100 rows x 1 columns]"
      ]
     },
     "execution_count": 112,
     "metadata": {},
     "output_type": "execute_result"
    }
   ],
   "source": [
    "df"
   ]
  },
  {
   "cell_type": "markdown",
   "id": "0f60bbc7",
   "metadata": {},
   "source": [
    "#### 네이버 상단 제목 가져오기"
   ]
  },
  {
   "cell_type": "code",
   "execution_count": 152,
   "id": "15b25e1a",
   "metadata": {},
   "outputs": [
    {
     "name": "stdout",
     "output_type": "stream",
     "text": [
      "<Response [200]>\n",
      "메일\n",
      "카페\n",
      "블로그\n",
      "지식iN\n",
      "쇼핑\n",
      "쇼핑LIVE\n",
      "Pay\n",
      "TV\n",
      "사전\n",
      "뉴스\n",
      "증권\n",
      "부동산\n",
      "지도\n",
      "VIBE\n",
      "도서\n",
      "웹툰\n"
     ]
    }
   ],
   "source": [
    "import requests as req\n",
    "from bs4 import BeautifulSoup as bs\n",
    "h={'User-Agent':'Mozilla/5.0 (Windows NT 10.0; Win64; x64) AppleWebKit/537.36 (KHTML, like Gecko) Chrome/111.0.0.0 Safari/537.36'}\n",
    "res = req.get('https://www.naver.com/', headers=h)\n",
    "print(res)\n",
    "soup = bs(res.content,'html.parser')\n",
    "data9 = soup.find_all('a','nav')\n",
    "for i in data9:\n",
    "    print(i.text)"
   ]
  },
  {
   "cell_type": "code",
   "execution_count": null,
   "id": "8804b615",
   "metadata": {},
   "outputs": [],
   "source": []
  }
 ],
 "metadata": {
  "kernelspec": {
   "display_name": "Python 3 (ipykernel)",
   "language": "python",
   "name": "python3"
  },
  "language_info": {
   "codemirror_mode": {
    "name": "ipython",
    "version": 3
   },
   "file_extension": ".py",
   "mimetype": "text/x-python",
   "name": "python",
   "nbconvert_exporter": "python",
   "pygments_lexer": "ipython3",
   "version": "3.9.13"
  }
 },
 "nbformat": 4,
 "nbformat_minor": 5
}
